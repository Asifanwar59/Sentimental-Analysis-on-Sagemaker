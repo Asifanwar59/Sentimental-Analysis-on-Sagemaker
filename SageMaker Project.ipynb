{
 "cells": [
  {
   "cell_type": "markdown",
   "metadata": {},
   "source": [
    "# Creating a Sentiment Analysis Web App\n",
    "## Using PyTorch and SageMaker\n",
    "\n",
    "_Deep Learning Nanodegree Program | Deployment_\n",
    "\n",
    "---\n",
    "\n",
    "Now that we have a basic understanding of how SageMaker works we will try to use it to construct a complete project from end to end. Our goal will be to have a simple web page which a user can use to enter a movie review. The web page will then send the review off to our deployed model which will predict the sentiment of the entered review.\n",
    "\n",
    "## Instructions\n",
    "\n",
    "Some template code has already been provided for you, and you will need to implement additional functionality to successfully complete this notebook. You will not need to modify the included code beyond what is requested. Sections that begin with '**TODO**' in the header indicate that you need to complete or implement some portion within them. Instructions will be provided for each section and the specifics of the implementation are marked in the code block with a `# TODO: ...` comment. Please be sure to read the instructions carefully!\n",
    "\n",
    "In addition to implementing code, there will be questions for you to answer which relate to the task and your implementation. Each section where you will answer a question is preceded by a '**Question:**' header. Carefully read each question and provide your answer below the '**Answer:**' header by editing the Markdown cell.\n",
    "\n",
    "> **Note**: Code and Markdown cells can be executed using the **Shift+Enter** keyboard shortcut. In addition, a cell can be edited by typically clicking it (double-click for Markdown cells) or by pressing **Enter** while it is highlighted.\n",
    "\n",
    "## General Outline\n",
    "\n",
    "Recall the general outline for SageMaker projects using a notebook instance.\n",
    "\n",
    "1. Download or otherwise retrieve the data.\n",
    "2. Process / Prepare the data.\n",
    "3. Upload the processed data to S3.\n",
    "4. Train a chosen model.\n",
    "5. Test the trained model (typically using a batch transform job).\n",
    "6. Deploy the trained model.\n",
    "7. Use the deployed model.\n",
    "\n",
    "For this project, you will be following the steps in the general outline with some modifications. \n",
    "\n",
    "First, you will not be testing the model in its own step. You will still be testing the model, however, you will do it by deploying your model and then using the deployed model by sending the test data to it. One of the reasons for doing this is so that you can make sure that your deployed model is working correctly before moving forward.\n",
    "\n",
    "In addition, you will deploy and use your trained model a second time. In the second iteration you will customize the way that your trained model is deployed by including some of your own code. In addition, your newly deployed model will be used in the sentiment analysis web app."
   ]
  },
  {
   "cell_type": "markdown",
   "metadata": {},
   "source": [
    "## Step 1: Downloading the data\n",
    "\n",
    "As in the XGBoost in SageMaker notebook, we will be using the [IMDb dataset](http://ai.stanford.edu/~amaas/data/sentiment/)\n",
    "\n",
    "> Maas, Andrew L., et al. [Learning Word Vectors for Sentiment Analysis](http://ai.stanford.edu/~amaas/data/sentiment/). In _Proceedings of the 49th Annual Meeting of the Association for Computational Linguistics: Human Language Technologies_. Association for Computational Linguistics, 2011."
   ]
  },
  {
   "cell_type": "code",
   "execution_count": 1,
   "metadata": {},
   "outputs": [
    {
     "name": "stdout",
     "output_type": "stream",
     "text": [
      "mkdir: cannot create directory ‘../data’: File exists\n",
      "--2019-02-20 08:02:16--  http://ai.stanford.edu/~amaas/data/sentiment/aclImdb_v1.tar.gz\n",
      "Resolving ai.stanford.edu (ai.stanford.edu)... 171.64.68.10\n",
      "Connecting to ai.stanford.edu (ai.stanford.edu)|171.64.68.10|:80... connected.\n",
      "HTTP request sent, awaiting response... 200 OK\n",
      "Length: 84125825 (80M) [application/x-gzip]\n",
      "Saving to: ‘../data/aclImdb_v1.tar.gz’\n",
      "\n",
      "../data/aclImdb_v1. 100%[===================>]  80.23M  24.3MB/s    in 3.8s    \n",
      "\n",
      "2019-02-20 08:02:20 (21.1 MB/s) - ‘../data/aclImdb_v1.tar.gz’ saved [84125825/84125825]\n",
      "\n"
     ]
    }
   ],
   "source": [
    "%mkdir ../data\n",
    "!wget -O ../data/aclImdb_v1.tar.gz http://ai.stanford.edu/~amaas/data/sentiment/aclImdb_v1.tar.gz\n",
    "!tar -zxf ../data/aclImdb_v1.tar.gz -C ../data"
   ]
  },
  {
   "cell_type": "markdown",
   "metadata": {},
   "source": [
    "## Step 2: Preparing and Processing the data\n",
    "\n",
    "Also, as in the XGBoost notebook, we will be doing some initial data processing. The first few steps are the same as in the XGBoost example. To begin with, we will read in each of the reviews and combine them into a single input structure. Then, we will split the dataset into a training set and a testing set."
   ]
  },
  {
   "cell_type": "code",
   "execution_count": 2,
   "metadata": {},
   "outputs": [],
   "source": [
    "import os\n",
    "import glob\n",
    "\n",
    "def read_imdb_data(data_dir='../data/aclImdb'):\n",
    "    data = {}\n",
    "    labels = {}\n",
    "    \n",
    "    for data_type in ['train', 'test']:\n",
    "        data[data_type] = {}\n",
    "        labels[data_type] = {}\n",
    "        \n",
    "        for sentiment in ['pos', 'neg']:\n",
    "            data[data_type][sentiment] = []\n",
    "            labels[data_type][sentiment] = []\n",
    "            \n",
    "            path = os.path.join(data_dir, data_type, sentiment, '*.txt')\n",
    "            files = glob.glob(path)\n",
    "            \n",
    "            for f in files:\n",
    "                with open(f) as review:\n",
    "                    data[data_type][sentiment].append(review.read())\n",
    "                    # Here we represent a positive review by '1' and a negative review by '0'\n",
    "                    labels[data_type][sentiment].append(1 if sentiment == 'pos' else 0)\n",
    "                    \n",
    "            assert len(data[data_type][sentiment]) == len(labels[data_type][sentiment]), \\\n",
    "                    \"{}/{} data size does not match labels size\".format(data_type, sentiment)\n",
    "                \n",
    "    return data, labels"
   ]
  },
  {
   "cell_type": "code",
   "execution_count": 3,
   "metadata": {},
   "outputs": [
    {
     "name": "stdout",
     "output_type": "stream",
     "text": [
      "IMDB reviews: train = 12500 pos / 12500 neg, test = 12500 pos / 12500 neg\n"
     ]
    }
   ],
   "source": [
    "data, labels = read_imdb_data()\n",
    "print(\"IMDB reviews: train = {} pos / {} neg, test = {} pos / {} neg\".format(\n",
    "            len(data['train']['pos']), len(data['train']['neg']),\n",
    "            len(data['test']['pos']), len(data['test']['neg'])))"
   ]
  },
  {
   "cell_type": "markdown",
   "metadata": {},
   "source": [
    "Now that we've read the raw training and testing data from the downloaded dataset, we will combine the positive and negative reviews and shuffle the resulting records."
   ]
  },
  {
   "cell_type": "code",
   "execution_count": 4,
   "metadata": {},
   "outputs": [],
   "source": [
    "from sklearn.utils import shuffle\n",
    "\n",
    "def prepare_imdb_data(data, labels):\n",
    "    \"\"\"Prepare training and test sets from IMDb movie reviews.\"\"\"\n",
    "    \n",
    "    #Combine positive and negative reviews and labels\n",
    "    data_train = data['train']['pos'] + data['train']['neg']\n",
    "    data_test = data['test']['pos'] + data['test']['neg']\n",
    "    labels_train = labels['train']['pos'] + labels['train']['neg']\n",
    "    labels_test = labels['test']['pos'] + labels['test']['neg']\n",
    "    \n",
    "    #Shuffle reviews and corresponding labels within training and test sets\n",
    "    data_train, labels_train = shuffle(data_train, labels_train)\n",
    "    data_test, labels_test = shuffle(data_test, labels_test)\n",
    "    \n",
    "    # Return a unified training data, test data, training labels, test labets\n",
    "    return data_train, data_test, labels_train, labels_test"
   ]
  },
  {
   "cell_type": "code",
   "execution_count": 5,
   "metadata": {},
   "outputs": [
    {
     "name": "stdout",
     "output_type": "stream",
     "text": [
      "IMDb reviews (combined): train = 25000, test = 25000\n"
     ]
    }
   ],
   "source": [
    "train_X, test_X, train_y, test_y = prepare_imdb_data(data, labels)\n",
    "print(\"IMDb reviews (combined): train = {}, test = {}\".format(len(train_X), len(test_X)))"
   ]
  },
  {
   "cell_type": "markdown",
   "metadata": {},
   "source": [
    "Now that we have our training and testing sets unified and prepared, we should do a quick check and see an example of the data our model will be trained on. This is generally a good idea as it allows you to see how each of the further processing steps affects the reviews and it also ensures that the data has been loaded correctly."
   ]
  },
  {
   "cell_type": "code",
   "execution_count": 6,
   "metadata": {},
   "outputs": [
    {
     "name": "stdout",
     "output_type": "stream",
     "text": [
      "The actors did a really good job playing their roles--particularly the mom. However, as the movie progressed I found I was watching it more for their acting and not because I cared in the least for the people. And, at times, I felt irritated by the irresponsible and hands-off approach to parenting displayed again and again. The daughter is a 17 year-old shallow skank whose main ambition in life is bedding famous men and becoming a dancing nyphette (complete with lots of \"booty shaking\"). The son is a guy with low self-esteem that seems very desperate for a relationship and friends--so much that he throws a drug party late in the film. The husband and wife are both bored, but rather than put energy into their stale relationship would rather seek out new partners (though the wife picks poorly, as the man she \"throws herself at\" happens to be gay---OOPS!). I just felt that ALL the characters needed to grow up and had a hard time caring for such shallow jerks. I think the author's attempt was to demonstrate the utter banality and hollowness of the capitalist system. However, given that these characters are NOT typical of the average western family, it seems disingenuous.\n",
      "0\n"
     ]
    }
   ],
   "source": [
    "print(train_X[100])\n",
    "print(train_y[100])"
   ]
  },
  {
   "cell_type": "markdown",
   "metadata": {},
   "source": [
    "The first step in processing the reviews is to make sure that any html tags that appear should be removed. In addition we wish to tokenize our input, that way words such as *entertained* and *entertaining* are considered the same with regard to sentiment analysis."
   ]
  },
  {
   "cell_type": "code",
   "execution_count": 7,
   "metadata": {},
   "outputs": [],
   "source": [
    "import nltk\n",
    "from nltk.corpus import stopwords\n",
    "from nltk.stem.porter import *\n",
    "\n",
    "import re\n",
    "from bs4 import BeautifulSoup\n",
    "\n",
    "def review_to_words(review):\n",
    "    nltk.download(\"stopwords\", quiet=True)\n",
    "    stemmer = PorterStemmer()\n",
    "    \n",
    "    text = BeautifulSoup(review, \"html.parser\").get_text() # Remove HTML tags\n",
    "    text = re.sub(r\"[^a-zA-Z0-9]\", \" \", text.lower()) # Convert to lower case\n",
    "    words = text.split() # Split string into words\n",
    "    words = [w for w in words if w not in stopwords.words(\"english\")] # Remove stopwords\n",
    "    words = [PorterStemmer().stem(w) for w in words] # stem\n",
    "    \n",
    "    return words"
   ]
  },
  {
   "cell_type": "markdown",
   "metadata": {},
   "source": [
    "The `review_to_words` method defined above uses `BeautifulSoup` to remove any html tags that appear and uses the `nltk` package to tokenize the reviews. As a check to ensure we know how everything is working, try applying `review_to_words` to one of the reviews in the training set."
   ]
  },
  {
   "cell_type": "code",
   "execution_count": 8,
   "metadata": {},
   "outputs": [
    {
     "name": "stdout",
     "output_type": "stream",
     "text": [
      "['actor', 'realli', 'good', 'job', 'play', 'role', 'particularli', 'mom', 'howev', 'movi', 'progress', 'found', 'watch', 'act', 'care', 'least', 'peopl', 'time', 'felt', 'irrit', 'irrespons', 'hand', 'approach', 'parent', 'display', 'daughter', '17', 'year', 'old', 'shallow', 'skank', 'whose', 'main', 'ambit', 'life', 'bed', 'famou', 'men', 'becom', 'danc', 'nyphett', 'complet', 'lot', 'booti', 'shake', 'son', 'guy', 'low', 'self', 'esteem', 'seem', 'desper', 'relationship', 'friend', 'much', 'throw', 'drug', 'parti', 'late', 'film', 'husband', 'wife', 'bore', 'rather', 'put', 'energi', 'stale', 'relationship', 'would', 'rather', 'seek', 'new', 'partner', 'though', 'wife', 'pick', 'poorli', 'man', 'throw', 'happen', 'gay', 'oop', 'felt', 'charact', 'need', 'grow', 'hard', 'time', 'care', 'shallow', 'jerk', 'think', 'author', 'attempt', 'demonstr', 'utter', 'banal', 'hollow', 'capitalist', 'system', 'howev', 'given', 'charact', 'typic', 'averag', 'western', 'famili', 'seem', 'disingenu']\n"
     ]
    }
   ],
   "source": [
    "# TODO: Apply review_to_words to a review (train_X[100] or any other review)\n",
    "'''\n",
    "test_review = \"This movie definitely  appeals to the average person because the story is so  simple but very  VERY  effective.\"\n",
    "\n",
    "test_predict = review_to_words(test_review)\n",
    "print (test_predict)\n",
    "'''\n",
    "\n",
    "#test_review = train_X[100]\n",
    "#print (test_review)\n",
    "test_reviewed = review_to_words(train_X[100])\n",
    "print (test_reviewed)"
   ]
  },
  {
   "cell_type": "markdown",
   "metadata": {},
   "source": [
    "**Question:** Above we mentioned that `review_to_words` method removes html formatting and allows us to tokenize the words found in a review, for example, converting *entertained* and *entertaining* into *entertain* so that they are treated as though they are the same word. What else, if anything, does this method do to the input?"
   ]
  },
  {
   "cell_type": "markdown",
   "metadata": {},
   "source": [
    "**Answer:** In addition to removing the html formatting and tokenizing the words, this method removes the words that do not serve any meaning in predicting the review. Example: \"the\", \"I\" and so on."
   ]
  },
  {
   "cell_type": "markdown",
   "metadata": {},
   "source": [
    "The method below applies the `review_to_words` method to each of the reviews in the training and testing datasets. In addition it caches the results. This is because performing this processing step can take a long time. This way if you are unable to complete the notebook in the current session, you can come back without needing to process the data a second time."
   ]
  },
  {
   "cell_type": "code",
   "execution_count": 9,
   "metadata": {},
   "outputs": [],
   "source": [
    "import pickle\n",
    "\n",
    "cache_dir = os.path.join(\"../cache\", \"sentiment_analysis\")  # where to store cache files\n",
    "os.makedirs(cache_dir, exist_ok=True)  # ensure cache directory exists\n",
    "\n",
    "def preprocess_data(data_train, data_test, labels_train, labels_test,\n",
    "                    cache_dir=cache_dir, cache_file=\"preprocessed_data.pkl\"):\n",
    "    \"\"\"Convert each review to words; read from cache if available.\"\"\"\n",
    "\n",
    "    # If cache_file is not None, try to read from it first\n",
    "    cache_data = None\n",
    "    if cache_file is not None:\n",
    "        try:\n",
    "            with open(os.path.join(cache_dir, cache_file), \"rb\") as f:\n",
    "                cache_data = pickle.load(f)\n",
    "            print(\"Read preprocessed data from cache file:\", cache_file)\n",
    "        except:\n",
    "            pass  # unable to read from cache, but that's okay\n",
    "    \n",
    "    # If cache is missing, then do the heavy lifting\n",
    "    if cache_data is None:\n",
    "        # Preprocess training and test data to obtain words for each review\n",
    "        #words_train = list(map(review_to_words, data_train))\n",
    "        #words_test = list(map(review_to_words, data_test))\n",
    "        words_train = [review_to_words(review) for review in data_train]\n",
    "        words_test = [review_to_words(review) for review in data_test]\n",
    "        \n",
    "        # Write to cache file for future runs\n",
    "        if cache_file is not None:\n",
    "            cache_data = dict(words_train=words_train, words_test=words_test,\n",
    "                              labels_train=labels_train, labels_test=labels_test)\n",
    "            with open(os.path.join(cache_dir, cache_file), \"wb\") as f:\n",
    "                pickle.dump(cache_data, f)\n",
    "            print(\"Wrote preprocessed data to cache file:\", cache_file)\n",
    "    else:\n",
    "        # Unpack data loaded from cache file\n",
    "        words_train, words_test, labels_train, labels_test = (cache_data['words_train'],\n",
    "                cache_data['words_test'], cache_data['labels_train'], cache_data['labels_test'])\n",
    "    \n",
    "    return words_train, words_test, labels_train, labels_test"
   ]
  },
  {
   "cell_type": "code",
   "execution_count": 10,
   "metadata": {},
   "outputs": [
    {
     "name": "stdout",
     "output_type": "stream",
     "text": [
      "Read preprocessed data from cache file: preprocessed_data.pkl\n"
     ]
    }
   ],
   "source": [
    "# Preprocess data\n",
    "train_X, test_X, train_y, test_y = preprocess_data(train_X, test_X, train_y, test_y)"
   ]
  },
  {
   "cell_type": "markdown",
   "metadata": {},
   "source": [
    "## Transform the data\n",
    "\n",
    "In the XGBoost notebook we transformed the data from its word representation to a bag-of-words feature representation. For the model we are going to construct in this notebook we will construct a feature representation which is very similar. To start, we will represent each word as an integer. Of course, some of the words that appear in the reviews occur very infrequently and so likely don't contain much information for the purposes of sentiment analysis. The way we will deal with this problem is that we will fix the size of our working vocabulary and we will only include the words that appear most frequently. We will then combine all of the infrequent words into a single category and, in our case, we will label it as `1`.\n",
    "\n",
    "Since we will be using a recurrent neural network, it will be convenient if the length of each review is the same. To do this, we will fix a size for our reviews and then pad short reviews with the category 'no word' (which we will label `0`) and truncate long reviews."
   ]
  },
  {
   "cell_type": "markdown",
   "metadata": {},
   "source": [
    "### (TODO) Create a word dictionary\n",
    "\n",
    "To begin with, we need to construct a way to map words that appear in the reviews to integers. Here we fix the size of our vocabulary (including the 'no word' and 'infrequent' categories) to be `5000` but you may wish to change this to see how it affects the model.\n",
    "\n",
    "> **TODO:** Complete the implementation for the `build_dict()` method below. Note that even though the vocab_size is set to `5000`, we only want to construct a mapping for the most frequently appearing `4998` words. This is because we want to reserve the special labels `0` for 'no word' and `1` for 'infrequent word'."
   ]
  },
  {
   "cell_type": "code",
   "execution_count": 11,
   "metadata": {},
   "outputs": [],
   "source": [
    "import numpy as np\n",
    "import itertools\n",
    "from sklearn.feature_extraction.text import CountVectorizer\n",
    "from sklearn.externals import joblib\n",
    "\n",
    "\n",
    "def build_dict(data, vocab_size = 5000):\n",
    "    \"\"\"Construct and return a dictionary mapping each of the most frequently appearing words to a unique integer.\"\"\"\n",
    "    \n",
    "    # TODO: Determine how often each word appears in `data`. Note that `data` is a list of sentences and that a\n",
    "    #       sentence is a list of words.\n",
    "\n",
    "    # Fit a vectorizer to training documents and use it to transform them\n",
    "    # NOTE: Training documents have already been preprocessed and tokenized into words;\n",
    "    #       pass in dummy functions to skip those steps, e.g. preprocessor=lambda x: x\n",
    "    vectorizer = CountVectorizer(max_features=(vocab_size),\n",
    "            preprocessor=lambda x: x, tokenizer=lambda x: x)  # already preprocessed\n",
    "\n",
    "    features_train = vectorizer.fit_transform(data)\n",
    "    word_count = vectorizer.vocabulary_ # A dict storing the words that appear in the reviews along with how often they occur\n",
    "    #print (word_count)\n",
    "    \n",
    "    # TODO: Sort the words found in `data` so that sorted_words[0] is the most frequently appearing word and\n",
    "    #       sorted_words[-1] is the least frequently appearing word.\n",
    "    sorted_words = sorted(word_count, reverse=True)\n",
    "    print (\"sorted_words[0]:\", sorted_words[0])\n",
    "    print (\"sorted_words[-1]:\", sorted_words[-1])\n",
    "    \n",
    "    word_dict = {} #vectorizer.fit_transform(sorted_words).toarray()\n",
    "    #print (word_dict)\n",
    "    #word_dict = {} # This is what we are building, a dictionary that translates words into integers\n",
    "    for idx, word in enumerate(sorted_words[:vocab_size - 2]): # The -2 is so that we save room for the 'no word'\n",
    "        word_dict[word] = idx + 2                              # 'infrequent' labels\n",
    "    \n",
    "    print (word_dict)\n",
    "    return word_dict"
   ]
  },
  {
   "cell_type": "code",
   "execution_count": 12,
   "metadata": {},
   "outputs": [
    {
     "name": "stdout",
     "output_type": "stream",
     "text": [
      "sorted_words[0]: zoom\n",
      "sorted_words[-1]: 0\n",
      "{'zoom': 2, 'zone': 3, 'zombi': 4, 'zizek': 5, 'zero': 6, 'zane': 7, 'z': 8, 'youth': 9, 'youngest': 10, 'younger': 11, 'young': 12, 'york': 13, 'yeti': 14, 'yet': 15, 'yesterday': 16, 'yellow': 17, 'yell': 18, 'yearn': 19, 'year': 20, 'yeah': 21, 'ye': 22, 'yawn': 23, 'yard': 24, 'ya': 25, 'x': 26, 'www': 27, 'wwii': 28, 'wwe': 29, 'wtf': 30, 'wrote': 31, 'wrong': 32, 'written': 33, 'writer': 34, 'write': 35, 'wretch': 36, 'wrestler': 37, 'wrestl': 38, 'wrench': 39, 'wreck': 40, 'wrap': 41, 'wow': 42, 'wound': 43, 'would': 44, 'worthwhil': 45, 'worthless': 46, 'worthi': 47, 'worth': 48, 'worst': 49, 'worship': 50, 'wors': 51, 'worri': 52, 'worn': 53, 'worm': 54, 'world': 55, 'worker': 56, 'work': 57, 'wore': 58, 'word': 59, 'woodi': 60, 'wooden': 61, 'wood': 62, 'woo': 63, 'wont': 64, 'wonder': 65, 'women': 66, 'woman': 67, 'wolf': 68, 'wizard': 69, 'wive': 70, 'witti': 71, 'without': 72, 'within': 73, 'witch': 74, 'wit': 75, 'wish': 76, 'wise': 77, 'wisdom': 78, 'wire': 79, 'wipe': 80, 'winter': 81, 'winner': 82, 'wing': 83, 'window': 84, 'wind': 85, 'winchest': 86, 'win': 87, 'wilson': 88, 'william': 89, 'willi': 90, 'will': 91, 'wildli': 92, 'wilder': 93, 'wild': 94, 'wig': 95, 'wife': 96, 'wield': 97, 'widow': 98, 'widmark': 99, 'widescreen': 100, 'wide': 101, 'wick': 102, 'whose': 103, 'whore': 104, 'whoopi': 105, 'wholli': 106, 'whole': 107, 'whoever': 108, 'white': 109, 'whip': 110, 'whine': 111, 'whilst': 112, 'whether': 113, 'wherea': 114, 'whenev': 115, 'wheel': 116, 'whatsoev': 117, 'whatev': 118, 'what': 119, 'whale': 120, 'whack': 121, 'wet': 122, 'western': 123, 'west': 124, 'werewolf': 125, 'went': 126, 'wendigo': 127, 'wendi': 128, 'well': 129, 'welcom': 130, 'weird': 131, 'weight': 132, 'weekend': 133, 'week': 134, 'wed': 135, 'websit': 136, 'web': 137, 'weav': 138, 'weather': 139, 'weari': 140, 'wear': 141, 'weapon': 142, 'wealthi': 143, 'wealth': 144, 'weakest': 145, 'weaker': 146, 'weak': 147, 'we': 148, 'wayn': 149, 'way': 150, 'wax': 151, 'wave': 152, 'watson': 153, 'water': 154, 'watcher': 155, 'watchabl': 156, 'watch': 157, 'wast': 158, 'washington': 159, 'wash': 160, 'warrior': 161, 'warren': 162, 'warrant': 163, 'warner': 164, 'warn': 165, 'warmth': 166, 'warm': 167, 'wardrob': 168, 'ward': 169, 'war': 170, 'want': 171, 'wannab': 172, 'wanna': 173, 'wang': 174, 'wander': 175, 'walter': 176, 'walt': 177, 'walsh': 178, 'wallac': 179, 'wall': 180, 'walker': 181, 'walken': 182, 'walk': 183, 'wake': 184, 'waitress': 185, 'wait': 186, 'wagner': 187, 'wacki': 188, 'w': 189, 'vulner': 190, 'vulgar': 191, 'vs': 192, 'voyag': 193, 'vote': 194, 'von': 195, 'vomit': 196, 'volum': 197, 'voight': 198, 'voic': 199, 'vocal': 200, 'vivid': 201, 'vital': 202, 'visual': 203, 'visitor': 204, 'visit': 205, 'vision': 206, 'visibl': 207, 'viru': 208, 'virtual': 209, 'virtu': 210, 'virginia': 211, 'virgin': 212, 'violent': 213, 'violenc': 214, 'vincent': 215, 'villain': 216, 'villag': 217, 'vile': 218, 'vignett': 219, 'viewpoint': 220, 'viewer': 221, 'view': 222, 'vietnam': 223, 'video': 224, 'victorian': 225, 'victoria': 226, 'victori': 227, 'victor': 228, 'victim': 229, 'viciou': 230, 'vice': 231, 'vibrant': 232, 'via': 233, 'vh': 234, 'veteran': 235, 'vet': 236, 'versu': 237, 'version': 238, 'verhoeven': 239, 'verg': 240, 'verbal': 241, 'ventur': 242, 'venom': 243, 'vengeanc': 244, 'vein': 245, 'vehicl': 246, 'vega': 247, 'vastli': 248, 'vast': 249, 'variou': 250, 'varieti': 251, 'variat': 252, 'vari': 253, 'vaniti': 254, 'vanish': 255, 'vanessa': 256, 'vanc': 257, 'van': 258, 'vampir': 259, 'valuabl': 260, 'valu': 261, 'valley': 262, 'valid': 263, 'valentin': 264, 'vain': 265, 'vagu': 266, 'vader': 267, 'vacat': 268, 'v': 269, 'uwe': 270, 'utterli': 271, 'utter': 272, 'util': 273, 'usual': 274, 'ustinov': 275, 'user': 276, 'useless': 277, 'use': 278, 'usa': 279, 'us': 280, 'urg': 281, 'urban': 282, 'upset': 283, 'upper': 284, 'upon': 285, 'uplift': 286, 'updat': 287, 'up': 288, 'unwatch': 289, 'unusu': 290, 'unsuspect': 291, 'unsettl': 292, 'unseen': 293, 'unsatisfi': 294, 'unrel': 295, 'unrealist': 296, 'unreal': 297, 'unravel': 298, 'unpredict': 299, 'unpleas': 300, 'unorigin': 301, 'unnecessari': 302, 'unlik': 303, 'unless': 304, 'unleash': 305, 'unknown': 306, 'univers': 307, 'unit': 308, 'uniqu': 309, 'union': 310, 'uninterest': 311, 'unintent': 312, 'uninspir': 313, 'unimagin': 314, 'uniformli': 315, 'uniform': 316, 'unhappi': 317, 'unfunni': 318, 'unfortun': 319, 'unforgett': 320, 'unfold': 321, 'unfair': 322, 'unexplain': 323, 'unexpectedli': 324, 'unexpect': 325, 'uneven': 326, 'undoubtedli': 327, 'underworld': 328, 'undertak': 329, 'understood': 330, 'understand': 331, 'underst': 332, 'underr': 333, 'underneath': 334, 'undermin': 335, 'underli': 336, 'underground': 337, 'undeni': 338, 'undead': 339, 'uncut': 340, 'uncov': 341, 'unconvinc': 342, 'uncomfort': 343, 'uncl': 344, 'unbeliev': 345, 'unbear': 346, 'unawar': 347, 'unattract': 348, 'unabl': 349, 'un': 350, 'uma': 351, 'ultra': 352, 'ultim': 353, 'uk': 354, 'uh': 355, 'ugli': 356, 'u': 357, 'typic': 358, 'type': 359, 'tyler': 360, 'two': 361, 'twist': 362, 'twin': 363, 'twilight': 364, 'twice': 365, 'twenti': 366, 'twelv': 367, 'tv': 368, 'turtl': 369, 'turner': 370, 'turn': 371, 'turkey': 372, 'turd': 373, 'tunnel': 374, 'tune': 375, 'tube': 376, 'truth': 377, 'trust': 378, 'truman': 379, 'truli': 380, 'true': 381, 'truck': 382, 'troubl': 383, 'troop': 384, 'trivia': 385, 'triumph': 386, 'trite': 387, 'tripl': 388, 'tripe': 389, 'trip': 390, 'trio': 391, 'trilog': 392, 'trigger': 393, 'trier': 394, 'trick': 395, 'tribut': 396, 'tribe': 397, 'triangl': 398, 'trial': 399, 'tri': 400, 'trend': 401, 'tremend': 402, 'trek': 403, 'tree': 404, 'treatment': 405, 'treat': 406, 'treasur': 407, 'travesti': 408, 'travel': 409, 'traumat': 410, 'trauma': 411, 'trashi': 412, 'trash': 413, 'trap': 414, 'transport': 415, 'transplant': 416, 'translat': 417, 'transit': 418, 'transform': 419, 'transfer': 420, 'transcend': 421, 'trait': 422, 'train': 423, 'trailer': 424, 'trail': 425, 'tragic': 426, 'tragedi': 427, 'traffic': 428, 'tradit': 429, 'trademark': 430, 'trade': 431, 'track': 432, 'traci': 433, 'trace': 434, 'toy': 435, 'town': 436, 'tower': 437, 'toward': 438, 'tourist': 439, 'tour': 440, 'tough': 441, 'touch': 442, 'total': 443, 'toss': 444, 'tortur': 445, 'toronto': 446, 'torn': 447, 'torment': 448, 'topless': 449, 'topic': 450, 'top': 451, 'tooth': 452, 'tool': 453, 'took': 454, 'tonight': 455, 'toni': 456, 'tongu': 457, 'tone': 458, 'ton': 459, 'tomorrow': 460, 'tommi': 461, 'tomato': 462, 'tom': 463, 'toler': 464, 'told': 465, 'tokyo': 466, 'token': 467, 'toilet': 468, 'togeth': 469, 'toe': 470, 'todd': 471, 'today': 472, 'titl': 473, 'titan': 474, 'tiresom': 475, 'tire': 476, 'tip': 477, 'tini': 478, 'timothi': 479, 'timon': 480, 'timeless': 481, 'time': 482, 'timberlak': 483, 'tim': 484, 'till': 485, 'tight': 486, 'tiger': 487, 'tierney': 488, 'tie': 489, 'ticket': 490, 'tick': 491, 'thunderbird': 492, 'thumb': 493, 'thug': 494, 'thu': 495, 'thru': 496, 'thrown': 497, 'throw': 498, 'throughout': 499, 'throat': 500, 'thriller': 501, 'thrill': 502, 'threw': 503, 'three': 504, 'threaten': 505, 'threat': 506, 'thread': 507, 'thousand': 508, 'thought': 509, 'though': 510, 'thoroughli': 511, 'thompson': 512, 'thoma': 513, 'thirti': 514, 'third': 515, 'think': 516, 'thing': 517, 'thin': 518, 'thief': 519, 'thick': 520, 'therefor': 521, 'theori': 522, 'theme': 523, 'theatric': 524, 'theatr': 525, 'theater': 526, 'that': 527, 'thank': 528, 'text': 529, 'texa': 530, 'testament': 531, 'test': 532, 'terrorist': 533, 'terror': 534, 'territori': 535, 'terrifi': 536, 'terrif': 537, 'terribl': 538, 'terri': 539, 'termin': 540, 'term': 541, 'tension': 542, 'tens': 543, 'tender': 544, 'tendenc': 545, 'tend': 546, 'tenant': 547, 'ten': 548, 'tempt': 549, 'templ': 550, 'temper': 551, 'tell': 552, 'televis': 553, 'teeth': 554, 'teenag': 555, 'teen': 556, 'tediou': 557, 'ted': 558, 'technolog': 559, 'techniqu': 560, 'technicolor': 561, 'technic': 562, 'tech': 563, 'teas': 564, 'tear': 565, 'team': 566, 'teacher': 567, 'teach': 568, 'tea': 569, 'taylor': 570, 'taxi': 571, 'tax': 572, 'taught': 573, 'tasteless': 574, 'tast': 575, 'task': 576, 'tarzan': 577, 'target': 578, 'tarantino': 579, 'tara': 580, 'tape': 581, 'tap': 582, 'tank': 583, 'tame': 584, 'tall': 585, 'talki': 586, 'talk': 587, 'talent': 588, 'tale': 589, 'taken': 590, 'take': 591, 'tail': 592, 'tag': 593, 'tad': 594, 'tactic': 595, 'tackl': 596, 'tacki': 597, 'tack': 598, 'taboo': 599, 'tabl': 600, 'system': 601, 'synopsi': 602, 'sympathi': 603, 'sympathet': 604, 'sympath': 605, 'symbol': 606, 'sword': 607, 'switch': 608, 'swing': 609, 'swim': 610, 'swept': 611, 'sweet': 612, 'sweep': 613, 'swedish': 614, 'sweat': 615, 'swear': 616, 'swallow': 617, 'sutherland': 618, 'sustain': 619, 'suspicion': 620, 'suspici': 621, 'suspens': 622, 'suspend': 623, 'suspect': 624, 'susan': 625, 'survivor': 626, 'surviv': 627, 'surround': 628, 'surreal': 629, 'surprisingli': 630, 'surpris': 631, 'surpass': 632, 'surgeri': 633, 'surfac': 634, 'surf': 635, 'sure': 636, 'suprem': 637, 'supposedli': 638, 'suppos': 639, 'support': 640, 'suppli': 641, 'supernatur': 642, 'superman': 643, 'superior': 644, 'superhero': 645, 'superfici': 646, 'superbl': 647, 'superb': 648, 'super': 649, 'sunshin': 650, 'sunni': 651, 'sung': 652, 'sunday': 653, 'sun': 654, 'summer': 655, 'summari': 656, 'summar': 657, 'sum': 658, 'sullivan': 659, 'suitabl': 660, 'suit': 661, 'suicid': 662, 'suggest': 663, 'sugar': 664, 'suffici': 665, 'suffic': 666, 'suffer': 667, 'sue': 668, 'suddenli': 669, 'sudden': 670, 'sucker': 671, 'suck': 672, 'success': 673, 'succeed': 674, 'succe': 675, 'subtli': 676, 'subtleti': 677, 'subtl': 678, 'subtitl': 679, 'substitut': 680, 'substanc': 681, 'subsequ': 682, 'subplot': 683, 'submit': 684, 'sublim': 685, 'subject': 686, 'sub': 687, 'styliz': 688, 'stylish': 689, 'style': 690, 'stupid': 691, 'stunt': 692, 'stun': 693, 'stumbl': 694, 'stuff': 695, 'studio': 696, 'studi': 697, 'student': 698, 'stuck': 699, 'stuart': 700, 'struggl': 701, 'structur': 702, 'struck': 703, 'strongli': 704, 'strongest': 705, 'stronger': 706, 'strong': 707, 'stroke': 708, 'strive': 709, 'strip': 710, 'string': 711, 'strike': 712, 'strictli': 713, 'stretch': 714, 'stress': 715, 'strength': 716, 'streisand': 717, 'street': 718, 'streep': 719, 'stream': 720, 'stranger': 721, 'strang': 722, 'strand': 723, 'strain': 724, 'straightforward': 725, 'straight': 726, 'storytel': 727, 'storylin': 728, 'storm': 729, 'stori': 730, 'store': 731, 'stop': 732, 'stoog': 733, 'stood': 734, 'stone': 735, 'stomach': 736, 'stolen': 737, 'stole': 738, 'stock': 739, 'stir': 740, 'stinker': 741, 'stink': 742, 'stimul': 743, 'stilt': 744, 'stiller': 745, 'still': 746, 'stiff': 747, 'stick': 748, 'stewart': 749, 'steven': 750, 'steve': 751, 'stereotyp': 752, 'stephen': 753, 'step': 754, 'stellar': 755, 'steer': 756, 'steel': 757, 'steam': 758, 'steal': 759, 'steadi': 760, 'stay': 761, 'statu': 762, 'station': 763, 'static': 764, 'statement': 765, 'state': 766, 'startl': 767, 'start': 768, 'stark': 769, 'stargat': 770, 'stare': 771, 'star': 772, 'stanwyck': 773, 'stanley': 774, 'standout': 775, 'standard': 776, 'stand': 777, 'stan': 778, 'stallon': 779, 'stalker': 780, 'stalk': 781, 'stale': 782, 'stake': 783, 'stair': 784, 'stage': 785, 'staff': 786, 'stack': 787, 'stab': 788, 'st': 789, 'squar': 790, 'squad': 791, 'springer': 792, 'spring': 793, 'spree': 794, 'spread': 795, 'spray': 796, 'spot': 797, 'sport': 798, 'spooki': 799, 'spoof': 800, 'spontan': 801, 'spoken': 802, 'spoke': 803, 'spoiler': 804, 'spoil': 805, 'spock': 806, 'split': 807, 'splendid': 808, 'splatter': 809, 'spite': 810, 'spit': 811, 'spiritu': 812, 'spirit': 813, 'spiral': 814, 'spine': 815, 'spinal': 816, 'spin': 817, 'spill': 818, 'spike': 819, 'spielberg': 820, 'spider': 821, 'spice': 822, 'spi': 823, 'spent': 824, 'spend': 825, 'spell': 826, 'speed': 827, 'speech': 828, 'spectacular': 829, 'spectacl': 830, 'specif': 831, 'special': 832, 'speci': 833, 'speak': 834, 'spawn': 835, 'sparkl': 836, 'spark': 837, 'spare': 838, 'spanish': 839, 'span': 840, 'spain': 841, 'spade': 842, 'spacey': 843, 'space': 844, 'sox': 845, 'soviet': 846, 'southern': 847, 'south': 848, 'sourc': 849, 'soup': 850, 'soundtrack': 851, 'sound': 852, 'soul': 853, 'sort': 854, 'sorrow': 855, 'sorri': 856, 'sore': 857, 'soprano': 858, 'sophist': 859, 'sooner': 860, 'soon': 861, 'song': 862, 'son': 863, 'somewher': 864, 'somewhat': 865, 'sometim': 866, 'someth': 867, 'someon': 868, 'somehow': 869, 'someday': 870, 'somebodi': 871, 'solv': 872, 'solut': 873, 'solo': 874, 'solid': 875, 'sole': 876, 'soldier': 877, 'sold': 878, 'soft': 879, 'soderbergh': 880, 'societi': 881, 'social': 882, 'soccer': 883, 'soap': 884, 'snow': 885, 'snl': 886, 'sniper': 887, 'sneak': 888, 'snatch': 889, 'snap': 890, 'snake': 891, 'smooth': 892, 'smoke': 893, 'smith': 894, 'smile': 895, 'smell': 896, 'smash': 897, 'smart': 898, 'smaller': 899, 'small': 900, 'smack': 901, 'slug': 902, 'slowli': 903, 'slow': 904, 'sloppi': 905, 'slip': 906, 'slimi': 907, 'slightli': 908, 'slightest': 909, 'slight': 910, 'slide': 911, 'slick': 912, 'slice': 913, 'sleepwalk': 914, 'sleep': 915, 'sleazi': 916, 'sleaz': 917, 'slave': 918, 'slaughter': 919, 'slasher': 920, 'slash': 921, 'slapstick': 922, 'slap': 923, 'slam': 924, 'sky': 925, 'skull': 926, 'skit': 927, 'skip': 928, 'skin': 929, 'skill': 930, 'sketch': 931, 'skeptic': 932, 'size': 933, 'sixti': 934, 'six': 935, 'situat': 936, 'site': 937, 'sitcom': 938, 'sit': 939, 'sister': 940, 'sissi': 941, 'sirk': 942, 'sir': 943, 'sink': 944, 'sinist': 945, 'singl': 946, 'singer': 947, 'sing': 948, 'sincer': 949, 'sinc': 950, 'sinatra': 951, 'sin': 952, 'simultan': 953, 'simpson': 954, 'simplist': 955, 'simplic': 956, 'simpli': 957, 'simpl': 958, 'simon': 959, 'simmon': 960, 'similarli': 961, 'similar': 962, 'silver': 963, 'silli': 964, 'silent': 965, 'silenc': 966, 'signific': 967, 'signal': 968, 'sign': 969, 'sight': 970, 'sidney': 971, 'sidewalk': 972, 'sidekick': 973, 'side': 974, 'sid': 975, 'sicken': 976, 'sick': 977, 'sibl': 978, 'shut': 979, 'shred': 980, 'shown': 981, 'shower': 982, 'showdown': 983, 'showcas': 984, 'show': 985, 'shove': 986, 'shout': 987, 'shoulder': 988, 'shot': 989, 'shortli': 990, 'shorter': 991, 'shortcom': 992, 'short': 993, 'shop': 994, 'shootout': 995, 'shoot': 996, 'shoe': 997, 'shoddi': 998, 'shock': 999, 'shirt': 1000, 'shirley': 1001, 'ship': 1002, 'shine': 1003, 'shift': 1004, 'shield': 1005, 'shi': 1006, 'sheriff': 1007, 'shepherd': 1008, 'shelley': 1009, 'shell': 1010, 'shelf': 1011, 'sheet': 1012, 'sheer': 1013, 'shed': 1014, 'shaw': 1015, 'shatter': 1016, 'sharp': 1017, 'sharon': 1018, 'shark': 1019, 'share': 1020, 'shape': 1021, 'shanghai': 1022, 'shame': 1023, 'shallow': 1024, 'shall': 1025, 'shaki': 1026, 'shakespear': 1027, 'shake': 1028, 'shadow': 1029, 'shade': 1030, 'sh': 1031, 'sexual': 1032, 'sexi': 1033, 'sex': 1034, 'sever': 1035, 'seventi': 1036, 'seven': 1037, 'setup': 1038, 'settl': 1039, 'set': 1040, 'session': 1041, 'servic': 1042, 'servant': 1043, 'serv': 1044, 'serious': 1045, 'seriou': 1046, 'serial': 1047, 'seri': 1048, 'sergeant': 1049, 'sequenc': 1050, 'sequel': 1051, 'septemb': 1052, 'separ': 1053, 'sentinel': 1054, 'sentiment': 1055, 'sentenc': 1056, 'sent': 1057, 'sensual': 1058, 'sensit': 1059, 'sensibl': 1060, 'senseless': 1061, 'sensat': 1062, 'sens': 1063, 'senior': 1064, 'send': 1065, 'senat': 1066, 'semi': 1067, 'seller': 1068, 'sell': 1069, 'selfish': 1070, 'self': 1071, 'select': 1072, 'seldom': 1073, 'segment': 1074, 'seen': 1075, 'seemingli': 1076, 'seem': 1077, 'seek': 1078, 'seedi': 1079, 'seed': 1080, 'see': 1081, 'seduct': 1082, 'seduc': 1083, 'secur': 1084, 'section': 1085, 'secretli': 1086, 'secretari': 1087, 'secret': 1088, 'secondli': 1089, 'secondari': 1090, 'second': 1091, 'seat': 1092, 'season': 1093, 'search': 1094, 'sean': 1095, 'seal': 1096, 'seagal': 1097, 'sea': 1098, 'scroog': 1099, 'scriptwrit': 1100, 'script': 1101, 'screw': 1102, 'screenwrit': 1103, 'screenplay': 1104, 'screen': 1105, 'scream': 1106, 'scratch': 1107, 'scottish': 1108, 'scott': 1109, 'scotland': 1110, 'scorses': 1111, 'score': 1112, 'scope': 1113, 'scoop': 1114, 'scoobi': 1115, 'scientist': 1116, 'scientif': 1117, 'scienc': 1118, 'sci': 1119, 'school': 1120, 'schlock': 1121, 'scheme': 1122, 'schedul': 1123, 'sceneri': 1124, 'scene': 1125, 'scenario': 1126, 'scariest': 1127, 'scari': 1128, 'scarfac': 1129, 'scarecrow': 1130, 'scare': 1131, 'scar': 1132, 'scandal': 1133, 'scale': 1134, 'say': 1135, 'saw': 1136, 'save': 1137, 'savag': 1138, 'saturday': 1139, 'satisfi': 1140, 'satir': 1141, 'satan': 1142, 'sat': 1143, 'sassi': 1144, 'sarah': 1145, 'sappi': 1146, 'santa': 1147, 'sandra': 1148, 'sandler': 1149, 'sand': 1150, 'san': 1151, 'samurai': 1152, 'sammi': 1153, 'sam': 1154, 'salt': 1155, 'salman': 1156, 'salli': 1157, 'sale': 1158, 'sake': 1159, 'saint': 1160, 'sailor': 1161, 'said': 1162, 'saga': 1163, 'safeti': 1164, 'safe': 1165, 'sadli': 1166, 'sadist': 1167, 'sad': 1168, 'sacrific': 1169, 'sacrif': 1170, 'sabrina': 1171, 'ryan': 1172, 'ruthless': 1173, 'ruth': 1174, 'russian': 1175, 'russia': 1176, 'russel': 1177, 'rush': 1178, 'rural': 1179, 'runner': 1180, 'run': 1181, 'rumor': 1182, 'rule': 1183, 'rukh': 1184, 'ruin': 1185, 'rude': 1186, 'rubi': 1187, 'rubbish': 1188, 'rubber': 1189, 'rub': 1190, 'royal': 1191, 'roy': 1192, 'row': 1193, 'routin': 1194, 'rout': 1195, 'round': 1196, 'rough': 1197, 'rotten': 1198, 'roth': 1199, 'rot': 1200, 'ross': 1201, 'rosemari': 1202, 'rose': 1203, 'rosario': 1204, 'rope': 1205, 'root': 1206, 'rooney': 1207, 'roommat': 1208, 'room': 1209, 'rooki': 1210, 'roof': 1211, 'ron': 1212, 'romp': 1213, 'romero': 1214, 'rome': 1215, 'romant': 1216, 'romanc': 1217, 'roman': 1218, 'roller': 1219, 'roll': 1220, 'role': 1221, 'roger': 1222, 'rod': 1223, 'rocki': 1224, 'rocket': 1225, 'rock': 1226, 'rochest': 1227, 'robot': 1228, 'robinson': 1229, 'robin': 1230, 'robert': 1231, 'robbin': 1232, 'robberi': 1233, 'robber': 1234, 'rob': 1235, 'roar': 1236, 'road': 1237, 'rivet': 1238, 'river': 1239, 'rival': 1240, 'ritual': 1241, 'ritter': 1242, 'ritchi': 1243, 'rita': 1244, 'risk': 1245, 'rise': 1246, 'rip': 1247, 'riot': 1248, 'ring': 1249, 'right': 1250, 'rifl': 1251, 'ridicul': 1252, 'rider': 1253, 'ride': 1254, 'ridden': 1255, 'rid': 1256, 'rick': 1257, 'richardson': 1258, 'richard': 1259, 'rich': 1260, 'rhythm': 1261, 'rhyme': 1262, 'reynold': 1263, 'rex': 1264, 'reward': 1265, 'revolv': 1266, 'revolutionari': 1267, 'revolut': 1268, 'revolt': 1269, 'reviv': 1270, 'review': 1271, 'revers': 1272, 'reveng': 1273, 'revel': 1274, 'reveal': 1275, 'reunit': 1276, 'reunion': 1277, 'return': 1278, 'retriev': 1279, 'retir': 1280, 'retard': 1281, 'retain': 1282, 'resurrect': 1283, 'resum': 1284, 'result': 1285, 'restrict': 1286, 'restrain': 1287, 'restor': 1288, 'restaur': 1289, 'rest': 1290, 'respons': 1291, 'respond': 1292, 'respect': 1293, 'resourc': 1294, 'resort': 1295, 'reson': 1296, 'resolv': 1297, 'resolut': 1298, 'resist': 1299, 'resid': 1300, 'reserv': 1301, 'resembl': 1302, 'research': 1303, 'rescu': 1304, 'requir': 1305, 'reput': 1306, 'repuls': 1307, 'repris': 1308, 'repress': 1309, 'represent': 1310, 'repres': 1311, 'report': 1312, 'repli': 1313, 'replay': 1314, 'replac': 1315, 'repetit': 1316, 'repeatedli': 1317, 'repeat': 1318, 'rental': 1319, 'rent': 1320, 'rendit': 1321, 'render': 1322, 'renaiss': 1323, 'remov': 1324, 'remot': 1325, 'reminisc': 1326, 'remind': 1327, 'rememb': 1328, 'remark': 1329, 'remak': 1330, 'remain': 1331, 'remad': 1332, 'reluct': 1333, 'religion': 1334, 'religi': 1335, 'relief': 1336, 'reliabl': 1337, 'reli': 1338, 'relev': 1339, 'relentless': 1340, 'releas': 1341, 'relax': 1342, 'relationship': 1343, 'relat': 1344, 'rel': 1345, 'reject': 1346, 'reincarn': 1347, 'reign': 1348, 'reid': 1349, 'rehears': 1350, 'rehash': 1351, 'regular': 1352, 'regret': 1353, 'regist': 1354, 'region': 1355, 'regardless': 1356, 'regard': 1357, 'refus': 1358, 'refresh': 1359, 'reflect': 1360, 'refer': 1361, 'reev': 1362, 'reel': 1363, 'reed': 1364, 'redund': 1365, 'reduc': 1366, 'redneck': 1367, 'redempt': 1368, 'redeem': 1369, 'red': 1370, 'recycl': 1371, 'recruit': 1372, 'recreat': 1373, 'recov': 1374, 'record': 1375, 'recommend': 1376, 'recogniz': 1377, 'recognit': 1378, 'recognis': 1379, 'recogn': 1380, 'recit': 1381, 'recent': 1382, 'receiv': 1383, 'recal': 1384, 'rebel': 1385, 'reason': 1386, 'rear': 1387, 'realm': 1388, 'realli': 1389, 'realiz': 1390, 'realiti': 1391, 'realist': 1392, 'realism': 1393, 'realis': 1394, 'real': 1395, 'readi': 1396, 'reader': 1397, 'read': 1398, 'reaction': 1399, 'react': 1400, 'reach': 1401, 'razor': 1402, 'raymond': 1403, 'ray': 1404, 'raw': 1405, 'rave': 1406, 'ratso': 1407, 'ration': 1408, 'rather': 1409, 'rate': 1410, 'rat': 1411, 'rare': 1412, 'rapist': 1413, 'rapidli': 1414, 'rape': 1415, 'rap': 1416, 'rant': 1417, 'rank': 1418, 'ranger': 1419, 'rang': 1420, 'randomli': 1421, 'random': 1422, 'randolph': 1423, 'randi': 1424, 'ran': 1425, 'rampag': 1426, 'ramon': 1427, 'rambo': 1428, 'rambl': 1429, 'ram': 1430, 'ralph': 1431, 'raj': 1432, 'rais': 1433, 'rain': 1434, 'rage': 1435, 'radio': 1436, 'radic': 1437, 'radiat': 1438, 'racist': 1439, 'racism': 1440, 'racial': 1441, 'rachel': 1442, 'race': 1443, 'rabbit': 1444, 'r': 1445, 'quot': 1446, 'quit': 1447, 'quirki': 1448, 'quinn': 1449, 'quietli': 1450, 'quiet': 1451, 'quickli': 1452, 'quick': 1453, 'question': 1454, 'quest': 1455, 'queen': 1456, 'quarter': 1457, 'qualiti': 1458, 'qualifi': 1459, 'quaid': 1460, 'q': 1461, 'puzzl': 1462, 'put': 1463, 'push': 1464, 'pursuit': 1465, 'pursu': 1466, 'purpos': 1467, 'purpl': 1468, 'pure': 1469, 'purchas': 1470, 'puppi': 1471, 'puppet': 1472, 'punk': 1473, 'punish': 1474, 'punch': 1475, 'pun': 1476, 'pulp': 1477, 'pull': 1478, 'publish': 1479, 'public': 1480, 'psychot': 1481, 'psychopath': 1482, 'psycholog': 1483, 'psycho': 1484, 'psychic': 1485, 'psychiatrist': 1486, 'psych': 1487, 'pseudo': 1488, 'provok': 1489, 'provoc': 1490, 'provid': 1491, 'prove': 1492, 'proud': 1493, 'protest': 1494, 'protect': 1495, 'protagonist': 1496, 'prostitut': 1497, 'propos': 1498, 'proport': 1499, 'prophet': 1500, 'propheci': 1501, 'properti': 1502, 'properli': 1503, 'proper': 1504, 'propaganda': 1505, 'prop': 1506, 'proof': 1507, 'pronounc': 1508, 'promot': 1509, 'promis': 1510, 'promin': 1511, 'prom': 1512, 'project': 1513, 'progress': 1514, 'programm': 1515, 'program': 1516, 'profound': 1517, 'profit': 1518, 'profil': 1519, 'professor': 1520, 'profession': 1521, 'profess': 1522, 'profan': 1523, 'product': 1524, 'produc': 1525, 'proclaim': 1526, 'process': 1527, 'proceed': 1528, 'proce': 1529, 'problem': 1530, 'probabl': 1531, 'pro': 1532, 'prize': 1533, 'privat': 1534, 'prison': 1535, 'prior': 1536, 'print': 1537, 'principl': 1538, 'princip': 1539, 'princess': 1540, 'princ': 1541, 'primit': 1542, 'prime': 1543, 'primarili': 1544, 'primari': 1545, 'priest': 1546, 'pride': 1547, 'priceless': 1548, 'price': 1549, 'prey': 1550, 'previous': 1551, 'previou': 1552, 'preview': 1553, 'prevent': 1554, 'pretti': 1555, 'pretenti': 1556, 'pretens': 1557, 'pretend': 1558, 'presum': 1559, 'preston': 1560, 'pressur': 1561, 'press': 1562, 'presid': 1563, 'preserv': 1564, 'present': 1565, 'presenc': 1566, 'prequel': 1567, 'preposter': 1568, 'prepar': 1569, 'premis': 1570, 'preming': 1571, 'premier': 1572, 'prejudic': 1573, 'pregnant': 1574, 'prefer': 1575, 'predict': 1576, 'predecessor': 1577, 'predat': 1578, 'precis': 1579, 'preciou': 1580, 'preced': 1581, 'preachi': 1582, 'preach': 1583, 'pre': 1584, 'pray': 1585, 'prank': 1586, 'prais': 1587, 'practic': 1588, 'power': 1589, 'powel': 1590, 'poverti': 1591, 'pour': 1592, 'pound': 1593, 'potter': 1594, 'potenti': 1595, 'pot': 1596, 'poster': 1597, 'post': 1598, 'possibl': 1599, 'possess': 1600, 'posit': 1601, 'posey': 1602, 'pose': 1603, 'portray': 1604, 'portrait': 1605, 'portion': 1606, 'porter': 1607, 'porno': 1608, 'porn': 1609, 'popular': 1610, 'popul': 1611, 'popcorn': 1612, 'pop': 1613, 'poorli': 1614, 'poor': 1615, 'pool': 1616, 'ponder': 1617, 'politician': 1618, 'polit': 1619, 'polish': 1620, 'polici': 1621, 'policeman': 1622, 'polic': 1623, 'pole': 1624, 'polanski': 1625, 'poker': 1626, 'pokemon': 1627, 'poke': 1628, 'poison': 1629, 'pointless': 1630, 'point': 1631, 'poignant': 1632, 'poetri': 1633, 'poetic': 1634, 'poem': 1635, 'poe': 1636, 'pocket': 1637, 'plu': 1638, 'plot': 1639, 'plod': 1640, 'plight': 1641, 'plenti': 1642, 'pleasur': 1643, 'pleasantli': 1644, 'pleasant': 1645, 'pleas': 1646, 'player': 1647, 'playboy': 1648, 'play': 1649, 'plausibl': 1650, 'plate': 1651, 'plastic': 1652, 'plant': 1653, 'planet': 1654, 'plane': 1655, 'plan': 1656, 'plain': 1657, 'plagu': 1658, 'place': 1659, 'pixar': 1660, 'pitt': 1661, 'piti': 1662, 'pitch': 1663, 'pit': 1664, 'pirat': 1665, 'pioneer': 1666, 'pink': 1667, 'pin': 1668, 'pilot': 1669, 'pile': 1670, 'pig': 1671, 'pierc': 1672, 'piec': 1673, 'pie': 1674, 'pictur': 1675, 'pickford': 1676, 'pick': 1677, 'piano': 1678, 'physic': 1679, 'phrase': 1680, 'photographi': 1681, 'photograph': 1682, 'photo': 1683, 'phoni': 1684, 'phone': 1685, 'philosophi': 1686, 'philosoph': 1687, 'phillip': 1688, 'philip': 1689, 'phil': 1690, 'phenomenon': 1691, 'phenomen': 1692, 'phantom': 1693, 'pg': 1694, 'petti': 1695, 'peter': 1696, 'pete': 1697, 'pet': 1698, 'pervert': 1699, 'pervers': 1700, 'persuad': 1701, 'perspect': 1702, 'persona': 1703, 'person': 1704, 'perri': 1705, 'perpetu': 1706, 'perman': 1707, 'period': 1708, 'peril': 1709, 'perhap': 1710, 'perform': 1711, 'perfectli': 1712, 'perfect': 1713, 'percept': 1714, 'perceiv': 1715, 'per': 1716, 'pepper': 1717, 'peopl': 1718, 'penni': 1719, 'penn': 1720, 'pen': 1721, 'peer': 1722, 'peck': 1723, 'pearl': 1724, 'peak': 1725, 'peac': 1726, 'pc': 1727, 'pay': 1728, 'paxton': 1729, 'paus': 1730, 'pauli': 1731, 'paula': 1732, 'paul': 1733, 'pattern': 1734, 'patriot': 1735, 'patrick': 1736, 'patricia': 1737, 'patient': 1738, 'patienc': 1739, 'pathet': 1740, 'path': 1741, 'pat': 1742, 'past': 1743, 'passion': 1744, 'passeng': 1745, 'passag': 1746, 'passabl': 1747, 'pass': 1748, 'partner': 1749, 'partli': 1750, 'particularli': 1751, 'particular': 1752, 'particip': 1753, 'partial': 1754, 'parti': 1755, 'part': 1756, 'parson': 1757, 'parodi': 1758, 'parker': 1759, 'park': 1760, 'pari': 1761, 'parent': 1762, 'paranoia': 1763, 'paramount': 1764, 'parallel': 1765, 'paradis': 1766, 'parad': 1767, 'par': 1768, 'paper': 1769, 'pant': 1770, 'panic': 1771, 'pan': 1772, 'pamela': 1773, 'paltrow': 1774, 'palma': 1775, 'palm': 1776, 'pale': 1777, 'palanc': 1778, 'palac': 1779, 'pal': 1780, 'pair': 1781, 'painter': 1782, 'paint': 1783, 'pain': 1784, 'paid': 1785, 'page': 1786, 'pad': 1787, 'packag': 1788, 'pack': 1789, 'pacino': 1790, 'pacif': 1791, 'pace': 1792, 'p': 1793, 'oz': 1794, 'owner': 1795, 'own': 1796, 'owen': 1797, 'owe': 1798, 'overwhelm': 1799, 'overr': 1800, 'overlook': 1801, 'overlong': 1802, 'overli': 1803, 'overdon': 1804, 'overcom': 1805, 'overal': 1806, 'overact': 1807, 'outstand': 1808, 'outsid': 1809, 'outright': 1810, 'outrag': 1811, 'outlin': 1812, 'outlaw': 1813, 'outing': 1814, 'outfit': 1815, 'outer': 1816, 'outdat': 1817, 'outcom': 1818, 'out': 1819, 'ought': 1820, 'otherwis': 1821, 'other': 1822, 'othello': 1823, 'oscar': 1824, 'orson': 1825, 'orphan': 1826, 'orlean': 1827, 'origin': 1828, 'orient': 1829, 'organ': 1830, 'ordinari': 1831, 'order': 1832, 'orang': 1833, 'option': 1834, 'oppress': 1835, 'opposit': 1836, 'oppos': 1837, 'opportun': 1838, 'oppon': 1839, 'opinion': 1840, 'opera': 1841, 'oper': 1842, 'open': 1843, 'onto': 1844, 'onlin': 1845, 'one': 1846, 'omen': 1847, 'olli': 1848, 'olivi': 1849, 'oliv': 1850, 'oldest': 1851, 'older': 1852, 'old': 1853, 'ol': 1854, 'okay': 1855, 'ok': 1856, 'oil': 1857, 'oh': 1858, 'often': 1859, 'offici': 1860, 'offic': 1861, 'offer': 1862, 'offens': 1863, 'offend': 1864, 'off': 1865, 'oddli': 1866, 'odd': 1867, 'ocean': 1868, 'occur': 1869, 'occupi': 1870, 'occup': 1871, 'occasion': 1872, 'occas': 1873, 'obvious': 1874, 'obviou': 1875, 'obtain': 1876, 'obstacl': 1877, 'obsess': 1878, 'observ': 1879, 'obscur': 1880, 'obnoxi': 1881, 'obligatori': 1882, 'oblig': 1883, 'object': 1884, 'nyc': 1885, 'nut': 1886, 'nurs': 1887, 'nun': 1888, 'numer': 1889, 'number': 1890, 'numb': 1891, 'nuditi': 1892, 'nude': 1893, 'nuclear': 1894, 'nuanc': 1895, 'nowher': 1896, 'nowaday': 1897, 'novel': 1898, 'novak': 1899, 'notori': 1900, 'notion': 1901, 'notic': 1902, 'noth': 1903, 'note': 1904, 'notch': 1905, 'notabl': 1906, 'nostalgia': 1907, 'nostalg': 1908, 'nose': 1909, 'northern': 1910, 'north': 1911, 'norman': 1912, 'normal': 1913, 'norm': 1914, 'nope': 1915, 'nonsens': 1916, 'nonetheless': 1917, 'none': 1918, 'non': 1919, 'nomin': 1920, 'nolt': 1921, 'nolan': 1922, 'nois': 1923, 'noir': 1924, 'nod': 1925, 'nobodi': 1926, 'nobl': 1927, 'niro': 1928, 'ninja': 1929, 'nineti': 1930, 'nine': 1931, 'nina': 1932, 'nightmar': 1933, 'nightclub': 1934, 'night': 1935, 'niec': 1936, 'nicola': 1937, 'nicol': 1938, 'nick': 1939, 'nicholson': 1940, 'nichola': 1941, 'nice': 1942, 'next': 1943, 'newspap': 1944, 'news': 1945, 'newman': 1946, 'newli': 1947, 'newer': 1948, 'newcom': 1949, 'new': 1950, 'nevertheless': 1951, 'never': 1952, 'neurot': 1953, 'network': 1954, 'net': 1955, 'nervou': 1956, 'nerv': 1957, 'nerd': 1958, 'nephew': 1959, 'neo': 1960, 'nemesi': 1961, 'nelson': 1962, 'neither': 1963, 'neill': 1964, 'neil': 1965, 'neighborhood': 1966, 'neighbor': 1967, 'neglect': 1968, 'neg': 1969, 'needless': 1970, 'need': 1971, 'ned': 1972, 'neck': 1973, 'necessarili': 1974, 'necessari': 1975, 'neatli': 1976, 'neat': 1977, 'nearli': 1978, 'nearbi': 1979, 'near': 1980, 'nazi': 1981, 'navi': 1982, 'naughti': 1983, 'natur': 1984, 'nativ': 1985, 'nation': 1986, 'nathan': 1987, 'natali': 1988, 'nasti': 1989, 'naschi': 1990, 'narrow': 1991, 'narrat': 1992, 'narr': 1993, 'nanci': 1994, 'name': 1995, 'nake': 1996, 'naiv': 1997, 'nail': 1998, 'n': 1999, 'mytholog': 2000, 'myth': 2001, 'mystic': 2002, 'mysteri': 2003, 'myer': 2004, 'mutual': 2005, 'mute': 2006, 'mutant': 2007, 'must': 2008, 'muslim': 2009, 'musician': 2010, 'music': 2011, 'museum': 2012, 'muscl': 2013, 'murray': 2014, 'murphi': 2015, 'murder': 2016, 'muppet': 2017, 'mundan': 2018, 'mummi': 2019, 'mum': 2020, 'multipl': 2021, 'multi': 2022, 'muddl': 2023, 'much': 2024, 'mtv': 2025, 'mst3k': 2026, 'ms': 2027, 'mr': 2028, 'movi': 2029, 'movement': 2030, 'move': 2031, 'mouth': 2032, 'mous': 2033, 'mountain': 2034, 'mount': 2035, 'motorcycl': 2036, 'motiv': 2037, 'motion': 2038, 'mother': 2039, 'mostli': 2040, 'mortal': 2041, 'morri': 2042, 'moron': 2043, 'morn': 2044, 'mormon': 2045, 'morgan': 2046, 'moreov': 2047, 'morbid': 2048, 'moral': 2049, 'moor': 2050, 'moon': 2051, 'moodi': 2052, 'mood': 2053, 'monument': 2054, 'monti': 2055, 'month': 2056, 'montana': 2057, 'montag': 2058, 'monster': 2059, 'monoton': 2060, 'monologu': 2061, 'monkey': 2062, 'monk': 2063, 'money': 2064, 'mon': 2065, 'moment': 2066, 'mom': 2067, 'molli': 2068, 'mol': 2069, 'moe': 2070, 'modesti': 2071, 'modest': 2072, 'modern': 2073, 'moder': 2074, 'model': 2075, 'mode': 2076, 'mock': 2077, 'mobster': 2078, 'mobil': 2079, 'mob': 2080, 'miyazaki': 2081, 'mixtur': 2082, 'mix': 2083, 'mitchel': 2084, 'mitch': 2085, 'mistress': 2086, 'mistaken': 2087, 'mistak': 2088, 'mission': 2089, 'missil': 2090, 'miss': 2091, 'mislead': 2092, 'misguid': 2093, 'misfortun': 2094, 'miseri': 2095, 'miser': 2096, 'miscast': 2097, 'mirror': 2098, 'miracul': 2099, 'miracl': 2100, 'minut': 2101, 'minu': 2102, 'minor': 2103, 'minist': 2104, 'miniseri': 2105, 'minimum': 2106, 'minim': 2107, 'mini': 2108, 'mine': 2109, 'mindless': 2110, 'mind': 2111, 'min': 2112, 'milo': 2113, 'millionair': 2114, 'million': 2115, 'miller': 2116, 'mill': 2117, 'milk': 2118, 'militari': 2119, 'mile': 2120, 'mildr': 2121, 'mildli': 2122, 'mild': 2123, 'mike': 2124, 'miik': 2125, 'mighti': 2126, 'might': 2127, 'midnight': 2128, 'middl': 2129, 'mid': 2130, 'mickey': 2131, 'michel': 2132, 'michael': 2133, 'miami': 2134, 'mgm': 2135, 'meyer': 2136, 'mexico': 2137, 'mexican': 2138, 'method': 2139, 'metaphor': 2140, 'metal': 2141, 'met': 2142, 'messi': 2143, 'messag': 2144, 'mess': 2145, 'mesmer': 2146, 'meryl': 2147, 'mermaid': 2148, 'merit': 2149, 'mere': 2150, 'merci': 2151, 'mention': 2152, 'mental': 2153, 'menac': 2154, 'men': 2155, 'memori': 2156, 'memor': 2157, 'member': 2158, 'melt': 2159, 'melodramat': 2160, 'melodrama': 2161, 'melodi': 2162, 'melissa': 2163, 'mel': 2164, 'meg': 2165, 'meet': 2166, 'medium': 2167, 'mediocr': 2168, 'medic': 2169, 'media': 2170, 'mechan': 2171, 'meat': 2172, 'measur': 2173, 'meanwhil': 2174, 'meant': 2175, 'meaningless': 2176, 'meaning': 2177, 'meander': 2178, 'mean': 2179, 'meal': 2180, 'mcqueen': 2181, 'mclaglen': 2182, 'mccoy': 2183, 'mayor': 2184, 'mayhem': 2185, 'mayb': 2186, 'may': 2187, 'max': 2188, 'matur': 2189, 'matthew': 2190, 'matthau': 2191, 'matter': 2192, 'matt': 2193, 'matrix': 2194, 'mathieu': 2195, 'materi': 2196, 'mate': 2197, 'match': 2198, 'masterpiec': 2199, 'master': 2200, 'massiv': 2201, 'massacr': 2202, 'mass': 2203, 'mason': 2204, 'mask': 2205, 'marvel': 2206, 'martin': 2207, 'martian': 2208, 'martial': 2209, 'marti': 2210, 'martha': 2211, 'marshal': 2212, 'marriag': 2213, 'marri': 2214, 'marlon': 2215, 'market': 2216, 'mark': 2217, 'marion': 2218, 'mario': 2219, 'marin': 2220, 'maria': 2221, 'mari': 2222, 'margin': 2223, 'margaret': 2224, 'march': 2225, 'marc': 2226, 'mar': 2227, 'map': 2228, 'mansion': 2229, 'manner': 2230, 'mann': 2231, 'mankind': 2232, 'manipul': 2233, 'maniac': 2234, 'mani': 2235, 'manhattan': 2236, 'manag': 2237, 'man': 2238, 'malon': 2239, 'mall': 2240, 'male': 2241, 'makeup': 2242, 'maker': 2243, 'make': 2244, 'major': 2245, 'maintain': 2246, 'mainstream': 2247, 'mainli': 2248, 'main': 2249, 'mail': 2250, 'maid': 2251, 'magnific': 2252, 'magician': 2253, 'magic': 2254, 'maggi': 2255, 'magazin': 2256, 'mafia': 2257, 'madonna': 2258, 'made': 2259, 'mad': 2260, 'maci': 2261, 'macho': 2262, 'machin': 2263, 'macarthur': 2264, 'macabr': 2265, 'lyric': 2266, 'lynch': 2267, 'luxuri': 2268, 'lust': 2269, 'lush': 2270, 'lurk': 2271, 'lure': 2272, 'lundgren': 2273, 'lumet': 2274, 'luke': 2275, 'luka': 2276, 'lui': 2277, 'lugosi': 2278, 'ludicr': 2279, 'luckili': 2280, 'lucki': 2281, 'luck': 2282, 'lucil': 2283, 'luci': 2284, 'luca': 2285, 'loyalti': 2286, 'loyal': 2287, 'lowest': 2288, 'lower': 2289, 'low': 2290, 'lover': 2291, 'love': 2292, 'lovabl': 2293, 'lousi': 2294, 'louis': 2295, 'loui': 2296, 'loud': 2297, 'lou': 2298, 'lot': 2299, 'lost': 2300, 'loss': 2301, 'loser': 2302, 'lose': 2303, 'loretta': 2304, 'lord': 2305, 'loos': 2306, 'look': 2307, 'longer': 2308, 'long': 2309, 'loneli': 2310, 'lone': 2311, 'london': 2312, 'lol': 2313, 'loi': 2314, 'logic': 2315, 'logan': 2316, 'lock': 2317, 'locat': 2318, 'local': 2319, 'loath': 2320, 'load': 2321, 'lo': 2322, 'lloyd': 2323, 'live': 2324, 'liu': 2325, 'littl': 2326, 'literatur': 2327, 'literari': 2328, 'liter': 2329, 'lit': 2330, 'listen': 2331, 'list': 2332, 'lisa': 2333, 'lip': 2334, 'lion': 2335, 'link': 2336, 'linger': 2337, 'liner': 2338, 'linear': 2339, 'line': 2340, 'lindsay': 2341, 'linda': 2342, 'lincoln': 2343, 'limit': 2344, 'lili': 2345, 'likewis': 2346, 'like': 2347, 'likabl': 2348, 'lighter': 2349, 'light': 2350, 'lift': 2351, 'lifetim': 2352, 'lifestyl': 2353, 'lifeless': 2354, 'life': 2355, 'lie': 2356, 'librari': 2357, 'liberti': 2358, 'liber': 2359, 'li': 2360, 'lex': 2361, 'lewi': 2362, 'level': 2363, 'letter': 2364, 'let': 2365, 'lester': 2366, 'lesson': 2367, 'lesser': 2368, 'less': 2369, 'lesli': 2370, 'lesbian': 2371, 'leonard': 2372, 'leon': 2373, 'leo': 2374, 'lengthi': 2375, 'length': 2376, 'lend': 2377, 'lena': 2378, 'lemmon': 2379, 'leigh': 2380, 'legitim': 2381, 'legendari': 2382, 'legend': 2383, 'legal': 2384, 'legaci': 2385, 'leg': 2386, 'left': 2387, 'lee': 2388, 'led': 2389, 'lectur': 2390, 'leav': 2391, 'leather': 2392, 'least': 2393, 'learn': 2394, 'leap': 2395, 'lean': 2396, 'leagu': 2397, 'leader': 2398, 'lead': 2399, 'le': 2400, 'lazi': 2401, 'layer': 2402, 'lay': 2403, 'lawyer': 2404, 'lawrenc': 2405, 'law': 2406, 'lavish': 2407, 'laurenc': 2408, 'lauren': 2409, 'laurel': 2410, 'laura': 2411, 'launch': 2412, 'laughter': 2413, 'laughabl': 2414, 'laugh': 2415, 'latter': 2416, 'latin': 2417, 'latest': 2418, 'later': 2419, 'late': 2420, 'last': 2421, 'larri': 2422, 'larger': 2423, 'larg': 2424, 'languag': 2425, 'lang': 2426, 'lane': 2427, 'landscap': 2428, 'land': 2429, 'lanc': 2430, 'lampoon': 2431, 'lame': 2432, 'lake': 2433, 'laid': 2434, 'ladi': 2435, 'ladder': 2436, 'lacklust': 2437, 'lack': 2438, 'labor': 2439, 'label': 2440, 'lab': 2441, 'la': 2442, 'l': 2443, 'kyle': 2444, 'kurt': 2445, 'kurosawa': 2446, 'kung': 2447, 'kumar': 2448, 'kudo': 2449, 'kubrick': 2450, 'korean': 2451, 'kong': 2452, 'kolchak': 2453, 'known': 2454, 'knowledg': 2455, 'know': 2456, 'knock': 2457, 'knightley': 2458, 'knight': 2459, 'knife': 2460, 'knew': 2461, 'knee': 2462, 'kline': 2463, 'kitti': 2464, 'kitchen': 2465, 'kiss': 2466, 'kirk': 2467, 'kingdom': 2468, 'king': 2469, 'kinda': 2470, 'kind': 2471, 'kim': 2472, 'killer': 2473, 'kill': 2474, 'kidnap': 2475, 'kidman': 2476, 'kiddi': 2477, 'kid': 2478, 'kick': 2479, 'khan': 2480, 'key': 2481, 'kevin': 2482, 'kept': 2483, 'kent': 2484, 'kenneth': 2485, 'kennedi': 2486, 'ken': 2487, 'kelli': 2488, 'keith': 2489, 'keep': 2490, 'keen': 2491, 'keaton': 2492, 'kazan': 2493, 'kay': 2494, 'kathryn': 2495, 'kate': 2496, 'karloff': 2497, 'karl': 2498, 'karen': 2499, 'kapoor': 2500, 'kansa': 2501, 'kane': 2502, 'k': 2503, 'juvenil': 2504, 'justin': 2505, 'justifi': 2506, 'justic': 2507, 'junk': 2508, 'junior': 2509, 'jungl': 2510, 'june': 2511, 'jump': 2512, 'julian': 2513, 'julia': 2514, 'juli': 2515, 'jule': 2516, 'judi': 2517, 'judgment': 2518, 'judg': 2519, 'judd': 2520, 'jr': 2521, 'joy': 2522, 'journey': 2523, 'journalist': 2524, 'josh': 2525, 'joseph': 2526, 'jordan': 2527, 'jone': 2528, 'jonathan': 2529, 'jon': 2530, 'joker': 2531, 'joke': 2532, 'join': 2533, 'johnson': 2534, 'johnni': 2535, 'john': 2536, 'joey': 2537, 'joel': 2538, 'joe': 2539, 'jodi': 2540, 'job': 2541, 'joan': 2542, 'jo': 2543, 'jimmi': 2544, 'jim': 2545, 'jill': 2546, 'jewish': 2547, 'jewel': 2548, 'jew': 2549, 'jet': 2550, 'jesu': 2551, 'jessica': 2552, 'jess': 2553, 'jerri': 2554, 'jerk': 2555, 'jeremi': 2556, 'jennif': 2557, 'jenni': 2558, 'jeffrey': 2559, 'jeff': 2560, 'jedi': 2561, 'jean': 2562, 'jealou': 2563, 'jazz': 2564, 'jay': 2565, 'jaw': 2566, 'jason': 2567, 'jare': 2568, 'jar': 2569, 'japanes': 2570, 'japan': 2571, 'jane': 2572, 'jan': 2573, 'jami': 2574, 'jame': 2575, 'jam': 2576, 'jake': 2577, 'jail': 2578, 'jade': 2579, 'jackson': 2580, 'jacki': 2581, 'jacket': 2582, 'jack': 2583, 'j': 2584, 'iv': 2585, 'item': 2586, 'italian': 2587, 'itali': 2588, 'issu': 2589, 'israel': 2590, 'isra': 2591, 'isol': 2592, 'island': 2593, 'ish': 2594, 'isabel': 2595, 'irrit': 2596, 'irrelev': 2597, 'ironi': 2598, 'iron': 2599, 'irish': 2600, 'ireland': 2601, 'iraq': 2602, 'iran': 2603, 'involv': 2604, 'invit': 2605, 'invis': 2606, 'investig': 2607, 'invest': 2608, 'invent': 2609, 'invas': 2610, 'invad': 2611, 'introduct': 2612, 'introduc': 2613, 'intrigu': 2614, 'intric': 2615, 'intim': 2616, 'interview': 2617, 'interrupt': 2618, 'interpret': 2619, 'internet': 2620, 'intern': 2621, 'interior': 2622, 'interestingli': 2623, 'interest': 2624, 'interact': 2625, 'intent': 2626, 'intens': 2627, 'intend': 2628, 'intellig': 2629, 'intellectu': 2630, 'integr': 2631, 'insur': 2632, 'insult': 2633, 'instrument': 2634, 'instruct': 2635, 'institut': 2636, 'instinct': 2637, 'instead': 2638, 'instantli': 2639, 'instant': 2640, 'instanc': 2641, 'instal': 2642, 'inspir': 2643, 'inspector': 2644, 'insist': 2645, 'insipid': 2646, 'insight': 2647, 'insid': 2648, 'insert': 2649, 'insan': 2650, 'innov': 2651, 'innoc': 2652, 'inner': 2653, 'inmat': 2654, 'injuri': 2655, 'injur': 2656, 'inject': 2657, 'initi': 2658, 'inherit': 2659, 'inher': 2660, 'inhabit': 2661, 'ingrid': 2662, 'ingredi': 2663, 'ingeni': 2664, 'inform': 2665, 'info': 2666, 'influenc': 2667, 'inflict': 2668, 'inferior': 2669, 'infect': 2670, 'infam': 2671, 'inexplic': 2672, 'inevit': 2673, 'inept': 2674, 'industri': 2675, 'indulg': 2676, 'induc': 2677, 'individu': 2678, 'indiffer': 2679, 'indic': 2680, 'indian': 2681, 'india': 2682, 'indi': 2683, 'independ': 2684, 'inde': 2685, 'incred': 2686, 'increasingli': 2687, 'increas': 2688, 'incorrect': 2689, 'incorpor': 2690, 'inconsist': 2691, 'incomprehens': 2692, 'incompet': 2693, 'incoher': 2694, 'inclus': 2695, 'includ': 2696, 'incident': 2697, 'incid': 2698, 'inappropri': 2699, 'inan': 2700, 'inaccuraci': 2701, 'inaccur': 2702, 'inabl': 2703, 'improvis': 2704, 'improv': 2705, 'improb': 2706, 'impress': 2707, 'imposs': 2708, 'impos': 2709, 'importantli': 2710, 'import': 2711, 'implic': 2712, 'impli': 2713, 'implaus': 2714, 'imperson': 2715, 'impact': 2716, 'immort': 2717, 'immigr': 2718, 'immers': 2719, 'immens': 2720, 'immedi': 2721, 'immatur': 2722, 'imit': 2723, 'imdb': 2724, 'imagin': 2725, 'imageri': 2726, 'imag': 2727, 'im': 2728, 'illustr': 2729, 'illus': 2730, 'illog': 2731, 'illeg': 2732, 'ill': 2733, 'iii': 2734, 'ii': 2735, 'ignor': 2736, 'ie': 2737, 'idol': 2738, 'idiot': 2739, 'ideolog': 2740, 'identifi': 2741, 'ident': 2742, 'ideal': 2743, 'idea': 2744, 'id': 2745, 'icon': 2746, 'ice': 2747, 'ian': 2748, 'hyster': 2749, 'hypnot': 2750, 'hype': 2751, 'hyde': 2752, 'huston': 2753, 'husband': 2754, 'hurt': 2755, 'hunter': 2756, 'hunt': 2757, 'hungri': 2758, 'hung': 2759, 'hundr': 2760, 'humour': 2761, 'humor': 2762, 'humili': 2763, 'humbl': 2764, 'human': 2765, 'hum': 2766, 'hulk': 2767, 'huh': 2768, 'hugh': 2769, 'huge': 2770, 'hug': 2771, 'hudson': 2772, 'http': 2773, 'howl': 2774, 'howev': 2775, 'howard': 2776, 'housewif': 2777, 'household': 2778, 'hous': 2779, 'hour': 2780, 'hotel': 2781, 'hot': 2782, 'hostil': 2783, 'hostag': 2784, 'host': 2785, 'hospit': 2786, 'hors': 2787, 'horror': 2788, 'horrifi': 2789, 'horrif': 2790, 'horrid': 2791, 'horribl': 2792, 'horrend': 2793, 'horn': 2794, 'hopper': 2795, 'hopkin': 2796, 'hopelessli': 2797, 'hopeless': 2798, 'hope': 2799, 'hop': 2800, 'hooker': 2801, 'hook': 2802, 'hood': 2803, 'honor': 2804, 'hong': 2805, 'honestli': 2806, 'honesti': 2807, 'honest': 2808, 'homosexu': 2809, 'homicid': 2810, 'homer': 2811, 'homeless': 2812, 'home': 2813, 'homag': 2814, 'holocaust': 2815, 'holm': 2816, 'hollywood': 2817, 'hollow': 2818, 'holli': 2819, 'holiday': 2820, 'holi': 2821, 'hole': 2822, 'hold': 2823, 'hokey': 2824, 'hoffman': 2825, 'ho': 2826, 'hk': 2827, 'hitler': 2828, 'hitchcock': 2829, 'hit': 2830, 'historian': 2831, 'histori': 2832, 'histor': 2833, 'hire': 2834, 'hippi': 2835, 'hip': 2836, 'hint': 2837, 'hill': 2838, 'hilari': 2839, 'hilar': 2840, 'highway': 2841, 'highlight': 2842, 'highli': 2843, 'highest': 2844, 'higher': 2845, 'high': 2846, 'hideou': 2847, 'hide': 2848, 'hidden': 2849, 'hey': 2850, 'heston': 2851, 'hesit': 2852, 'heroin': 2853, 'heroic': 2854, 'hero': 2855, 'hepburn': 2856, 'henri': 2857, 'henc': 2858, 'helpless': 2859, 'help': 2860, 'helm': 2861, 'hello': 2862, 'hell': 2863, 'helicopt': 2864, 'helen': 2865, 'held': 2866, 'heist': 2867, 'height': 2868, 'heel': 2869, 'heck': 2870, 'heavili': 2871, 'heavi': 2872, 'heaven': 2873, 'heat': 2874, 'heartwarm': 2875, 'heartfelt': 2876, 'heartbreak': 2877, 'heart': 2878, 'heard': 2879, 'hear': 2880, 'heap': 2881, 'healthi': 2882, 'health': 2883, 'heal': 2884, 'headach': 2885, 'head': 2886, 'hbo': 2887, 'hay': 2888, 'hawk': 2889, 'haunt': 2890, 'hatr': 2891, 'hate': 2892, 'hat': 2893, 'harvey': 2894, 'hartley': 2895, 'hart': 2896, 'harsh': 2897, 'harrison': 2898, 'harri': 2899, 'harold': 2900, 'harmless': 2901, 'harm': 2902, 'hardli': 2903, 'hardi': 2904, 'harder': 2905, 'hardcor': 2906, 'hard': 2907, 'hara': 2908, 'happili': 2909, 'happi': 2910, 'happen': 2911, 'hapless': 2912, 'hank': 2913, 'hang': 2914, 'handsom': 2915, 'handl': 2916, 'handicap': 2917, 'hand': 2918, 'han': 2919, 'hammi': 2920, 'hammer': 2921, 'hamlet': 2922, 'hamilton': 2923, 'ham': 2924, 'hallucin': 2925, 'halloween': 2926, 'hall': 2927, 'halfway': 2928, 'half': 2929, 'hal': 2930, 'hair': 2931, 'hain': 2932, 'hackney': 2933, 'hackman': 2934, 'hack': 2935, 'habit': 2936, 'ha': 2937, 'h': 2938, 'guy': 2939, 'gut': 2940, 'gunga': 2941, 'gundam': 2942, 'gun': 2943, 'guitar': 2944, 'guin': 2945, 'guilti': 2946, 'guilt': 2947, 'guid': 2948, 'guest': 2949, 'guess': 2950, 'guard': 2951, 'guarante': 2952, 'gruesom': 2953, 'grudg': 2954, 'growth': 2955, 'grown': 2956, 'grow': 2957, 'group': 2958, 'ground': 2959, 'grotesqu': 2960, 'gross': 2961, 'groan': 2962, 'gritti': 2963, 'grip': 2964, 'grinch': 2965, 'grin': 2966, 'grim': 2967, 'griffith': 2968, 'grief': 2969, 'grey': 2970, 'grew': 2971, 'gregori': 2972, 'greg': 2973, 'greet': 2974, 'green': 2975, 'greek': 2976, 'greedi': 2977, 'greed': 2978, 'greatli': 2979, 'greatest': 2980, 'greater': 2981, 'great': 2982, 'grayson': 2983, 'gray': 2984, 'grave': 2985, 'gratuit': 2986, 'grate': 2987, 'grasp': 2988, 'graphic': 2989, 'grant': 2990, 'grandmoth': 2991, 'grandfath': 2992, 'grand': 2993, 'graini': 2994, 'graham': 2995, 'graduat': 2996, 'gradual': 2997, 'grade': 2998, 'grace': 2999, 'grab': 3000, 'govern': 3001, 'gotten': 3002, 'gotta': 3003, 'gothic': 3004, 'got': 3005, 'gori': 3006, 'gorgeou': 3007, 'gore': 3008, 'gordon': 3009, 'goofi': 3010, 'goof': 3011, 'good': 3012, 'gonna': 3013, 'gone': 3014, 'goldsworthi': 3015, 'golden': 3016, 'goldblum': 3017, 'goldberg': 3018, 'gold': 3019, 'goer': 3020, 'goe': 3021, 'godzilla': 3022, 'godfath': 3023, 'god': 3024, 'goal': 3025, 'go': 3026, 'glow': 3027, 'glover': 3028, 'gloriou': 3029, 'glorifi': 3030, 'glori': 3031, 'globe': 3032, 'global': 3033, 'glimps': 3034, 'glenn': 3035, 'glass': 3036, 'glare': 3037, 'glanc': 3038, 'glamor': 3039, 'glad': 3040, 'given': 3041, 'give': 3042, 'girlfriend': 3043, 'girl': 3044, 'ginger': 3045, 'gina': 3046, 'gimmick': 3047, 'gillian': 3048, 'gilliam': 3049, 'gilbert': 3050, 'giggl': 3051, 'gift': 3052, 'giant': 3053, 'giallo': 3054, 'ghost': 3055, 'ghetto': 3056, 'get': 3057, 'gestur': 3058, 'germani': 3059, 'german': 3060, 'gere': 3061, 'gerard': 3062, 'georg': 3063, 'genuin': 3064, 'gentleman': 3065, 'gentl': 3066, 'genr': 3067, 'geniu': 3068, 'geni': 3069, 'genet': 3070, 'gener': 3071, 'gene': 3072, 'gender': 3073, 'gem': 3074, 'geek': 3075, 'gear': 3076, 'gay': 3077, 'gave': 3078, 'gather': 3079, 'gate': 3080, 'gasp': 3081, 'garner': 3082, 'gari': 3083, 'garden': 3084, 'garbo': 3085, 'garbag': 3086, 'gap': 3087, 'gangster': 3088, 'gang': 3089, 'gandhi': 3090, 'game': 3091, 'gambl': 3092, 'galaxi': 3093, 'gal': 3094, 'gain': 3095, 'gag': 3096, 'gadget': 3097, 'gabriel': 3098, 'gabl': 3099, 'ga': 3100, 'g': 3101, 'fx': 3102, 'futurist': 3103, 'futur': 3104, 'furthermor': 3105, 'furiou': 3106, 'furi': 3107, 'funniest': 3108, 'funnier': 3109, 'funni': 3110, 'funer': 3111, 'fundament': 3112, 'fund': 3113, 'function': 3114, 'fun': 3115, 'fulli': 3116, 'fuller': 3117, 'full': 3118, 'fulfil': 3119, 'fulci': 3120, 'fuel': 3121, 'fu': 3122, 'frustrat': 3123, 'fruit': 3124, 'frontier': 3125, 'frontal': 3126, 'front': 3127, 'frog': 3128, 'frighten': 3129, 'fright': 3130, 'friendship': 3131, 'friendli': 3132, 'friend': 3133, 'friday': 3134, 'fri': 3135, 'fresh': 3136, 'frequent': 3137, 'french': 3138, 'freez': 3139, 'freeman': 3140, 'freedom': 3141, 'free': 3142, 'freddi': 3143, 'fred': 3144, 'freak': 3145, 'frantic': 3146, 'frankli': 3147, 'franki': 3148, 'frankenstein': 3149, 'frank': 3150, 'franco': 3151, 'francisco': 3152, 'franci': 3153, 'franchis': 3154, 'franc': 3155, 'frame': 3156, 'fragil': 3157, 'foxx': 3158, 'fox': 3159, 'fourth': 3160, 'four': 3161, 'found': 3162, 'foul': 3163, 'fought': 3164, 'foster': 3165, 'forward': 3166, 'fortun': 3167, 'forti': 3168, 'forth': 3169, 'formula': 3170, 'former': 3171, 'format': 3172, 'form': 3173, 'forgotten': 3174, 'forgot': 3175, 'forgiven': 3176, 'forgiv': 3177, 'forgett': 3178, 'forget': 3179, 'forev': 3180, 'forest': 3181, 'foreign': 3182, 'ford': 3183, 'forc': 3184, 'forbidden': 3185, 'footbal': 3186, 'footag': 3187, 'foot': 3188, 'foolish': 3189, 'fool': 3190, 'food': 3191, 'fontain': 3192, 'fonda': 3193, 'fond': 3194, 'follow': 3195, 'folk': 3196, 'foil': 3197, 'fog': 3198, 'focus': 3199, 'focu': 3200, 'flynn': 3201, 'fluid': 3202, 'fluff': 3203, 'flower': 3204, 'flow': 3205, 'florida': 3206, 'flop': 3207, 'floor': 3208, 'flock': 3209, 'float': 3210, 'flirt': 3211, 'flip': 3212, 'flight': 3213, 'flick': 3214, 'fli': 3215, 'flesh': 3216, 'fleet': 3217, 'flee': 3218, 'flawless': 3219, 'flaw': 3220, 'flavor': 3221, 'flat': 3222, 'flashi': 3223, 'flashback': 3224, 'flash': 3225, 'flame': 3226, 'flair': 3227, 'flag': 3228, 'fix': 3229, 'five': 3230, 'fit': 3231, 'fist': 3232, 'fisher': 3233, 'fishburn': 3234, 'fish': 3235, 'firstli': 3236, 'first': 3237, 'firmli': 3238, 'firm': 3239, 'fire': 3240, 'finish': 3241, 'finger': 3242, 'finest': 3243, 'fine': 3244, 'find': 3245, 'financi': 3246, 'financ': 3247, 'final': 3248, 'filth': 3249, 'filmmak': 3250, 'film': 3251, 'filler': 3252, 'fill': 3253, 'file': 3254, 'figur': 3255, 'fighter': 3256, 'fight': 3257, 'fifti': 3258, 'fifth': 3259, 'fifteen': 3260, 'field': 3261, 'fido': 3262, 'fiction': 3263, 'fianc': 3264, 'fi': 3265, 'fever': 3266, 'fetch': 3267, 'festiv': 3268, 'fest': 3269, 'fenc': 3270, 'femm': 3271, 'feminist': 3272, 'feminin': 3273, 'femal': 3274, 'felt': 3275, 'fellow': 3276, 'fell': 3277, 'felix': 3278, 'feet': 3279, 'feel': 3280, 'feed': 3281, 'fed': 3282, 'featur': 3283, 'feat': 3284, 'feast': 3285, 'fear': 3286, 'fbi': 3287, 'fay': 3288, 'favourit': 3289, 'favour': 3290, 'favorit': 3291, 'favor': 3292, 'fault': 3293, 'father': 3294, 'fate': 3295, 'fatal': 3296, 'fat': 3297, 'faster': 3298, 'fast': 3299, 'fashion': 3300, 'fascist': 3301, 'fascin': 3302, 'fart': 3303, 'farrel': 3304, 'farmer': 3305, 'farm': 3306, 'fare': 3307, 'farc': 3308, 'far': 3309, 'fantast': 3310, 'fantasi': 3311, 'fanci': 3312, 'fanat': 3313, 'fan': 3314, 'famou': 3315, 'familiar': 3316, 'famili': 3317, 'fame': 3318, 'fals': 3319, 'fallen': 3320, 'fall': 3321, 'falk': 3322, 'fake': 3323, 'faith': 3324, 'fairli': 3325, 'fairi': 3326, 'fair': 3327, 'faint': 3328, 'failur': 3329, 'fail': 3330, 'fade': 3331, 'factori': 3332, 'factor': 3333, 'fact': 3334, 'facil': 3335, 'facial': 3336, 'face': 3337, 'fabul': 3338, 'fabric': 3339, 'f': 3340, 'eyr': 3341, 'eye': 3342, 'extrem': 3343, 'extraordinari': 3344, 'extra': 3345, 'exterior': 3346, 'extent': 3347, 'extens': 3348, 'extend': 3349, 'exquisit': 3350, 'express': 3351, 'exposur': 3352, 'exposit': 3353, 'expos': 3354, 'explos': 3355, 'explor': 3356, 'exploit': 3357, 'explod': 3358, 'explicit': 3359, 'explan': 3360, 'explain': 3361, 'expert': 3362, 'experiment': 3363, 'experienc': 3364, 'experi': 3365, 'expens': 3366, 'expedit': 3367, 'expect': 3368, 'expand': 3369, 'exot': 3370, 'exit': 3371, 'exist': 3372, 'exhibit': 3373, 'exhaust': 3374, 'exercis': 3375, 'execut': 3376, 'excus': 3377, 'exclus': 3378, 'excit': 3379, 'exchang': 3380, 'excess': 3381, 'except': 3382, 'excel': 3383, 'exampl': 3384, 'examin': 3385, 'exagger': 3386, 'exactli': 3387, 'exact': 3388, 'ex': 3389, 'evolv': 3390, 'evolut': 3391, 'evok': 3392, 'evil': 3393, 'evid': 3394, 'everywher': 3395, 'everyth': 3396, 'everyon': 3397, 'everyday': 3398, 'everybodi': 3399, 'everi': 3400, 'ever': 3401, 'eventu': 3402, 'event': 3403, 'even': 3404, 'evelyn': 3405, 'eve': 3406, 'evan': 3407, 'eva': 3408, 'european': 3409, 'europa': 3410, 'europ': 3411, 'eugen': 3412, 'ethnic': 3413, 'ethan': 3414, 'etern': 3415, 'etc': 3416, 'et': 3417, 'estrang': 3418, 'esther': 3419, 'estat': 3420, 'establish': 3421, 'essenti': 3422, 'essenc': 3423, 'especi': 3424, 'escap': 3425, 'error': 3426, 'errol': 3427, 'erot': 3428, 'eric': 3429, 'era': 3430, 'er': 3431, 'equival': 3432, 'equip': 3433, 'equal': 3434, 'epitom': 3435, 'episod': 3436, 'epic': 3437, 'environ': 3438, 'entri': 3439, 'entranc': 3440, 'entitl': 3441, 'entir': 3442, 'enthusiast': 3443, 'enthusiasm': 3444, 'enthral': 3445, 'entertain': 3446, 'enterpris': 3447, 'enter': 3448, 'ensur': 3449, 'ensu': 3450, 'ensembl': 3451, 'enough': 3452, 'enorm': 3453, 'enlist': 3454, 'enlighten': 3455, 'enjoy': 3456, 'enhanc': 3457, 'engross': 3458, 'english': 3459, 'england': 3460, 'engin': 3461, 'engag': 3462, 'enforc': 3463, 'energi': 3464, 'energet': 3465, 'enemi': 3466, 'endur': 3467, 'endless': 3468, 'endear': 3469, 'end': 3470, 'encourag': 3471, 'encount': 3472, 'enchant': 3473, 'enabl': 3474, 'en': 3475, 'empti': 3476, 'employe': 3477, 'employ': 3478, 'empir': 3479, 'emphasi': 3480, 'emphas': 3481, 'emperor': 3482, 'empathi': 3483, 'emot': 3484, 'emma': 3485, 'emili': 3486, 'emerg': 3487, 'embrac': 3488, 'embarrass': 3489, 'embark': 3490, 'em': 3491, 'elvira': 3492, 'elvi': 3493, 'elsewher': 3494, 'els': 3495, 'elm': 3496, 'ellen': 3497, 'elizabeth': 3498, 'elit': 3499, 'elimin': 3500, 'eli': 3501, 'eleven': 3502, 'elev': 3503, 'eleph': 3504, 'element': 3505, 'eleg': 3506, 'electron': 3507, 'electr': 3508, 'elect': 3509, 'elderli': 3510, 'elabor': 3511, 'el': 3512, 'either': 3513, 'einstein': 3514, 'eighti': 3515, 'eight': 3516, 'ego': 3517, 'egg': 3518, 'effort': 3519, 'effici': 3520, 'effect': 3521, 'eeri': 3522, 'edward': 3523, 'educ': 3524, 'editor': 3525, 'edit': 3526, 'edi': 3527, 'edgi': 3528, 'edgar': 3529, 'edg': 3530, 'eddi': 3531, 'ed': 3532, 'econom': 3533, 'echo': 3534, 'eccentr': 3535, 'ebert': 3536, 'eaten': 3537, 'eat': 3538, 'eastwood': 3539, 'eastern': 3540, 'east': 3541, 'easili': 3542, 'easier': 3543, 'easi': 3544, 'eas': 3545, 'earth': 3546, 'earnest': 3547, 'earn': 3548, 'earlier': 3549, 'earli': 3550, 'earl': 3551, 'ear': 3552, 'eager': 3553, 'e': 3554, 'dysfunct': 3555, 'dynam': 3556, 'dylan': 3557, 'dwarf': 3558, 'dvd': 3559, 'duval': 3560, 'duti': 3561, 'dutch': 3562, 'dust': 3563, 'durat': 3564, 'duo': 3565, 'dump': 3566, 'dumb': 3567, 'dull': 3568, 'duke': 3569, 'duel': 3570, 'due': 3571, 'dudley': 3572, 'dude': 3573, 'dud': 3574, 'duck': 3575, 'dub': 3576, 'drunken': 3577, 'drunk': 3578, 'drum': 3579, 'drug': 3580, 'drown': 3581, 'drove': 3582, 'drop': 3583, 'drone': 3584, 'driver': 3585, 'driven': 3586, 'drivel': 3587, 'drive': 3588, 'drip': 3589, 'drink': 3590, 'drift': 3591, 'dri': 3592, 'drew': 3593, 'dress': 3594, 'dreck': 3595, 'dreari': 3596, 'dream': 3597, 'dread': 3598, 'drawn': 3599, 'draw': 3600, 'dramat': 3601, 'drama': 3602, 'drake': 3603, 'drain': 3604, 'dragon': 3605, 'drag': 3606, 'dracula': 3607, 'dr': 3608, 'dozen': 3609, 'downright': 3610, 'downhil': 3611, 'downey': 3612, 'down': 3613, 'dougla': 3614, 'doubt': 3615, 'doubl': 3616, 'dose': 3617, 'dorothi': 3618, 'door': 3619, 'doom': 3620, 'doo': 3621, 'dont': 3622, 'donna': 3623, 'done': 3624, 'donald': 3625, 'domino': 3626, 'domin': 3627, 'domest': 3628, 'dolph': 3629, 'dollar': 3630, 'doll': 3631, 'dog': 3632, 'documentari': 3633, 'document': 3634, 'doctor': 3635, 'doc': 3636, 'dixon': 3637, 'divorc': 3638, 'divin': 3639, 'divid': 3640, 'divers': 3641, 'dive': 3642, 'disturb': 3643, 'distribut': 3644, 'distress': 3645, 'distract': 3646, 'distort': 3647, 'distinguish': 3648, 'distinct': 3649, 'distant': 3650, 'distanc': 3651, 'disregard': 3652, 'dispos': 3653, 'display': 3654, 'disord': 3655, 'disney': 3656, 'dismiss': 3657, 'dismal': 3658, 'dislik': 3659, 'disjoint': 3660, 'dish': 3661, 'disgust': 3662, 'disguis': 3663, 'disgrac': 3664, 'diseas': 3665, 'discuss': 3666, 'discoveri': 3667, 'discov': 3668, 'discern': 3669, 'disc': 3670, 'disbelief': 3671, 'disastr': 3672, 'disast': 3673, 'disappoint': 3674, 'disappear': 3675, 'disagre': 3676, 'disabl': 3677, 'dirti': 3678, 'dirt': 3679, 'directori': 3680, 'director': 3681, 'directli': 3682, 'direct': 3683, 'dire': 3684, 'dinosaur': 3685, 'dinner': 3686, 'din': 3687, 'dimension': 3688, 'dimens': 3689, 'dim': 3690, 'dilemma': 3691, 'digniti': 3692, 'digit': 3693, 'dig': 3694, 'difficulti': 3695, 'difficult': 3696, 'differ': 3697, 'die': 3698, 'dictat': 3699, 'dicken': 3700, 'dick': 3701, 'diari': 3702, 'diana': 3703, 'dian': 3704, 'diamond': 3705, 'dialogu': 3706, 'dialog': 3707, 'devot': 3708, 'devoid': 3709, 'devil': 3710, 'devic': 3711, 'develop': 3712, 'devast': 3713, 'detract': 3714, 'determin': 3715, 'detect': 3716, 'detail': 3717, 'detach': 3718, 'destruct': 3719, 'destroy': 3720, 'destini': 3721, 'destin': 3722, 'despit': 3723, 'despis': 3724, 'despic': 3725, 'desper': 3726, 'despair': 3727, 'desir': 3728, 'design': 3729, 'deserv': 3730, 'desert': 3731, 'descript': 3732, 'describ': 3733, 'descent': 3734, 'descend': 3735, 'deriv': 3736, 'derek': 3737, 'derang': 3738, 'der': 3739, 'depth': 3740, 'depress': 3741, 'depict': 3742, 'depend': 3743, 'departur': 3744, 'depart': 3745, 'denzel': 3746, 'dentist': 3747, 'denni': 3748, 'deniro': 3749, 'deni': 3750, 'demonstr': 3751, 'demon': 3752, 'demis': 3753, 'dement': 3754, 'demand': 3755, 'delv': 3756, 'deliveri': 3757, 'deliver': 3758, 'deliv': 3759, 'delight': 3760, 'delici': 3761, 'delic': 3762, 'deliber': 3763, 'delet': 3764, 'del': 3765, 'degre': 3766, 'degrad': 3767, 'definit': 3768, 'defin': 3769, 'defi': 3770, 'defens': 3771, 'defend': 3772, 'defeat': 3773, 'deer': 3774, 'deepli': 3775, 'deeper': 3776, 'deep': 3777, 'deem': 3778, 'deed': 3779, 'dee': 3780, 'dedic': 3781, 'decor': 3782, 'declin': 3783, 'declar': 3784, 'decis': 3785, 'decid': 3786, 'decept': 3787, 'decent': 3788, 'deceas': 3789, 'decapit': 3790, 'decad': 3791, 'debut': 3792, 'debt': 3793, 'debat': 3794, 'death': 3795, 'dear': 3796, 'dean': 3797, 'dealt': 3798, 'dealer': 3799, 'deal': 3800, 'deaf': 3801, 'deadli': 3802, 'dead': 3803, 'de': 3804, 'dazzl': 3805, 'day': 3806, 'dawson': 3807, 'dawn': 3808, 'david': 3809, 'davi': 3810, 'dave': 3811, 'daughter': 3812, 'date': 3813, 'dash': 3814, 'darren': 3815, 'darn': 3816, 'darker': 3817, 'dark': 3818, 'dare': 3819, 'danni': 3820, 'danish': 3821, 'daniel': 3822, 'danger': 3823, 'dane': 3824, 'dandi': 3825, 'dancer': 3826, 'danc': 3827, 'dana': 3828, 'dan': 3829, 'damon': 3830, 'damn': 3831, 'damm': 3832, 'dame': 3833, 'damag': 3834, 'dalton': 3835, 'daisi': 3836, 'daili': 3837, 'daddi': 3838, 'dad': 3839, 'da': 3840, 'cypher': 3841, 'cynic': 3842, 'cycl': 3843, 'cyborg': 3844, 'cute': 3845, 'cut': 3846, 'custom': 3847, 'cush': 3848, 'cusack': 3849, 'curti': 3850, 'curtain': 3851, 'curs': 3852, 'current': 3853, 'curli': 3854, 'curiou': 3855, 'curios': 3856, 'cure': 3857, 'cup': 3858, 'cultur': 3859, 'cult': 3860, 'culmin': 3861, 'cue': 3862, 'cube': 3863, 'cuban': 3864, 'cuba': 3865, 'crystal': 3866, 'crush': 3867, 'cruis': 3868, 'cruelti': 3869, 'cruel': 3870, 'crude': 3871, 'crucial': 3872, 'crown': 3873, 'crowd': 3874, 'crow': 3875, 'cross': 3876, 'crook': 3877, 'crocodil': 3878, 'critiqu': 3879, 'critic': 3880, 'crisi': 3881, 'crippl': 3882, 'cring': 3883, 'crimin': 3884, 'crime': 3885, 'cri': 3886, 'crew': 3887, 'creepi': 3888, 'creep': 3889, 'creek': 3890, 'credit': 3891, 'credibl': 3892, 'creatur': 3893, 'creator': 3894, 'creativ': 3895, 'creation': 3896, 'creat': 3897, 'cream': 3898, 'crazi': 3899, 'craze': 3900, 'crawl': 3901, 'crawford': 3902, 'craven': 3903, 'crash': 3904, 'crappi': 3905, 'crap': 3906, 'craig': 3907, 'craft': 3908, 'crack': 3909, 'cox': 3910, 'cowboy': 3911, 'cow': 3912, 'cover': 3913, 'cousin': 3914, 'court': 3915, 'cours': 3916, 'courag': 3917, 'coupl': 3918, 'coup': 3919, 'countrysid': 3920, 'countri': 3921, 'countless': 3922, 'counterpart': 3923, 'counter': 3924, 'count': 3925, 'could': 3926, 'couch': 3927, 'costum': 3928, 'cost': 3929, 'corrupt': 3930, 'correctli': 3931, 'correct': 3932, 'corps': 3933, 'corpor': 3934, 'corni': 3935, 'corner': 3936, 'corn': 3937, 'corman': 3938, 'core': 3939, 'corbett': 3940, 'copi': 3941, 'cope': 3942, 'cop': 3943, 'cooper': 3944, 'cool': 3945, 'cooki': 3946, 'cook': 3947, 'convolut': 3948, 'convincingli': 3949, 'convinc': 3950, 'convict': 3951, 'convey': 3952, 'convert': 3953, 'convers': 3954, 'convent': 3955, 'conveni': 3956, 'controversi': 3957, 'control': 3958, 'contriv': 3959, 'contribut': 3960, 'contrast': 3961, 'contrari': 3962, 'contradict': 3963, 'contract': 3964, 'continu': 3965, 'context': 3966, 'contest': 3967, 'content': 3968, 'contempt': 3969, 'contemporari': 3970, 'contempl': 3971, 'contain': 3972, 'contact': 3973, 'consum': 3974, 'construct': 3975, 'constitut': 3976, 'constantli': 3977, 'constant': 3978, 'conspiraci': 3979, 'consist': 3980, 'consider': 3981, 'consid': 3982, 'conserv': 3983, 'consequ': 3984, 'conscious': 3985, 'consciou': 3986, 'conscienc': 3987, 'conrad': 3988, 'conquer': 3989, 'connor': 3990, 'conneri': 3991, 'connect': 3992, 'congratul': 3993, 'confus': 3994, 'confront': 3995, 'conflict': 3996, 'confirm': 3997, 'confin': 3998, 'confid': 3999, 'confess': 4000, 'conduct': 4001, 'condit': 4002, 'condemn': 4003, 'conclus': 4004, 'conclud': 4005, 'concert': 4006, 'concern': 4007, 'concept': 4008, 'concentr': 4009, 'conceiv': 4010, 'conan': 4011, 'con': 4012, 'comput': 4013, 'compromis': 4014, 'compris': 4015, 'comprehens': 4016, 'comprehend': 4017, 'composit': 4018, 'compos': 4019, 'compliment': 4020, 'complic': 4021, 'complex': 4022, 'complet': 4023, 'complaint': 4024, 'complain': 4025, 'competit': 4026, 'compet': 4027, 'compens': 4028, 'compel': 4029, 'compass': 4030, 'comparison': 4031, 'compar': 4032, 'companion': 4033, 'compani': 4034, 'communist': 4035, 'commun': 4036, 'common': 4037, 'commit': 4038, 'commerci': 4039, 'commentari': 4040, 'comment': 4041, 'commend': 4042, 'command': 4043, 'comic': 4044, 'comfort': 4045, 'comedian': 4046, 'comedi': 4047, 'comed': 4048, 'come': 4049, 'combin': 4050, 'combat': 4051, 'comb': 4052, 'com': 4053, 'columbo': 4054, 'colour': 4055, 'color': 4056, 'coloni': 4057, 'colonel': 4058, 'colleg': 4059, 'collector': 4060, 'collect': 4061, 'colleagu': 4062, 'collaps': 4063, 'collabor': 4064, 'colin': 4065, 'cole': 4066, 'cold': 4067, 'coincid': 4068, 'coher': 4069, 'cohen': 4070, 'coffe': 4071, 'code': 4072, 'coat': 4073, 'coaster': 4074, 'coast': 4075, 'coach': 4076, 'co': 4077, 'clumsi': 4078, 'clueless': 4079, 'clue': 4080, 'club': 4081, 'clown': 4082, 'cloud': 4083, 'cloth': 4084, 'closet': 4085, 'closest': 4086, 'closer': 4087, 'close': 4088, 'clone': 4089, 'clock': 4090, 'clip': 4091, 'clint': 4092, 'clinic': 4093, 'climb': 4094, 'climax': 4095, 'climat': 4096, 'climact': 4097, 'cliffhang': 4098, 'cliff': 4099, 'client': 4100, 'click': 4101, 'clich': 4102, 'cleverli': 4103, 'clever': 4104, 'clerk': 4105, 'clearli': 4106, 'clear': 4107, 'clean': 4108, 'claustrophob': 4109, 'claud': 4110, 'clau': 4111, 'classic': 4112, 'class': 4113, 'clash': 4114, 'clark': 4115, 'clara': 4116, 'clan': 4117, 'clair': 4118, 'claim': 4119, 'clad': 4120, 'civil': 4121, 'citizen': 4122, 'citi': 4123, 'circumst': 4124, 'circu': 4125, 'circl': 4126, 'cinematographi': 4127, 'cinematograph': 4128, 'cinemat': 4129, 'cinema': 4130, 'cinderella': 4131, 'cigarett': 4132, 'cia': 4133, 'church': 4134, 'chuckl': 4135, 'chuck': 4136, 'chronicl': 4137, 'christoph': 4138, 'christma': 4139, 'christin': 4140, 'christian': 4141, 'christi': 4142, 'christ': 4143, 'chri': 4144, 'chosen': 4145, 'chose': 4146, 'choru': 4147, 'choreographi': 4148, 'choreograph': 4149, 'choppi': 4150, 'chop': 4151, 'choos': 4152, 'choke': 4153, 'choic': 4154, 'chip': 4155, 'chines': 4156, 'china': 4157, 'chill': 4158, 'children': 4159, 'childish': 4160, 'childhood': 4161, 'child': 4162, 'chief': 4163, 'chicken': 4164, 'chick': 4165, 'chicago': 4166, 'chew': 4167, 'chest': 4168, 'chess': 4169, 'cher': 4170, 'chemistri': 4171, 'cheesi': 4172, 'chees': 4173, 'cheer': 4174, 'cheek': 4175, 'check': 4176, 'cheat': 4177, 'cheap': 4178, 'che': 4179, 'chavez': 4180, 'chase': 4181, 'charm': 4182, 'charlton': 4183, 'charlott': 4184, 'charli': 4185, 'charl': 4186, 'charismat': 4187, 'charisma': 4188, 'charg': 4189, 'characterist': 4190, 'characteris': 4191, 'character': 4192, 'charact': 4193, 'chapter': 4194, 'chaplin': 4195, 'chao': 4196, 'channel': 4197, 'chang': 4198, 'chanc': 4199, 'chan': 4200, 'championship': 4201, 'champion': 4202, 'chamberlain': 4203, 'challeng': 4204, 'chair': 4205, 'chainsaw': 4206, 'chain': 4207, 'cgi': 4208, 'cg': 4209, 'certainli': 4210, 'certain': 4211, 'ceremoni': 4212, 'cerebr': 4213, 'centuri': 4214, 'central': 4215, 'centr': 4216, 'center': 4217, 'cent': 4218, 'censor': 4219, 'cemeteri': 4220, 'celluloid': 4221, 'cell': 4222, 'celebr': 4223, 'cecil': 4224, 'cd': 4225, 'cb': 4226, 'cave': 4227, 'caus': 4228, 'caught': 4229, 'cattl': 4230, 'cathol': 4231, 'catherin': 4232, 'categori': 4233, 'catchi': 4234, 'catch': 4235, 'cat': 4236, 'casual': 4237, 'castl': 4238, 'cast': 4239, 'cassidi': 4240, 'cassavet': 4241, 'casper': 4242, 'casino': 4243, 'cash': 4244, 'case': 4245, 'cartoonish': 4246, 'cartoon': 4247, 'carter': 4248, 'carri': 4249, 'carrey': 4250, 'carradin': 4251, 'carpent': 4252, 'carol': 4253, 'carmen': 4254, 'carlo': 4255, 'carlito': 4256, 'carla': 4257, 'carl': 4258, 'caricatur': 4259, 'cari': 4260, 'carey': 4261, 'carel': 4262, 'career': 4263, 'care': 4264, 'cardboard': 4265, 'card': 4266, 'car': 4267, 'captur': 4268, 'captiv': 4269, 'captain': 4270, 'capot': 4271, 'capit': 4272, 'cape': 4273, 'capabl': 4274, 'cap': 4275, 'canyon': 4276, 'cant': 4277, 'cannot': 4278, 'cannon': 4279, 'cannib': 4280, 'candl': 4281, 'candid': 4282, 'candi': 4283, 'cancer': 4284, 'cancel': 4285, 'canadian': 4286, 'canada': 4287, 'campi': 4288, 'campbel': 4289, 'campaign': 4290, 'camp': 4291, 'cameron': 4292, 'camera': 4293, 'cameo': 4294, 'came': 4295, 'camcord': 4296, 'calm': 4297, 'call': 4298, 'california': 4299, 'calib': 4300, 'cake': 4301, 'cain': 4302, 'cagney': 4303, 'cage': 4304, 'cabl': 4305, 'cabin': 4306, 'c': 4307, 'bye': 4308, 'buzz': 4309, 'buy': 4310, 'button': 4311, 'butt': 4312, 'butler': 4313, 'butcher': 4314, 'buster': 4315, 'bust': 4316, 'businessman': 4317, 'busi': 4318, 'bush': 4319, 'burton': 4320, 'burt': 4321, 'burst': 4322, 'burn': 4323, 'buri': 4324, 'bunni': 4325, 'bunch': 4326, 'bump': 4327, 'bumbl': 4328, 'bulli': 4329, 'bullet': 4330, 'bull': 4331, 'bulk': 4332, 'built': 4333, 'build': 4334, 'bug': 4335, 'buffalo': 4336, 'buff': 4337, 'budget': 4338, 'buddi': 4339, 'bud': 4340, 'buck': 4341, 'bubbl': 4342, 'bu': 4343, 'btw': 4344, 'bsg': 4345, 'brutal': 4346, 'brush': 4347, 'bruce': 4348, 'brown': 4349, 'brought': 4350, 'brother': 4351, 'brosnan': 4352, 'brooklyn': 4353, 'brook': 4354, 'brood': 4355, 'bronson': 4356, 'broken': 4357, 'broke': 4358, 'broadway': 4359, 'broadcast': 4360, 'broad': 4361, 'bro': 4362, 'british': 4363, 'britain': 4364, 'brit': 4365, 'bring': 4366, 'brilliantli': 4367, 'brilliant': 4368, 'brillianc': 4369, 'bright': 4370, 'briefli': 4371, 'brief': 4372, 'bridget': 4373, 'bridg': 4374, 'bride': 4375, 'brian': 4376, 'brendan': 4377, 'brenda': 4378, 'breed': 4379, 'breathtak': 4380, 'breath': 4381, 'breast': 4382, 'breakfast': 4383, 'breakdown': 4384, 'break': 4385, 'bread': 4386, 'brazil': 4387, 'bravo': 4388, 'braveheart': 4389, 'brave': 4390, 'brando': 4391, 'brand': 4392, 'branagh': 4393, 'brain': 4394, 'bradi': 4395, 'brad': 4396, 'boyl': 4397, 'boyfriend': 4398, 'boyer': 4399, 'boy': 4400, 'boxer': 4401, 'box': 4402, 'bowl': 4403, 'bow': 4404, 'bourn': 4405, 'bound': 4406, 'bounc': 4407, 'bought': 4408, 'bottom': 4409, 'bottl': 4410, 'bother': 4411, 'boston': 4412, 'boss': 4413, 'borrow': 4414, 'born': 4415, 'bori': 4416, 'boredom': 4417, 'bore': 4418, 'border': 4419, 'boot': 4420, 'boom': 4421, 'book': 4422, 'boob': 4423, 'boo': 4424, 'bonu': 4425, 'bone': 4426, 'bondag': 4427, 'bond': 4428, 'bomb': 4429, 'bollywood': 4430, 'boll': 4431, 'bold': 4432, 'boil': 4433, 'bogu': 4434, 'bodi': 4435, 'bobbi': 4436, 'bob': 4437, 'boat': 4438, 'boast': 4439, 'board': 4440, 'bo': 4441, 'blur': 4442, 'blunt': 4443, 'blue': 4444, 'blown': 4445, 'blow': 4446, 'bloom': 4447, 'bloodi': 4448, 'blood': 4449, 'blond': 4450, 'blockbust': 4451, 'block': 4452, 'blob': 4453, 'blind': 4454, 'blew': 4455, 'bless': 4456, 'blend': 4457, 'bleed': 4458, 'bleak': 4459, 'blatantli': 4460, 'blatant': 4461, 'blast': 4462, 'blank': 4463, 'bland': 4464, 'blame': 4465, 'blake': 4466, 'blair': 4467, 'blah': 4468, 'blade': 4469, 'blackmail': 4470, 'black': 4471, 'bizarr': 4472, 'bitter': 4473, 'bitten': 4474, 'bite': 4475, 'bitch': 4476, 'bit': 4477, 'birthday': 4478, 'birth': 4479, 'bird': 4480, 'biographi': 4481, 'bin': 4482, 'billi': 4483, 'bill': 4484, 'biko': 4485, 'bikini': 4486, 'biker': 4487, 'bike': 4488, 'biggest': 4489, 'bigger': 4490, 'big': 4491, 'biblic': 4492, 'bibl': 4493, 'bias': 4494, 'beyond': 4495, 'bewar': 4496, 'beverli': 4497, 'betti': 4498, 'better': 4499, 'bett': 4500, 'betray': 4501, 'bet': 4502, 'best': 4503, 'besid': 4504, 'bernard': 4505, 'berlin': 4506, 'bergman': 4507, 'bent': 4508, 'benefit': 4509, 'beneath': 4510, 'bend': 4511, 'ben': 4512, 'belushi': 4513, 'belt': 4514, 'belov': 4515, 'belong': 4516, 'belli': 4517, 'bell': 4518, 'believ': 4519, 'belief': 4520, 'bela': 4521, 'behold': 4522, 'behind': 4523, 'behaviour': 4524, 'behavior': 4525, 'behav': 4526, 'begin': 4527, 'began': 4528, 'beg': 4529, 'befriend': 4530, 'beer': 4531, 'bedroom': 4532, 'bed': 4533, 'becom': 4534, 'becam': 4535, 'beauti': 4536, 'beatti': 4537, 'beatl': 4538, 'beaten': 4539, 'beat': 4540, 'beast': 4541, 'beard': 4542, 'bear': 4543, 'bean': 4544, 'beach': 4545, 'be': 4546, 'bbc': 4547, 'bay': 4548, 'battl': 4549, 'batman': 4550, 'bathroom': 4551, 'bath': 4552, 'bate': 4553, 'bat': 4554, 'bastard': 4555, 'basketbal': 4556, 'basket': 4557, 'basing': 4558, 'basic': 4559, 'basi': 4560, 'bash': 4561, 'basement': 4562, 'basebal': 4563, 'base': 4564, 'barrymor': 4565, 'barri': 4566, 'barrel': 4567, 'barn': 4568, 'bargain': 4569, 'bare': 4570, 'barbara': 4571, 'bar': 4572, 'banter': 4573, 'bank': 4574, 'bang': 4575, 'band': 4576, 'banal': 4577, 'ban': 4578, 'ballet': 4579, 'ball': 4580, 'baldwin': 4581, 'balanc': 4582, 'bakshi': 4583, 'baker': 4584, 'bake': 4585, 'bait': 4586, 'bag': 4587, 'baffl': 4588, 'badli': 4589, 'baddi': 4590, 'bad': 4591, 'bacon': 4592, 'backward': 4593, 'background': 4594, 'backdrop': 4595, 'back': 4596, 'bachelor': 4597, 'bach': 4598, 'bacal': 4599, 'babi': 4600, 'babe': 4601, 'b': 4602, 'axe': 4603, 'awkward': 4604, 'awhil': 4605, 'awesom': 4606, 'awe': 4607, 'away': 4608, 'award': 4609, 'awar': 4610, 'awaken': 4611, 'awak': 4612, 'await': 4613, 'aw': 4614, 'avoid': 4615, 'averag': 4616, 'aveng': 4617, 'avail': 4618, 'automat': 4619, 'author': 4620, 'authent': 4621, 'australian': 4622, 'australia': 4623, 'austin': 4624, 'austen': 4625, 'aussi': 4626, 'aunt': 4627, 'audrey': 4628, 'audit': 4629, 'audio': 4630, 'audienc': 4631, 'attribut': 4632, 'attract': 4633, 'attorney': 4634, 'attitud': 4635, 'attent': 4636, 'attend': 4637, 'attenborough': 4638, 'attempt': 4639, 'attack': 4640, 'attach': 4641, 'atroci': 4642, 'atroc': 4643, 'atmospher': 4644, 'atlanti': 4645, 'athlet': 4646, 'asylum': 4647, 'astronaut': 4648, 'astound': 4649, 'astonish': 4650, 'astair': 4651, 'assur': 4652, 'assum': 4653, 'assort': 4654, 'associ': 4655, 'assist': 4656, 'assign': 4657, 'asset': 4658, 'assert': 4659, 'assembl': 4660, 'assault': 4661, 'assassin': 4662, 'ass': 4663, 'aspir': 4664, 'aspect': 4665, 'asleep': 4666, 'ask': 4667, 'asid': 4668, 'asian': 4669, 'ashley': 4670, 'asham': 4671, 'ash': 4672, 'artwork': 4673, 'artsi': 4674, 'artist': 4675, 'artifici': 4676, 'articl': 4677, 'arthur': 4678, 'art': 4679, 'arrow': 4680, 'arrog': 4681, 'arriv': 4682, 'arrest': 4683, 'arrang': 4684, 'around': 4685, 'arnold': 4686, 'armstrong': 4687, 'armi': 4688, 'arm': 4689, 'aristocrat': 4690, 'aris': 4691, 'ariel': 4692, 'argument': 4693, 'arguabl': 4694, 'argu': 4695, 'area': 4696, 'archiv': 4697, 'arc': 4698, 'arab': 4699, 'april': 4700, 'approv': 4701, 'appropri': 4702, 'approach': 4703, 'appreci': 4704, 'appli': 4705, 'applaud': 4706, 'appl': 4707, 'appear': 4708, 'appeal': 4709, 'appar': 4710, 'appal': 4711, 'apolog': 4712, 'ape': 4713, 'apart': 4714, 'anywher': 4715, 'anyway': 4716, 'anyth': 4717, 'anyon': 4718, 'anymor': 4719, 'anybodi': 4720, 'antwon': 4721, 'antonioni': 4722, 'antonio': 4723, 'anton': 4724, 'anticip': 4725, 'antic': 4726, 'anti': 4727, 'anthoni': 4728, 'antholog': 4729, 'antagonist': 4730, 'ant': 4731, 'answer': 4732, 'anoth': 4733, 'annoy': 4734, 'announc': 4735, 'anni': 4736, 'anna': 4737, 'ann': 4738, 'anim': 4739, 'angst': 4740, 'angri': 4741, 'angl': 4742, 'anger': 4743, 'angela': 4744, 'angel': 4745, 'andrew': 4746, 'andr': 4747, 'andi': 4748, 'anderson': 4749, 'ancient': 4750, 'anchor': 4751, 'analyz': 4752, 'analysi': 4753, 'amus': 4754, 'amount': 4755, 'amor': 4756, 'amongst': 4757, 'among': 4758, 'amitabh': 4759, 'ami': 4760, 'american': 4761, 'america': 4762, 'ambiti': 4763, 'ambit': 4764, 'ambigu': 4765, 'amazon': 4766, 'amazingli': 4767, 'amaz': 4768, 'amateurish': 4769, 'amateur': 4770, 'amanda': 4771, 'alway': 4772, 'alvin': 4773, 'altogeth': 4774, 'altman': 4775, 'although': 4776, 'altern': 4777, 'alter': 4778, 'also': 4779, 'alright': 4780, 'alreadi': 4781, 'alongsid': 4782, 'along': 4783, 'alon': 4784, 'almost': 4785, 'allow': 4786, 'alli': 4787, 'alley': 4788, 'allen': 4789, 'alleg': 4790, 'aliv': 4791, 'alison': 4792, 'alik': 4793, 'alien': 4794, 'alicia': 4795, 'alic': 4796, 'alfr': 4797, 'alexandr': 4798, 'alexand': 4799, 'alex': 4800, 'alert': 4801, 'alec': 4802, 'alcohol': 4803, 'album': 4804, 'albert': 4805, 'albeit': 4806, 'alarm': 4807, 'alan': 4808, 'ala': 4809, 'al': 4810, 'akshay': 4811, 'akin': 4812, 'aka': 4813, 'airport': 4814, 'airplan': 4815, 'air': 4816, 'aim': 4817, 'aid': 4818, 'ahead': 4819, 'ah': 4820, 'agre': 4821, 'ago': 4822, 'aggress': 4823, 'agent': 4824, 'agenda': 4825, 'agenc': 4826, 'age': 4827, 'afterward': 4828, 'afternoon': 4829, 'african': 4830, 'africa': 4831, 'afraid': 4832, 'aforement': 4833, 'afford': 4834, 'affleck': 4835, 'affect': 4836, 'affair': 4837, 'aesthet': 4838, 'advis': 4839, 'advic': 4840, 'advertis': 4841, 'adventur': 4842, 'advantag': 4843, 'advanc': 4844, 'adult': 4845, 'ador': 4846, 'adopt': 4847, 'adolesc': 4848, 'admittedli': 4849, 'admit': 4850, 'admir': 4851, 'adequ': 4852, 'address': 4853, 'addit': 4854, 'addict': 4855, 'add': 4856, 'adapt': 4857, 'adam': 4858, 'ad': 4859, 'actual': 4860, 'actress': 4861, 'actor': 4862, 'activ': 4863, 'action': 4864, 'act': 4865, 'across': 4866, 'acquir': 4867, 'acquaint': 4868, 'acknowledg': 4869, 'acid': 4870, 'achiev': 4871, 'ace': 4872, 'accus': 4873, 'accuraci': 4874, 'accur': 4875, 'account': 4876, 'accord': 4877, 'accomplish': 4878, 'accompani': 4879, 'acclaim': 4880, 'accident': 4881, 'accid': 4882, 'access': 4883, 'accept': 4884, 'accent': 4885, 'academi': 4886, 'abysm': 4887, 'abus': 4888, 'abund': 4889, 'absurd': 4890, 'absorb': 4891, 'absolut': 4892, 'absent': 4893, 'absenc': 4894, 'abrupt': 4895, 'abraham': 4896, 'abound': 4897, 'abort': 4898, 'aborigin': 4899, 'abomin': 4900, 'abl': 4901, 'abil': 4902, 'abc': 4903, 'abandon': 4904, '99': 4905, '95': 4906, '90': 4907, '9': 4908, '80': 4909, '8': 4910, '75': 4911, '73': 4912, '70': 4913, '7': 4914, '60': 4915, '6': 4916, '50': 4917, '5': 4918, '4th': 4919, '45': 4920, '40': 4921, '4': 4922, '3rd': 4923, '3d': 4924, '35': 4925, '3000': 4926, '30': 4927, '3': 4928, '2nd': 4929, '28': 4930, '25': 4931, '24': 4932, '22': 4933, '21st': 4934, '20th': 4935, '2008': 4936, '2007': 4937, '2006': 4938, '2005': 4939, '2004': 4940, '2003': 4941, '2002': 4942, '2001': 4943, '2000': 4944, '20': 4945, '2': 4946, '1st': 4947, '19th': 4948, '1999': 4949, '1997': 4950, '1996': 4951, '1995': 4952, '1994': 4953, '1993': 4954, '1991': 4955, '1990': 4956, '1989': 4957, '1988': 4958, '1987': 4959, '1986': 4960, '1985': 4961, '1984': 4962, '1983': 4963, '1981': 4964, '1980': 4965, '1979': 4966, '1978': 4967, '1977': 4968, '1976': 4969, '1974': 4970, '1973': 4971, '1972': 4972, '1971': 4973, '1970': 4974, '1969': 4975, '1968': 4976, '1960': 4977, '1950': 4978, '1945': 4979, '1940': 4980, '1939': 4981, '1936': 4982, '1933': 4983, '1930': 4984, '1920': 4985, '19': 4986, '18': 4987, '17': 4988, '16': 4989, '15': 4990, '14': 4991, '13th': 4992, '13': 4993, '12': 4994, '11': 4995, '100': 4996, '10': 4997, '1': 4998, '000': 4999}\n"
     ]
    }
   ],
   "source": [
    "word_dict = build_dict(train_X)"
   ]
  },
  {
   "cell_type": "markdown",
   "metadata": {},
   "source": [
    "**Question:** What are the five most frequently appearing (tokenized) words in the training set? Does it makes sense that these words appear frequently in the training set?"
   ]
  },
  {
   "cell_type": "markdown",
   "metadata": {},
   "source": [
    "**Answer:** Answer is printed in below cell using print statement."
   ]
  },
  {
   "cell_type": "code",
   "execution_count": 13,
   "metadata": {},
   "outputs": [
    {
     "name": "stdout",
     "output_type": "stream",
     "text": [
      "Five most frequently appearing words in the training set\n",
      "zoom\n",
      "zone\n",
      "zombi\n",
      "zizek\n",
      "zero\n"
     ]
    }
   ],
   "source": [
    "# TODO: Use this space to determine the five most frequently appearing words in the training set.\n",
    "import itertools\n",
    "\n",
    "print (\"Five most frequently appearing words in the training set\")\n",
    "for x in list(word_dict)[0:5]:\n",
    "    print (x)"
   ]
  },
  {
   "cell_type": "markdown",
   "metadata": {},
   "source": [
    "### Save `word_dict`\n",
    "\n",
    "Later on when we construct an endpoint which processes a submitted review we will need to make use of the `word_dict` which we have created. As such, we will save it to a file now for future use."
   ]
  },
  {
   "cell_type": "code",
   "execution_count": 14,
   "metadata": {},
   "outputs": [],
   "source": [
    "data_dir = '../data/pytorch' # The folder we will use for storing data\n",
    "if not os.path.exists(data_dir): # Make sure that the folder exists\n",
    "    os.makedirs(data_dir)"
   ]
  },
  {
   "cell_type": "code",
   "execution_count": 15,
   "metadata": {},
   "outputs": [],
   "source": [
    "with open(os.path.join(data_dir, 'word_dict.pkl'), \"wb\") as f:\n",
    "    pickle.dump(word_dict, f)"
   ]
  },
  {
   "cell_type": "markdown",
   "metadata": {},
   "source": [
    "### Transform the reviews\n",
    "\n",
    "Now that we have our word dictionary which allows us to transform the words appearing in the reviews into integers, it is time to make use of it and convert our reviews to their integer sequence representation, making sure to pad or truncate to a fixed length, which in our case is `500`."
   ]
  },
  {
   "cell_type": "code",
   "execution_count": 16,
   "metadata": {},
   "outputs": [],
   "source": [
    "def convert_and_pad(word_dict, sentence, pad=500):\n",
    "    NOWORD = 0 # We will use 0 to represent the 'no word' category\n",
    "    INFREQ = 1 # and we use 1 to represent the infrequent words, i.e., words not appearing in word_dict\n",
    "    \n",
    "    working_sentence = [NOWORD] * pad\n",
    "    \n",
    "    for word_index, word in enumerate(sentence[:pad]):\n",
    "        if word in word_dict:\n",
    "            working_sentence[word_index] = word_dict[word]\n",
    "        else:\n",
    "            working_sentence[word_index] = INFREQ\n",
    "    #print(\"CnP\")        \n",
    "    return working_sentence, min(len(sentence), pad)\n",
    "\n",
    "def convert_and_pad_data(word_dict, data, pad=500):\n",
    "    result = []\n",
    "    lengths = []\n",
    "    \n",
    "    for sentence in data:\n",
    "        converted, leng = convert_and_pad(word_dict, sentence, pad)\n",
    "        result.append(converted)\n",
    "        lengths.append(leng)\n",
    "        \n",
    "    return np.array(result), np.array(lengths)"
   ]
  },
  {
   "cell_type": "code",
   "execution_count": 17,
   "metadata": {},
   "outputs": [],
   "source": [
    "train_X, train_X_len = convert_and_pad_data(word_dict, train_X)\n",
    "test_X, test_X_len = convert_and_pad_data(word_dict, test_X)"
   ]
  },
  {
   "cell_type": "markdown",
   "metadata": {},
   "source": [
    "As a quick check to make sure that things are working as intended, check to see what one of the reviews in the training set looks like after having been processeed. Does this look reasonable? What is the length of a review in the training set?"
   ]
  },
  {
   "cell_type": "code",
   "execution_count": 18,
   "metadata": {},
   "outputs": [
    {
     "name": "stdout",
     "output_type": "stream",
     "text": [
      "Read preprocessed data from cache file: preprocessed_data.pkl\n",
      "Sample processed reivew:\n",
      " [[   1    1    1 ...    1    1    1]\n",
      " [   1    1    1 ...    1    1    1]\n",
      " [3699 3699  429 ... 3699  429  429]\n",
      " [ 429 3699  429 ... 3699  429  429]]\n",
      "\n",
      " Length of each processed review is: 500\n"
     ]
    },
    {
     "name": "stderr",
     "output_type": "stream",
     "text": [
      "/home/ec2-user/anaconda3/envs/pytorch_p36/lib/python3.6/site-packages/ipykernel/__main__.py:8: FutureWarning: elementwise comparison failed; returning scalar instead, but in the future will perform elementwise comparison\n"
     ]
    }
   ],
   "source": [
    "# Use this cell to examine one of the processed reviews to make sure everything is working as intended.\n",
    "#data = \"This is a great movie\"\n",
    "\n",
    "test_preprocessed_data = preprocess_data(train_X[1], test_X[1], train_y[1], test_y[1])\n",
    "\n",
    "#print (test_preprocessed_data[1])\n",
    "test_processed_review, len_prcessed_review = convert_and_pad_data(train_X[1],test_preprocessed_data)\n",
    "\n",
    "print (\"Sample processed reivew:\\n\", test_processed_review)\n",
    "print (\"\\n Length of each processed review is:\", len_prcessed_review[1])\n"
   ]
  },
  {
   "cell_type": "markdown",
   "metadata": {},
   "source": [
    "**Question:** In the cells above we use the `preprocess_data` and `convert_and_pad_data` methods to process both the training and testing set. Why or why not might this be a problem?"
   ]
  },
  {
   "cell_type": "markdown",
   "metadata": {},
   "source": [
    "**Answer:** The preprocessed data loads pickled file if exists from the earlier execution, in case the words are updated to the dataset, the preprocess_data method is not well written to consider the updated words from dataset.  \n",
    "The Convert_and_pad_data checks the length of the review submitted is 500 words, if not truncates/pads the review submitted to 500 words."
   ]
  },
  {
   "cell_type": "markdown",
   "metadata": {},
   "source": [
    "## Step 3: Upload the data to S3\n",
    "\n",
    "As in the XGBoost notebook, we will need to upload the training dataset to S3 in order for our training code to access it. For now we will save it locally and we will upload to S3 later on.\n",
    "\n",
    "### Save the processed training dataset locally\n",
    "\n",
    "It is important to note the format of the data that we are saving as we will need to know it when we write the training code. In our case, each row of the dataset has the form `label`, `length`, `review[500]` where `review[500]` is a sequence of `500` integers representing the words in the review."
   ]
  },
  {
   "cell_type": "code",
   "execution_count": 20,
   "metadata": {},
   "outputs": [],
   "source": [
    "import pandas as pd\n",
    "    \n",
    "pd.concat([pd.DataFrame(train_y), pd.DataFrame(train_X_len), pd.DataFrame(train_X)], axis=1) \\\n",
    "        .to_csv(os.path.join(data_dir, 'train.csv'), header=False, index=False)"
   ]
  },
  {
   "cell_type": "markdown",
   "metadata": {},
   "source": [
    "### Uploading the training data\n",
    "\n",
    "\n",
    "Next, we need to upload the training data to the SageMaker default S3 bucket so that we can provide access to it while training our model."
   ]
  },
  {
   "cell_type": "code",
   "execution_count": 21,
   "metadata": {},
   "outputs": [
    {
     "name": "stderr",
     "output_type": "stream",
     "text": [
      "INFO:sagemaker:Created S3 bucket: sagemaker-us-east-2-652897494825\n"
     ]
    }
   ],
   "source": [
    "import sagemaker\n",
    "\n",
    "sagemaker_session = sagemaker.Session()\n",
    "\n",
    "bucket = sagemaker_session.default_bucket()\n",
    "prefix = 'sagemaker/sentiment_rnn'\n",
    "\n",
    "role = sagemaker.get_execution_role()"
   ]
  },
  {
   "cell_type": "code",
   "execution_count": 22,
   "metadata": {},
   "outputs": [],
   "source": [
    "input_data = sagemaker_session.upload_data(path=data_dir, bucket=bucket, key_prefix=prefix)"
   ]
  },
  {
   "cell_type": "markdown",
   "metadata": {},
   "source": [
    "**NOTE:** The cell above uploads the entire contents of our data directory. This includes the `word_dict.pkl` file. This is fortunate as we will need this later on when we create an endpoint that accepts an arbitrary review. For now, we will just take note of the fact that it resides in the data directory (and so also in the S3 training bucket) and that we will need to make sure it gets saved in the model directory."
   ]
  },
  {
   "cell_type": "markdown",
   "metadata": {},
   "source": [
    "## Step 4: Build and Train the PyTorch Model\n",
    "\n",
    "In the XGBoost notebook we discussed what a model is in the SageMaker framework. In particular, a model comprises three objects\n",
    "\n",
    " - Model Artifacts,\n",
    " - Training Code, and\n",
    " - Inference Code,\n",
    " \n",
    "each of which interact with one another. In the XGBoost example we used training and inference code that was provided by Amazon. Here we will still be using containers provided by Amazon with the added benefit of being able to include our own custom code.\n",
    "\n",
    "We will start by implementing our own neural network in PyTorch along with a training script. For the purposes of this project we have provided the necessary model object in the `model.py` file, inside of the `train` folder. You can see the provided implementation by running the cell below."
   ]
  },
  {
   "cell_type": "code",
   "execution_count": 23,
   "metadata": {},
   "outputs": [
    {
     "name": "stdout",
     "output_type": "stream",
     "text": [
      "\u001b[34mimport\u001b[39;49;00m \u001b[04m\u001b[36mtorch.nn\u001b[39;49;00m \u001b[34mas\u001b[39;49;00m \u001b[04m\u001b[36mnn\u001b[39;49;00m\r\n",
      "\r\n",
      "\u001b[34mclass\u001b[39;49;00m \u001b[04m\u001b[32mLSTMClassifier\u001b[39;49;00m(nn.Module):\r\n",
      "    \u001b[33m\"\"\"\u001b[39;49;00m\r\n",
      "\u001b[33m    This is the simple RNN model we will be using to perform Sentiment Analysis.\u001b[39;49;00m\r\n",
      "\u001b[33m    \"\"\"\u001b[39;49;00m\r\n",
      "\r\n",
      "    \u001b[34mdef\u001b[39;49;00m \u001b[32m__init__\u001b[39;49;00m(\u001b[36mself\u001b[39;49;00m, embedding_dim, hidden_dim, vocab_size):\r\n",
      "        \u001b[33m\"\"\"\u001b[39;49;00m\r\n",
      "\u001b[33m        Initialize the model by settingg up the various layers.\u001b[39;49;00m\r\n",
      "\u001b[33m        \"\"\"\u001b[39;49;00m\r\n",
      "        \u001b[36msuper\u001b[39;49;00m(LSTMClassifier, \u001b[36mself\u001b[39;49;00m).\u001b[32m__init__\u001b[39;49;00m()\r\n",
      "\r\n",
      "        \u001b[36mself\u001b[39;49;00m.embedding = nn.Embedding(vocab_size, embedding_dim, padding_idx=\u001b[34m0\u001b[39;49;00m)\r\n",
      "        \u001b[36mself\u001b[39;49;00m.lstm = nn.LSTM(embedding_dim, hidden_dim)\r\n",
      "        \u001b[36mself\u001b[39;49;00m.dense = nn.Linear(in_features=hidden_dim, out_features=\u001b[34m1\u001b[39;49;00m)\r\n",
      "        \u001b[36mself\u001b[39;49;00m.sig = nn.Sigmoid()\r\n",
      "        \r\n",
      "        \u001b[36mself\u001b[39;49;00m.word_dict = \u001b[36mNone\u001b[39;49;00m\r\n",
      "\r\n",
      "    \u001b[34mdef\u001b[39;49;00m \u001b[32mforward\u001b[39;49;00m(\u001b[36mself\u001b[39;49;00m, x):\r\n",
      "        \u001b[33m\"\"\"\u001b[39;49;00m\r\n",
      "\u001b[33m        Perform a forward pass of our model on some input.\u001b[39;49;00m\r\n",
      "\u001b[33m        \"\"\"\u001b[39;49;00m\r\n",
      "        x = x.t()\r\n",
      "        lengths = x[\u001b[34m0\u001b[39;49;00m,:]\r\n",
      "        reviews = x[\u001b[34m1\u001b[39;49;00m:,:]\r\n",
      "        embeds = \u001b[36mself\u001b[39;49;00m.embedding(reviews)\r\n",
      "        lstm_out, _ = \u001b[36mself\u001b[39;49;00m.lstm(embeds)\r\n",
      "        out = \u001b[36mself\u001b[39;49;00m.dense(lstm_out)\r\n",
      "        out = out[lengths - \u001b[34m1\u001b[39;49;00m, \u001b[36mrange\u001b[39;49;00m(\u001b[36mlen\u001b[39;49;00m(lengths))]\r\n",
      "        \u001b[34mreturn\u001b[39;49;00m \u001b[36mself\u001b[39;49;00m.sig(out.squeeze())\r\n"
     ]
    }
   ],
   "source": [
    "!pygmentize train/model.py"
   ]
  },
  {
   "cell_type": "markdown",
   "metadata": {},
   "source": [
    "The important takeaway from the implementation provided is that there are three parameters that we may wish to tweak to improve the performance of our model. These are the embedding dimension, the hidden dimension and the size of the vocabulary. We will likely want to make these parameters configurable in the training script so that if we wish to modify them we do not need to modify the script itself. We will see how to do this later on. To start we will write some of the training code in the notebook so that we can more easily diagnose any issues that arise.\n",
    "\n",
    "First we will load a small portion of the training data set to use as a sample. It would be very time consuming to try and train the model completely in the notebook as we do not have access to a gpu and the compute instance that we are using is not particularly powerful. However, we can work on a small bit of the data to get a feel for how our training script is behaving."
   ]
  },
  {
   "cell_type": "code",
   "execution_count": 24,
   "metadata": {},
   "outputs": [],
   "source": [
    "import torch\n",
    "import torch.utils.data\n",
    "\n",
    "# Read in only the first 250 rows\n",
    "train_sample = pd.read_csv(os.path.join(data_dir, 'train.csv'), header=None, names=None, nrows=250)\n",
    "\n",
    "# Turn the input pandas dataframe into tensors\n",
    "train_sample_y = torch.from_numpy(train_sample[[0]].values).float().squeeze()\n",
    "train_sample_X = torch.from_numpy(train_sample.drop([0], axis=1).values).long()\n",
    "\n",
    "# Build the dataset\n",
    "train_sample_ds = torch.utils.data.TensorDataset(train_sample_X, train_sample_y)\n",
    "\n",
    "# Build the dataloader\n",
    "train_sample_dl = torch.utils.data.DataLoader(train_sample_ds, batch_size=50)"
   ]
  },
  {
   "cell_type": "markdown",
   "metadata": {},
   "source": [
    "### (TODO) Writing the training method\n",
    "\n",
    "Next we need to write the training code itself. This should be very similar to training methods that you have written before to train PyTorch models. We will leave any difficult aspects such as model saving / loading and parameter loading until a little later."
   ]
  },
  {
   "cell_type": "code",
   "execution_count": 25,
   "metadata": {},
   "outputs": [],
   "source": [
    "# move tensors to GPU if CUDA is available\n",
    "use_cuda = torch.cuda.is_available()\n",
    "\n",
    "def train(model, train_loader, epochs, optimizer, loss_fn, device):\n",
    "    for epoch in range(1, epochs + 1):\n",
    "        model.train()\n",
    "        total_loss = 0\n",
    "        for batch in train_loader:         \n",
    "            batch_X, batch_y = batch\n",
    "            \n",
    "            batch_X = batch_X.to(device)\n",
    "            batch_y = batch_y.to(device)\n",
    "          \n",
    "            # start of custom code\n",
    "            # TODO: Complete this train method to train the model provided.\n",
    "            # zero accumulated gradients\n",
    "            optimizer.zero_grad()\n",
    "            \n",
    "            # get the output from the model\n",
    "            output = model(batch_X)\n",
    "            \n",
    "            # calculate the loss and perform backprop\n",
    "            loss = loss_fn(output.squeeze(), batch_y)\n",
    "            loss.backward()\n",
    "            # `clip_grad_norm` helps prevent the exploding gradient problem in RNNs / LSTMs.\n",
    "            optimizer.step()   \n",
    "\n",
    "                #net.train()            \n",
    "            # End of custom code\n",
    "            total_loss += loss.data.item()\n",
    "        print(\"Epoch: {}, BCELoss: {}\".format(epoch, total_loss / len(train_loader)))"
   ]
  },
  {
   "cell_type": "markdown",
   "metadata": {},
   "source": [
    "Supposing we have the training method above, we will test that it is working by writing a bit of code in the notebook that executes our training method on the small sample training set that we loaded earlier. The reason for doing this in the notebook is so that we have an opportunity to fix any errors that arise early when they are easier to diagnose."
   ]
  },
  {
   "cell_type": "code",
   "execution_count": 26,
   "metadata": {},
   "outputs": [
    {
     "name": "stdout",
     "output_type": "stream",
     "text": [
      "Epoch: 1, BCELoss: 0.6935678362846375\n",
      "Epoch: 2, BCELoss: 0.6837057113647461\n",
      "Epoch: 3, BCELoss: 0.674975311756134\n",
      "Epoch: 4, BCELoss: 0.6651322960853576\n",
      "Epoch: 5, BCELoss: 0.6529568433761597\n"
     ]
    }
   ],
   "source": [
    "import torch.optim as optim\n",
    "from train.model import LSTMClassifier\n",
    "\n",
    "device = torch.device(\"cuda\" if torch.cuda.is_available() else \"cpu\")\n",
    "model = LSTMClassifier(32, 100, 5000).to(device)\n",
    "optimizer = optim.Adam(model.parameters())\n",
    "loss_fn = torch.nn.BCELoss()\n",
    "\n",
    "train(model, train_sample_dl, 5, optimizer, loss_fn, device)"
   ]
  },
  {
   "cell_type": "markdown",
   "metadata": {},
   "source": [
    "In order to construct a PyTorch model using SageMaker we must provide SageMaker with a training script. We may optionally include a directory which will be copied to the container and from which our training code will be run. When the training container is executed it will check the uploaded directory (if there is one) for a `requirements.txt` file and install any required Python libraries, after which the training script will be run."
   ]
  },
  {
   "cell_type": "markdown",
   "metadata": {},
   "source": [
    "### (TODO) Training the model\n",
    "\n",
    "When a PyTorch model is constructed in SageMaker, an entry point must be specified. This is the Python file which will be executed when the model is trained. Inside of the `train` directory is a file called `train.py` which has been provided and which contains most of the necessary code to train our model. The only thing that is missing is the implementation of the `train()` method which you wrote earlier in this notebook.\n",
    "\n",
    "**TODO**: Copy the `train()` method written above and paste it into the `train/train.py` file where required.\n",
    "\n",
    "The way that SageMaker passes hyperparameters to the training script is by way of arguments. These arguments can then be parsed and used in the training script. To see how this is done take a look at the provided `train/train.py` file."
   ]
  },
  {
   "cell_type": "code",
   "execution_count": 27,
   "metadata": {},
   "outputs": [
    {
     "data": {
      "text/plain": [
       "'s3://sagemaker-us-east-2-652897494825/sagemaker/sentiment_rnn'"
      ]
     },
     "execution_count": 27,
     "metadata": {},
     "output_type": "execute_result"
    }
   ],
   "source": [
    "#Added custom cell\n",
    "input_data"
   ]
  },
  {
   "cell_type": "code",
   "execution_count": 28,
   "metadata": {},
   "outputs": [],
   "source": [
    "from sagemaker.pytorch import PyTorch\n",
    "#start of custom code\n",
    "#import os\n",
    "#os.environ[\"AWS_DEFAULT_REGION\"] = \"us-east-2\"\n",
    "#end of custom code\n",
    "\n",
    "estimator = PyTorch(entry_point=\"train.py\",\n",
    "                    source_dir=\"train\",\n",
    "                    role=role,\n",
    "                    framework_version='0.4.0',\n",
    "                    train_instance_count=1,\n",
    "                    #train_instance_type='ml.p2.xlarge',\n",
    "                    train_instance_type='ml.m4.xlarge',\n",
    "                    hyperparameters={\n",
    "                        'epochs': 10,                        \n",
    "                        'hidden_dim': 200,\n",
    "                    })"
   ]
  },
  {
   "cell_type": "code",
   "execution_count": 29,
   "metadata": {},
   "outputs": [
    {
     "data": {
      "text/plain": [
       "'\\nfrom sagemaker.pytorch import PyTorch\\n#start of custom code\\nimport os\\nos.environ[\"AWS_DEFAULT_REGION\"] = \"us-east-2\"\\n#end of custom code\\n\\nestimator = PyTorch(entry_point=\"train.py\",\\n                    source_dir=\"train\",\\n                    role=role,\\n                    framework_version=\\'0.4.0\\',\\n                    train_instance_count=1,\\n                    train_instance_type=\\'ml.p2.xlarge\\',\\n                    hyperparameters={\\n                        \\'epochs\\': 10,\\n                        \\'hidden_dim\\': 200,\\n                    })\\n'"
      ]
     },
     "execution_count": 29,
     "metadata": {},
     "output_type": "execute_result"
    }
   ],
   "source": [
    "'''\n",
    "from sagemaker.pytorch import PyTorch\n",
    "#start of custom code\n",
    "import os\n",
    "os.environ[\"AWS_DEFAULT_REGION\"] = \"us-east-2\"\n",
    "#end of custom code\n",
    "\n",
    "estimator = PyTorch(entry_point=\"train.py\",\n",
    "                    source_dir=\"train\",\n",
    "                    role=role,\n",
    "                    framework_version='0.4.0',\n",
    "                    train_instance_count=1,\n",
    "                    train_instance_type='ml.p2.xlarge',\n",
    "                    hyperparameters={\n",
    "                        'epochs': 10,\n",
    "                        'hidden_dim': 200,\n",
    "                    })\n",
    "'''                    "
   ]
  },
  {
   "cell_type": "code",
   "execution_count": 30,
   "metadata": {},
   "outputs": [
    {
     "name": "stderr",
     "output_type": "stream",
     "text": [
      "INFO:sagemaker:Creating training-job with name: sagemaker-pytorch-2019-02-20-08-21-06-018\n"
     ]
    },
    {
     "name": "stdout",
     "output_type": "stream",
     "text": [
      "2019-02-20 08:21:06 Starting - Starting the training job...\n",
      "2019-02-20 08:21:07 Starting - Launching requested ML instances......\n",
      "2019-02-20 08:22:08 Starting - Preparing the instances for training...\n",
      "2019-02-20 08:23:02 Downloading - Downloading input data\n",
      "2019-02-20 08:23:02 Training - Downloading the training image..\n",
      "\u001b[31mbash: cannot set terminal process group (-1): Inappropriate ioctl for device\u001b[0m\n",
      "\u001b[31mbash: no job control in this shell\u001b[0m\n",
      "\u001b[31m2019-02-20 08:23:16,069 sagemaker-containers INFO     Imported framework sagemaker_pytorch_container.training\u001b[0m\n",
      "\u001b[31m2019-02-20 08:23:16,071 sagemaker-containers INFO     No GPUs detected (normal if no gpus installed)\u001b[0m\n",
      "\u001b[31m2019-02-20 08:23:16,084 sagemaker_pytorch_container.training INFO     Block until all host DNS lookups succeed.\u001b[0m\n",
      "\u001b[31m2019-02-20 08:23:17,492 sagemaker_pytorch_container.training INFO     Invoking user training script.\u001b[0m\n",
      "\u001b[31m2019-02-20 08:23:17,712 sagemaker-containers INFO     Module train does not provide a setup.py. \u001b[0m\n",
      "\u001b[31mGenerating setup.py\u001b[0m\n",
      "\u001b[31m2019-02-20 08:23:17,712 sagemaker-containers INFO     Generating setup.cfg\u001b[0m\n",
      "\u001b[31m2019-02-20 08:23:17,712 sagemaker-containers INFO     Generating MANIFEST.in\u001b[0m\n",
      "\u001b[31m2019-02-20 08:23:17,712 sagemaker-containers INFO     Installing module with the following command:\u001b[0m\n",
      "\u001b[31m/usr/bin/python -m pip install -U . -r requirements.txt\u001b[0m\n",
      "\u001b[31mProcessing /opt/ml/code\u001b[0m\n",
      "\u001b[31mCollecting pandas (from -r requirements.txt (line 1))\u001b[0m\n",
      "\u001b[31m  Downloading https://files.pythonhosted.org/packages/e2/a3/c42cd52e40527ba35aed53a988c485ffeddbae0722b8b756da82464baa73/pandas-0.24.1-cp35-cp35m-manylinux1_x86_64.whl (10.0MB)\u001b[0m\n",
      "\u001b[31mCollecting numpy (from -r requirements.txt (line 2))\n",
      "  Downloading https://files.pythonhosted.org/packages/ad/15/690c13ae714e156491392cdbdbf41b485d23c285aa698239a67f7cfc9e0a/numpy-1.16.1-cp35-cp35m-manylinux1_x86_64.whl (17.2MB)\u001b[0m\n",
      "\u001b[31mCollecting nltk (from -r requirements.txt (line 3))\n",
      "  Downloading https://files.pythonhosted.org/packages/6f/ed/9c755d357d33bc1931e157f537721efb5b88d2c583fe593cc09603076cc3/nltk-3.4.zip (1.4MB)\u001b[0m\n",
      "\u001b[31mCollecting beautifulsoup4 (from -r requirements.txt (line 4))\n",
      "  Downloading https://files.pythonhosted.org/packages/1d/5d/3260694a59df0ec52f8b4883f5d23b130bc237602a1411fa670eae12351e/beautifulsoup4-4.7.1-py3-none-any.whl (94kB)\u001b[0m\n",
      "\u001b[31mCollecting html5lib (from -r requirements.txt (line 5))\n",
      "  Downloading https://files.pythonhosted.org/packages/a5/62/bbd2be0e7943ec8504b517e62bab011b4946e1258842bc159e5dfde15b96/html5lib-1.0.1-py2.py3-none-any.whl (117kB)\u001b[0m\n",
      "\u001b[31mCollecting pytz>=2011k (from pandas->-r requirements.txt (line 1))\n",
      "  Downloading https://files.pythonhosted.org/packages/61/28/1d3920e4d1d50b19bc5d24398a7cd85cc7b9a75a490570d5a30c57622d34/pytz-2018.9-py2.py3-none-any.whl (510kB)\u001b[0m\n",
      "\u001b[31mRequirement already satisfied, skipping upgrade: python-dateutil>=2.5.0 in /usr/local/lib/python3.5/dist-packages (from pandas->-r requirements.txt (line 1)) (2.7.5)\u001b[0m\n",
      "\u001b[31mRequirement already satisfied, skipping upgrade: six in /usr/local/lib/python3.5/dist-packages (from nltk->-r requirements.txt (line 3)) (1.11.0)\u001b[0m\n",
      "\u001b[31mCollecting singledispatch (from nltk->-r requirements.txt (line 3))\u001b[0m\n",
      "\u001b[31m  Downloading https://files.pythonhosted.org/packages/c5/10/369f50bcd4621b263927b0a1519987a04383d4a98fb10438042ad410cf88/singledispatch-3.4.0.3-py2.py3-none-any.whl\u001b[0m\n",
      "\u001b[31mCollecting soupsieve>=1.2 (from beautifulsoup4->-r requirements.txt (line 4))\n",
      "  Downloading https://files.pythonhosted.org/packages/77/78/bca00cc9fa70bba1226ee70a42bf375c4e048fe69066a0d9b5e69bc2a79a/soupsieve-1.8-py2.py3-none-any.whl (88kB)\u001b[0m\n",
      "\u001b[31mCollecting webencodings (from html5lib->-r requirements.txt (line 5))\n",
      "  Downloading https://files.pythonhosted.org/packages/f4/24/2a3e3df732393fed8b3ebf2ec078f05546de641fe1b667ee316ec1dcf3b7/webencodings-0.5.1-py2.py3-none-any.whl\u001b[0m\n",
      "\u001b[31mBuilding wheels for collected packages: nltk, train\n",
      "  Running setup.py bdist_wheel for nltk: started\n",
      "  Running setup.py bdist_wheel for nltk: finished with status 'done'\n",
      "  Stored in directory: /root/.cache/pip/wheels/4b/c8/24/b2343664bcceb7147efeb21c0b23703a05b23fcfeaceaa2a1e\n",
      "  Running setup.py bdist_wheel for train: started\u001b[0m\n",
      "\u001b[31m  Running setup.py bdist_wheel for train: finished with status 'done'\n",
      "  Stored in directory: /tmp/pip-ephem-wheel-cache-zue7j62n/wheels/35/24/16/37574d11bf9bde50616c67372a334f94fa8356bc7164af8ca3\u001b[0m\n",
      "\u001b[31mSuccessfully built nltk train\u001b[0m\n",
      "\u001b[31mInstalling collected packages: pytz, numpy, pandas, singledispatch, nltk, soupsieve, beautifulsoup4, webencodings, html5lib, train\n",
      "  Found existing installation: numpy 1.15.4\n",
      "    Uninstalling numpy-1.15.4:\u001b[0m\n",
      "\u001b[31m      Successfully uninstalled numpy-1.15.4\u001b[0m\n",
      "\n",
      "2019-02-20 08:23:15 Training - Training image download completed. Training in progress.\u001b[31mSuccessfully installed beautifulsoup4-4.7.1 html5lib-1.0.1 nltk-3.4 numpy-1.16.1 pandas-0.24.1 pytz-2018.9 singledispatch-3.4.0.3 soupsieve-1.8 train-1.0.0 webencodings-0.5.1\u001b[0m\n",
      "\u001b[31mYou are using pip version 18.1, however version 19.0.2 is available.\u001b[0m\n",
      "\u001b[31mYou should consider upgrading via the 'pip install --upgrade pip' command.\u001b[0m\n",
      "\u001b[31m2019-02-20 08:23:29,195 sagemaker-containers INFO     No GPUs detected (normal if no gpus installed)\u001b[0m\n",
      "\u001b[31m2019-02-20 08:23:29,209 sagemaker-containers INFO     Invoking user script\n",
      "\u001b[0m\n",
      "\u001b[31mTraining Env:\n",
      "\u001b[0m\n",
      "\u001b[31m{\n",
      "    \"hyperparameters\": {\n",
      "        \"epochs\": 10,\n",
      "        \"hidden_dim\": 200\n",
      "    },\n",
      "    \"framework_module\": \"sagemaker_pytorch_container.training:main\",\n",
      "    \"network_interface_name\": \"ethwe\",\n",
      "    \"user_entry_point\": \"train.py\",\n",
      "    \"job_name\": \"sagemaker-pytorch-2019-02-20-08-21-06-018\",\n",
      "    \"num_gpus\": 0,\n",
      "    \"output_intermediate_dir\": \"/opt/ml/output/intermediate\",\n",
      "    \"resource_config\": {\n",
      "        \"current_host\": \"algo-1\",\n",
      "        \"network_interface_name\": \"ethwe\",\n",
      "        \"hosts\": [\n",
      "            \"algo-1\"\n",
      "        ]\n",
      "    },\n",
      "    \"input_dir\": \"/opt/ml/input\",\n",
      "    \"module_dir\": \"s3://sagemaker-us-east-2-652897494825/sagemaker-pytorch-2019-02-20-08-21-06-018/source/sourcedir.tar.gz\",\n",
      "    \"additional_framework_parameters\": {},\n",
      "    \"model_dir\": \"/opt/ml/model\",\n",
      "    \"module_name\": \"train\",\n",
      "    \"current_host\": \"algo-1\",\n",
      "    \"num_cpus\": 4,\n",
      "    \"channel_input_dirs\": {\n",
      "        \"training\": \"/opt/ml/input/data/training\"\n",
      "    },\n",
      "    \"input_data_config\": {\n",
      "        \"training\": {\n",
      "            \"TrainingInputMode\": \"File\",\n",
      "            \"S3DistributionType\": \"FullyReplicated\",\n",
      "            \"RecordWrapperType\": \"None\"\n",
      "        }\n",
      "    },\n",
      "    \"hosts\": [\n",
      "        \"algo-1\"\n",
      "    ],\n",
      "    \"log_level\": 20,\n",
      "    \"output_data_dir\": \"/opt/ml/output/data\",\n",
      "    \"input_config_dir\": \"/opt/ml/input/config\",\n",
      "    \"output_dir\": \"/opt/ml/output\"\u001b[0m\n",
      "\u001b[31m}\n",
      "\u001b[0m\n",
      "\u001b[31mEnvironment variables:\n",
      "\u001b[0m\n",
      "\u001b[31mSM_HPS={\"epochs\":10,\"hidden_dim\":200}\u001b[0m\n",
      "\u001b[31mSM_OUTPUT_INTERMEDIATE_DIR=/opt/ml/output/intermediate\u001b[0m\n",
      "\u001b[31mSM_OUTPUT_DATA_DIR=/opt/ml/output/data\u001b[0m\n",
      "\u001b[31mSM_LOG_LEVEL=20\u001b[0m\n",
      "\u001b[31mSM_INPUT_DIR=/opt/ml/input\u001b[0m\n",
      "\u001b[31mSM_NUM_CPUS=4\u001b[0m\n",
      "\u001b[31mSM_INPUT_DATA_CONFIG={\"training\":{\"RecordWrapperType\":\"None\",\"S3DistributionType\":\"FullyReplicated\",\"TrainingInputMode\":\"File\"}}\u001b[0m\n",
      "\u001b[31mSM_HP_HIDDEN_DIM=200\u001b[0m\n",
      "\u001b[31mSM_TRAINING_ENV={\"additional_framework_parameters\":{},\"channel_input_dirs\":{\"training\":\"/opt/ml/input/data/training\"},\"current_host\":\"algo-1\",\"framework_module\":\"sagemaker_pytorch_container.training:main\",\"hosts\":[\"algo-1\"],\"hyperparameters\":{\"epochs\":10,\"hidden_dim\":200},\"input_config_dir\":\"/opt/ml/input/config\",\"input_data_config\":{\"training\":{\"RecordWrapperType\":\"None\",\"S3DistributionType\":\"FullyReplicated\",\"TrainingInputMode\":\"File\"}},\"input_dir\":\"/opt/ml/input\",\"job_name\":\"sagemaker-pytorch-2019-02-20-08-21-06-018\",\"log_level\":20,\"model_dir\":\"/opt/ml/model\",\"module_dir\":\"s3://sagemaker-us-east-2-652897494825/sagemaker-pytorch-2019-02-20-08-21-06-018/source/sourcedir.tar.gz\",\"module_name\":\"train\",\"network_interface_name\":\"ethwe\",\"num_cpus\":4,\"num_gpus\":0,\"output_data_dir\":\"/opt/ml/output/data\",\"output_dir\":\"/opt/ml/output\",\"output_intermediate_dir\":\"/opt/ml/output/intermediate\",\"resource_config\":{\"current_host\":\"algo-1\",\"hosts\":[\"algo-1\"],\"network_interface_name\":\"ethwe\"},\"user_entry_point\":\"train.py\"}\u001b[0m\n",
      "\u001b[31mSM_NUM_GPUS=0\u001b[0m\n",
      "\u001b[31mSM_RESOURCE_CONFIG={\"current_host\":\"algo-1\",\"hosts\":[\"algo-1\"],\"network_interface_name\":\"ethwe\"}\u001b[0m\n",
      "\u001b[31mSM_OUTPUT_DIR=/opt/ml/output\u001b[0m\n",
      "\u001b[31mSM_USER_ENTRY_POINT=train.py\u001b[0m\n",
      "\u001b[31mSM_USER_ARGS=[\"--epochs\",\"10\",\"--hidden_dim\",\"200\"]\u001b[0m\n",
      "\u001b[31mSM_MODEL_DIR=/opt/ml/model\u001b[0m\n",
      "\u001b[31mSM_HOSTS=[\"algo-1\"]\u001b[0m\n",
      "\u001b[31mSM_FRAMEWORK_MODULE=sagemaker_pytorch_container.training:main\u001b[0m\n",
      "\u001b[31mSM_NETWORK_INTERFACE_NAME=ethwe\u001b[0m\n",
      "\u001b[31mSM_CHANNEL_TRAINING=/opt/ml/input/data/training\u001b[0m\n",
      "\u001b[31mSM_CHANNELS=[\"training\"]\u001b[0m\n",
      "\u001b[31mPYTHONPATH=/usr/local/bin:/usr/lib/python35.zip:/usr/lib/python3.5:/usr/lib/python3.5/plat-x86_64-linux-gnu:/usr/lib/python3.5/lib-dynload:/usr/local/lib/python3.5/dist-packages:/usr/lib/python3/dist-packages\u001b[0m\n",
      "\u001b[31mSM_FRAMEWORK_PARAMS={}\u001b[0m\n",
      "\u001b[31mSM_MODULE_DIR=s3://sagemaker-us-east-2-652897494825/sagemaker-pytorch-2019-02-20-08-21-06-018/source/sourcedir.tar.gz\u001b[0m\n",
      "\u001b[31mSM_MODULE_NAME=train\u001b[0m\n",
      "\u001b[31mSM_HP_EPOCHS=10\u001b[0m\n",
      "\u001b[31mSM_INPUT_CONFIG_DIR=/opt/ml/input/config\u001b[0m\n",
      "\u001b[31mSM_CURRENT_HOST=algo-1\n",
      "\u001b[0m\n",
      "\u001b[31mInvoking script with the following command:\n",
      "\u001b[0m\n",
      "\u001b[31m/usr/bin/python -m train --epochs 10 --hidden_dim 200\n",
      "\n",
      "\u001b[0m\n",
      "\u001b[31mUsing device cpu.\u001b[0m\n",
      "\u001b[31mGet train data loader.\u001b[0m\n",
      "\u001b[31mModel loaded with embedding_dim 32, hidden_dim 200, vocab_size 5000.\u001b[0m\n",
      "\u001b[31mEpoch: 1, BCELoss: 0.6783407902231022\u001b[0m\n",
      "\u001b[31mEpoch: 2, BCELoss: 0.6133714671037636\u001b[0m\n",
      "\u001b[31mEpoch: 3, BCELoss: 0.5677563511595434\u001b[0m\n",
      "\u001b[31mEpoch: 4, BCELoss: 0.4757413657344117\u001b[0m\n",
      "\u001b[31mEpoch: 5, BCELoss: 0.442486297111122\u001b[0m\n",
      "\u001b[31mEpoch: 6, BCELoss: 0.3852459113208615\u001b[0m\n",
      "\u001b[31mEpoch: 7, BCELoss: 0.3423272407784754\u001b[0m\n",
      "\u001b[31mEpoch: 8, BCELoss: 0.3154809979759917\u001b[0m\n",
      "\u001b[31mEpoch: 9, BCELoss: 0.30158605837092106\u001b[0m\n",
      "\n",
      "2019-02-20 10:07:28 Uploading - Uploading generated training model\u001b[31mEpoch: 10, BCELoss: 0.2742004504009169\u001b[0m\n",
      "\u001b[31m2019-02-20 10:07:23,749 sagemaker-containers INFO     Reporting training SUCCESS\u001b[0m\n",
      "\n",
      "2019-02-20 10:07:33 Completed - Training job completed\n",
      "Billable seconds: 6283\n"
     ]
    }
   ],
   "source": [
    "estimator.fit({'training': input_data})"
   ]
  },
  {
   "cell_type": "markdown",
   "metadata": {},
   "source": [
    "## Step 5: Testing the model\n",
    "\n",
    "As mentioned at the top of this notebook, we will be testing this model by first deploying it and then sending the testing data to the deployed endpoint. We will do this so that we can make sure that the deployed model is working correctly.\n",
    "\n",
    "## Step 6: Deploy the model for testing\n",
    "\n",
    "Now that we have trained our model, we would like to test it to see how it performs. Currently our model takes input of the form `review_length, review[500]` where `review[500]` is a sequence of `500` integers which describe the words present in the review, encoded using `word_dict`. Fortunately for us, SageMaker provides built-in inference code for models with simple inputs such as this.\n",
    "\n",
    "There is one thing that we need to provide, however, and that is a function which loads the saved model. This function must be called `model_fn()` and takes as its only parameter a path to the directory where the model artifacts are stored. This function must also be present in the python file which we specified as the entry point. In our case the model loading function has been provided and so no changes need to be made.\n",
    "\n",
    "**NOTE**: When the built-in inference code is run it must import the `model_fn()` method from the `train.py` file. This is why the training code is wrapped in a main guard ( ie, `if __name__ == '__main__':` )\n",
    "\n",
    "Since we don't need to change anything in the code that was uploaded during training, we can simply deploy the current model as-is.\n",
    "\n",
    "**NOTE:** When deploying a model you are asking SageMaker to launch an compute instance that will wait for data to be sent to it. As a result, this compute instance will continue to run until *you* shut it down. This is important to know since the cost of a deployed endpoint depends on how long it has been running for.\n",
    "\n",
    "In other words **If you are no longer using a deployed endpoint, shut it down!**\n",
    "\n",
    "**TODO:** Deploy the trained model."
   ]
  },
  {
   "cell_type": "code",
   "execution_count": 31,
   "metadata": {},
   "outputs": [],
   "source": [
    "import sagemaker\n",
    "from sagemaker import get_execution_role\n",
    "from sagemaker.amazon.amazon_estimator import get_image_uri\n",
    "from sagemaker.predictor import csv_serializer\n",
    "from time import gmtime, strftime"
   ]
  },
  {
   "cell_type": "code",
   "execution_count": 32,
   "metadata": {},
   "outputs": [],
   "source": [
    "# As stated above, we use this utility method to construct the image name for the training container.\n",
    "xgb_container = get_image_uri(sagemaker_session.boto_region_name, 'xgboost')\n",
    "\n",
    "# Now that we know which container to use, we can construct the estimator object.\n",
    "xgb = sagemaker.estimator.Estimator(xgb_container, # The name of the training container\n",
    "                                    role,      # The IAM role to use (our current role in this case)\n",
    "                                    train_instance_count=1, # The number of instances to use for training\n",
    "                                    train_instance_type='ml.m4.xlarge', # The type of instance ot use for training\n",
    "                                    output_path='s3://{}/{}/output'.format(sagemaker_session.default_bucket(), prefix),\n",
    "                                                                        # Where to save the output (the model artifacts)\n",
    "                                    sagemaker_session=sagemaker_session) # The current SageMaker session"
   ]
  },
  {
   "cell_type": "code",
   "execution_count": 33,
   "metadata": {},
   "outputs": [],
   "source": [
    "# Remember that a model needs to have a unique name\n",
    "xgb_model_name = \"senti-update-xgboost-model\" + strftime(\"%Y-%m-%d-%H-%M-%S\", gmtime())\n",
    "\n",
    "# We also need to tell SageMaker which container should be used for inference and where it should\n",
    "# retrieve the model artifacts from. In our case, the xgboost container that we used for training\n",
    "# can also be used for inference and the model artifacts come from the previous call to fit.\n",
    "xgb_primary_container = {\n",
    "    \"Image\": xgb_container,\n",
    "    #\"ModelDataUrl\": xgb.model_data\n",
    "    \"ModelDataUrl\": estimator.model_data\n",
    "}\n",
    "\n",
    "# And lastly we construct the SageMaker model\n",
    "xgb_model_info = sagemaker_session.sagemaker_client.create_model(\n",
    "                                ModelName = xgb_model_name,\n",
    "                                ExecutionRoleArn = role,\n",
    "                                PrimaryContainer = xgb_primary_container)"
   ]
  },
  {
   "cell_type": "code",
   "execution_count": 34,
   "metadata": {},
   "outputs": [],
   "source": [
    "# As before, we need to give our endpoint configuration a name which should be unique\n",
    "xgb_endpoint_config_name = \"senti-project-senti-endpoint-config-\" + strftime(\"%Y-%m-%d-%H-%M-%S\", gmtime())\n",
    "\n",
    "# And then we ask SageMaker to construct the endpoint configuration\n",
    "xgb_endpoint_config_info = sagemaker_session.sagemaker_client.create_endpoint_config(\n",
    "                            EndpointConfigName = xgb_endpoint_config_name,\n",
    "                            ProductionVariants = [{\n",
    "                                \"InstanceType\": \"ml.m4.xlarge\",\n",
    "                                \"InitialVariantWeight\": 1,\n",
    "                                \"InitialInstanceCount\": 1,\n",
    "                                \"ModelName\": xgb_model_name,\n",
    "                                \"VariantName\": \"XGB-Model\"\n",
    "                            }])"
   ]
  },
  {
   "cell_type": "code",
   "execution_count": 35,
   "metadata": {},
   "outputs": [
    {
     "name": "stdout",
     "output_type": "stream",
     "text": [
      "--------------------------------------------------------------!"
     ]
    }
   ],
   "source": [
    "# TODO: Deploy the trained model\n",
    "from time import gmtime, strftime\n",
    "\n",
    "#start of custom code\n",
    "# Again, we need a unique name for our endpoint\n",
    "endpoint_name = \"senti-project-endpoint-\" + strftime(\"%Y-%m-%d-%H-%M-%S\", gmtime())\n",
    "\n",
    "#endpoint_config_name = \"senti-project-senti-endpoint-config-\" + strftime(\"%Y-%m-%d-%H-%M-%S\", gmtime())\n",
    "\n",
    "# And then we can deploy our endpoint\n",
    "endpoint_info = sagemaker_session.sagemaker_client.create_endpoint(\n",
    "                    EndpointName = endpoint_name,\n",
    "                    EndpointConfigName = xgb_endpoint_config_name)\n",
    "\n",
    "# wait for end point creation to complete\n",
    "endpoint_dec = sagemaker_session.wait_for_endpoint(endpoint_name)"
   ]
  },
  {
   "cell_type": "markdown",
   "metadata": {},
   "source": [
    "## Step 7 - Use the model for testing\n",
    "\n",
    "Once deployed, we can read in the test data and send it off to our deployed model to get some results. Once we collect all of the results we can determine how accurate our model is."
   ]
  },
  {
   "cell_type": "code",
   "execution_count": 36,
   "metadata": {},
   "outputs": [],
   "source": [
    "test_X = pd.concat([pd.DataFrame(test_X_len), pd.DataFrame(test_X)], axis=1)"
   ]
  },
  {
   "cell_type": "code",
   "execution_count": 37,
   "metadata": {},
   "outputs": [
    {
     "name": "stderr",
     "output_type": "stream",
     "text": [
      "INFO:sagemaker:Creating model with name: sagemaker-pytorch-2019-02-20-08-21-06-018\n",
      "INFO:sagemaker:Creating endpoint with name sagemaker-pytorch-2019-02-20-08-21-06-018\n"
     ]
    },
    {
     "name": "stdout",
     "output_type": "stream",
     "text": [
      "---------------------------------------------------------------------------!"
     ]
    }
   ],
   "source": [
    "# We split the data into chunks and send each chunk seperately, accumulating the results.\n",
    "\n",
    "#predictor = model.deploy(initial_instance_count=1, instance_type='ml.m4.xlarge')\n",
    "predictor = estimator.deploy(initial_instance_count = 1, instance_type = 'ml.m4.xlarge')\n",
    "\n",
    "def predict(data, rows=512):\n",
    "    split_array = np.array_split(data, int(data.shape[0] / float(rows) + 1))\n",
    "    predictions = np.array([])\n",
    "    for array in split_array:\n",
    "        predictions = np.append(predictions, predictor.predict(array))\n",
    "    \n",
    "    return predictions"
   ]
  },
  {
   "cell_type": "code",
   "execution_count": 38,
   "metadata": {},
   "outputs": [],
   "source": [
    "predictions = predict(test_X.values)\n",
    "predictions = [round(num) for num in predictions]"
   ]
  },
  {
   "cell_type": "code",
   "execution_count": 39,
   "metadata": {},
   "outputs": [
    {
     "data": {
      "text/plain": [
       "0.85164"
      ]
     },
     "execution_count": 39,
     "metadata": {},
     "output_type": "execute_result"
    }
   ],
   "source": [
    "from sklearn.metrics import accuracy_score\n",
    "accuracy_score(test_y, predictions)"
   ]
  },
  {
   "cell_type": "markdown",
   "metadata": {},
   "source": [
    "**Question:** How does this model compare to the XGBoost model you created earlier? Why might these two models perform differently on this dataset? Which do *you* think is better for sentiment analysis?"
   ]
  },
  {
   "cell_type": "markdown",
   "metadata": {},
   "source": [
    " **Answer:** The model created in this project is customised in a way that it used LSTM cells for backpropagation. Compared to XGBoost model we created earlier, this model is better as this model provides us the means to adjust our forward pass and backpropagation layers. \n",
    " However, with respect to performance the XGBoost model performs better."
   ]
  },
  {
   "cell_type": "markdown",
   "metadata": {},
   "source": [
    "### (TODO) More testing\n",
    "\n",
    "We now have a trained model which has been deployed and which we can send processed reviews to and which returns the predicted sentiment. However, ultimately we would like to be able to send our model an unprocessed review. That is, we would like to send the review itself as a string. For example, suppose we wish to send the following review to our model."
   ]
  },
  {
   "cell_type": "code",
   "execution_count": 40,
   "metadata": {},
   "outputs": [],
   "source": [
    "test_review = 'The simplest pleasures in life are the best, and this film is one of them. Combining a rather basic storyline of love and adventure this movie transcends the usual weekend fair with wit and unmitigated charm.'"
   ]
  },
  {
   "cell_type": "markdown",
   "metadata": {},
   "source": [
    "The question we now need to answer is, how do we send this review to our model?\n",
    "\n",
    "Recall in the first section of this notebook we did a bunch of data processing to the IMDb dataset. In particular, we did two specific things to the provided reviews.\n",
    " - Removed any html tags and stemmed the input\n",
    " - Encoded the review as a sequence of integers using `word_dict`\n",
    " \n",
    "In order process the review we will need to repeat these two steps.\n",
    "\n",
    "**TODO**: Using the `review_to_words` and `convert_and_pad` methods from section one, convert `test_review` into a numpy array `test_data` suitable to send to our model. Remember that our model expects input of the form `review_length, review[500]`."
   ]
  },
  {
   "cell_type": "code",
   "execution_count": 41,
   "metadata": {},
   "outputs": [],
   "source": [
    "# TODO: Convert test_review into a form usable by the model and save the results in test_data\n",
    "test_data = [np.array(convert_and_pad(word_dict, test_review)[0])]"
   ]
  },
  {
   "cell_type": "markdown",
   "metadata": {},
   "source": [
    "Now that we have processed the review, we can send the resulting array to our model to predict the sentiment of the review."
   ]
  },
  {
   "cell_type": "code",
   "execution_count": 42,
   "metadata": {},
   "outputs": [
    {
     "data": {
      "text/plain": [
       "array(0.63745594, dtype=float32)"
      ]
     },
     "execution_count": 42,
     "metadata": {},
     "output_type": "execute_result"
    }
   ],
   "source": [
    "predictor.predict(test_data)"
   ]
  },
  {
   "cell_type": "markdown",
   "metadata": {},
   "source": [
    "Since the return value of our model is close to `1`, we can be certain that the review we submitted is positive."
   ]
  },
  {
   "cell_type": "markdown",
   "metadata": {},
   "source": [
    "### Delete the endpoint\n",
    "\n",
    "Of course, just like in the XGBoost notebook, once we've deployed an endpoint it continues to run until we tell it to shut down. Since we are done using our endpoint for now, we can delete it."
   ]
  },
  {
   "cell_type": "code",
   "execution_count": 55,
   "metadata": {},
   "outputs": [
    {
     "name": "stderr",
     "output_type": "stream",
     "text": [
      "INFO:sagemaker:Deleting endpoint with name: sagemaker-pytorch-2019-02-20-08-21-06-018\n"
     ]
    },
    {
     "ename": "ClientError",
     "evalue": "An error occurred (ValidationException) when calling the DeleteEndpoint operation: Could not find endpoint \"arn:aws:sagemaker:us-east-2:652897494825:endpoint/sagemaker-pytorch-2019-02-20-08-21-06-018\".",
     "output_type": "error",
     "traceback": [
      "\u001b[0;31m---------------------------------------------------------------------------\u001b[0m",
      "\u001b[0;31mClientError\u001b[0m                               Traceback (most recent call last)",
      "\u001b[0;32m<ipython-input-55-46ef5e5e8b7c>\u001b[0m in \u001b[0;36m<module>\u001b[0;34m()\u001b[0m\n\u001b[0;32m----> 1\u001b[0;31m \u001b[0mestimator\u001b[0m\u001b[0;34m.\u001b[0m\u001b[0mdelete_endpoint\u001b[0m\u001b[0;34m(\u001b[0m\u001b[0;34m)\u001b[0m\u001b[0;34m\u001b[0m\u001b[0m\n\u001b[0m",
      "\u001b[0;32m~/anaconda3/envs/pytorch_p36/lib/python3.6/site-packages/sagemaker/estimator.py\u001b[0m in \u001b[0;36mdelete_endpoint\u001b[0;34m(self)\u001b[0m\n\u001b[1;32m    464\u001b[0m         \"\"\"\n\u001b[1;32m    465\u001b[0m         \u001b[0mself\u001b[0m\u001b[0;34m.\u001b[0m\u001b[0m_ensure_latest_training_job\u001b[0m\u001b[0;34m(\u001b[0m\u001b[0merror_message\u001b[0m\u001b[0;34m=\u001b[0m\u001b[0;34m'Endpoint was not created yet'\u001b[0m\u001b[0;34m)\u001b[0m\u001b[0;34m\u001b[0m\u001b[0m\n\u001b[0;32m--> 466\u001b[0;31m         \u001b[0mself\u001b[0m\u001b[0;34m.\u001b[0m\u001b[0msagemaker_session\u001b[0m\u001b[0;34m.\u001b[0m\u001b[0mdelete_endpoint\u001b[0m\u001b[0;34m(\u001b[0m\u001b[0mself\u001b[0m\u001b[0;34m.\u001b[0m\u001b[0mlatest_training_job\u001b[0m\u001b[0;34m.\u001b[0m\u001b[0mname\u001b[0m\u001b[0;34m)\u001b[0m\u001b[0;34m\u001b[0m\u001b[0m\n\u001b[0m\u001b[1;32m    467\u001b[0m \u001b[0;34m\u001b[0m\u001b[0m\n\u001b[1;32m    468\u001b[0m     def transformer(self, instance_count, instance_type, strategy=None, assemble_with=None, output_path=None,\n",
      "\u001b[0;32m~/anaconda3/envs/pytorch_p36/lib/python3.6/site-packages/sagemaker/session.py\u001b[0m in \u001b[0;36mdelete_endpoint\u001b[0;34m(self, endpoint_name)\u001b[0m\n\u001b[1;32m    778\u001b[0m         \"\"\"\n\u001b[1;32m    779\u001b[0m         \u001b[0mLOGGER\u001b[0m\u001b[0;34m.\u001b[0m\u001b[0minfo\u001b[0m\u001b[0;34m(\u001b[0m\u001b[0;34m'Deleting endpoint with name: {}'\u001b[0m\u001b[0;34m.\u001b[0m\u001b[0mformat\u001b[0m\u001b[0;34m(\u001b[0m\u001b[0mendpoint_name\u001b[0m\u001b[0;34m)\u001b[0m\u001b[0;34m)\u001b[0m\u001b[0;34m\u001b[0m\u001b[0m\n\u001b[0;32m--> 780\u001b[0;31m         \u001b[0mself\u001b[0m\u001b[0;34m.\u001b[0m\u001b[0msagemaker_client\u001b[0m\u001b[0;34m.\u001b[0m\u001b[0mdelete_endpoint\u001b[0m\u001b[0;34m(\u001b[0m\u001b[0mEndpointName\u001b[0m\u001b[0;34m=\u001b[0m\u001b[0mendpoint_name\u001b[0m\u001b[0;34m)\u001b[0m\u001b[0;34m\u001b[0m\u001b[0m\n\u001b[0m\u001b[1;32m    781\u001b[0m \u001b[0;34m\u001b[0m\u001b[0m\n\u001b[1;32m    782\u001b[0m     \u001b[0;32mdef\u001b[0m \u001b[0mwait_for_job\u001b[0m\u001b[0;34m(\u001b[0m\u001b[0mself\u001b[0m\u001b[0;34m,\u001b[0m \u001b[0mjob\u001b[0m\u001b[0;34m,\u001b[0m \u001b[0mpoll\u001b[0m\u001b[0;34m=\u001b[0m\u001b[0;36m5\u001b[0m\u001b[0;34m)\u001b[0m\u001b[0;34m:\u001b[0m\u001b[0;34m\u001b[0m\u001b[0m\n",
      "\u001b[0;32m~/anaconda3/envs/pytorch_p36/lib/python3.6/site-packages/botocore/client.py\u001b[0m in \u001b[0;36m_api_call\u001b[0;34m(self, *args, **kwargs)\u001b[0m\n\u001b[1;32m    318\u001b[0m                     \"%s() only accepts keyword arguments.\" % py_operation_name)\n\u001b[1;32m    319\u001b[0m             \u001b[0;31m# The \"self\" in this scope is referring to the BaseClient.\u001b[0m\u001b[0;34m\u001b[0m\u001b[0;34m\u001b[0m\u001b[0m\n\u001b[0;32m--> 320\u001b[0;31m             \u001b[0;32mreturn\u001b[0m \u001b[0mself\u001b[0m\u001b[0;34m.\u001b[0m\u001b[0m_make_api_call\u001b[0m\u001b[0;34m(\u001b[0m\u001b[0moperation_name\u001b[0m\u001b[0;34m,\u001b[0m \u001b[0mkwargs\u001b[0m\u001b[0;34m)\u001b[0m\u001b[0;34m\u001b[0m\u001b[0m\n\u001b[0m\u001b[1;32m    321\u001b[0m \u001b[0;34m\u001b[0m\u001b[0m\n\u001b[1;32m    322\u001b[0m         \u001b[0m_api_call\u001b[0m\u001b[0;34m.\u001b[0m\u001b[0m__name__\u001b[0m \u001b[0;34m=\u001b[0m \u001b[0mstr\u001b[0m\u001b[0;34m(\u001b[0m\u001b[0mpy_operation_name\u001b[0m\u001b[0;34m)\u001b[0m\u001b[0;34m\u001b[0m\u001b[0m\n",
      "\u001b[0;32m~/anaconda3/envs/pytorch_p36/lib/python3.6/site-packages/botocore/client.py\u001b[0m in \u001b[0;36m_make_api_call\u001b[0;34m(self, operation_name, api_params)\u001b[0m\n\u001b[1;32m    622\u001b[0m             \u001b[0merror_code\u001b[0m \u001b[0;34m=\u001b[0m \u001b[0mparsed_response\u001b[0m\u001b[0;34m.\u001b[0m\u001b[0mget\u001b[0m\u001b[0;34m(\u001b[0m\u001b[0;34m\"Error\"\u001b[0m\u001b[0;34m,\u001b[0m \u001b[0;34m{\u001b[0m\u001b[0;34m}\u001b[0m\u001b[0;34m)\u001b[0m\u001b[0;34m.\u001b[0m\u001b[0mget\u001b[0m\u001b[0;34m(\u001b[0m\u001b[0;34m\"Code\"\u001b[0m\u001b[0;34m)\u001b[0m\u001b[0;34m\u001b[0m\u001b[0m\n\u001b[1;32m    623\u001b[0m             \u001b[0merror_class\u001b[0m \u001b[0;34m=\u001b[0m \u001b[0mself\u001b[0m\u001b[0;34m.\u001b[0m\u001b[0mexceptions\u001b[0m\u001b[0;34m.\u001b[0m\u001b[0mfrom_code\u001b[0m\u001b[0;34m(\u001b[0m\u001b[0merror_code\u001b[0m\u001b[0;34m)\u001b[0m\u001b[0;34m\u001b[0m\u001b[0m\n\u001b[0;32m--> 624\u001b[0;31m             \u001b[0;32mraise\u001b[0m \u001b[0merror_class\u001b[0m\u001b[0;34m(\u001b[0m\u001b[0mparsed_response\u001b[0m\u001b[0;34m,\u001b[0m \u001b[0moperation_name\u001b[0m\u001b[0;34m)\u001b[0m\u001b[0;34m\u001b[0m\u001b[0m\n\u001b[0m\u001b[1;32m    625\u001b[0m         \u001b[0;32melse\u001b[0m\u001b[0;34m:\u001b[0m\u001b[0;34m\u001b[0m\u001b[0m\n\u001b[1;32m    626\u001b[0m             \u001b[0;32mreturn\u001b[0m \u001b[0mparsed_response\u001b[0m\u001b[0;34m\u001b[0m\u001b[0m\n",
      "\u001b[0;31mClientError\u001b[0m: An error occurred (ValidationException) when calling the DeleteEndpoint operation: Could not find endpoint \"arn:aws:sagemaker:us-east-2:652897494825:endpoint/sagemaker-pytorch-2019-02-20-08-21-06-018\"."
     ]
    }
   ],
   "source": [
    "estimator.delete_endpoint()"
   ]
  },
  {
   "cell_type": "markdown",
   "metadata": {},
   "source": [
    "## Step 6 (again) - Deploy the model for the web app\n",
    "\n",
    "Now that we know that our model is working, it's time to create some custom inference code so that we can send the model a review which has not been processed and have it determine the sentiment of the review.\n",
    "\n",
    "As we saw above, by default the estimator which we created, when deployed, will use the entry script and directory which we provided when creating the model. However, since we now wish to accept a string as input and our model expects a processed review, we need to write some custom inference code.\n",
    "\n",
    "We will store the code that we write in the `serve` directory. Provided in this directory is the `model.py` file that we used to construct our model, a `utils.py` file which contains the `review_to_words` and `convert_and_pad` pre-processing functions which we used during the initial data processing, and `predict.py`, the file which will contain our custom inference code. Note also that `requirements.txt` is present which will tell SageMaker what Python libraries are required by our custom inference code.\n",
    "\n",
    "When deploying a PyTorch model in SageMaker, you are expected to provide four functions which the SageMaker inference container will use.\n",
    " - `model_fn`: This function is the same function that we used in the training script and it tells SageMaker how to load our model.\n",
    " - `input_fn`: This function receives the raw serialized input that has been sent to the model's endpoint and its job is to de-serialize and make the input available for the inference code.\n",
    " - `output_fn`: This function takes the output of the inference code and its job is to serialize this output and return it to the caller of the model's endpoint.\n",
    " - `predict_fn`: The heart of the inference script, this is where the actual prediction is done and is the function which you will need to complete.\n",
    "\n",
    "For the simple website that we are constructing during this project, the `input_fn` and `output_fn` methods are relatively straightforward. We only require being able to accept a string as input and we expect to return a single value as output. You might imagine though that in a more complex application the input or output may be image data or some other binary data which would require some effort to serialize.\n",
    "\n",
    "### (TODO) Writing inference code\n",
    "\n",
    "Before writing our custom inference code, we will begin by taking a look at the code which has been provided."
   ]
  },
  {
   "cell_type": "code",
   "execution_count": 65,
   "metadata": {},
   "outputs": [
    {
     "name": "stdout",
     "output_type": "stream",
     "text": [
      "\u001b[34mimport\u001b[39;49;00m \u001b[04m\u001b[36margparse\u001b[39;49;00m\n",
      "\u001b[34mimport\u001b[39;49;00m \u001b[04m\u001b[36mjson\u001b[39;49;00m\n",
      "\u001b[34mimport\u001b[39;49;00m \u001b[04m\u001b[36mos\u001b[39;49;00m\n",
      "\u001b[34mimport\u001b[39;49;00m \u001b[04m\u001b[36mpickle\u001b[39;49;00m\n",
      "\u001b[34mimport\u001b[39;49;00m \u001b[04m\u001b[36msys\u001b[39;49;00m\n",
      "\u001b[34mimport\u001b[39;49;00m \u001b[04m\u001b[36msagemaker_containers\u001b[39;49;00m\n",
      "\u001b[34mimport\u001b[39;49;00m \u001b[04m\u001b[36mpandas\u001b[39;49;00m \u001b[34mas\u001b[39;49;00m \u001b[04m\u001b[36mpd\u001b[39;49;00m\n",
      "\u001b[34mimport\u001b[39;49;00m \u001b[04m\u001b[36mnumpy\u001b[39;49;00m \u001b[34mas\u001b[39;49;00m \u001b[04m\u001b[36mnp\u001b[39;49;00m\n",
      "\u001b[34mimport\u001b[39;49;00m \u001b[04m\u001b[36mtorch\u001b[39;49;00m\n",
      "\u001b[34mimport\u001b[39;49;00m \u001b[04m\u001b[36mtorch.nn\u001b[39;49;00m \u001b[34mas\u001b[39;49;00m \u001b[04m\u001b[36mnn\u001b[39;49;00m\n",
      "\u001b[34mimport\u001b[39;49;00m \u001b[04m\u001b[36mtorch.optim\u001b[39;49;00m \u001b[34mas\u001b[39;49;00m \u001b[04m\u001b[36moptim\u001b[39;49;00m\n",
      "\u001b[34mimport\u001b[39;49;00m \u001b[04m\u001b[36mtorch.utils.data\u001b[39;49;00m\n",
      "\n",
      "\u001b[34mfrom\u001b[39;49;00m \u001b[04m\u001b[36mmodel\u001b[39;49;00m \u001b[34mimport\u001b[39;49;00m LSTMClassifier\n",
      "\n",
      "\u001b[34mfrom\u001b[39;49;00m \u001b[04m\u001b[36mutils\u001b[39;49;00m \u001b[34mimport\u001b[39;49;00m review_to_words, convert_and_pad\n",
      "\n",
      "\u001b[34mdef\u001b[39;49;00m \u001b[32mmodel_fn\u001b[39;49;00m(model_dir):\n",
      "    \u001b[33m\"\"\"Load the PyTorch model from the `model_dir` directory.\"\"\"\u001b[39;49;00m\n",
      "    \u001b[34mprint\u001b[39;49;00m(\u001b[33m\"\u001b[39;49;00m\u001b[33mLoading model.\u001b[39;49;00m\u001b[33m\"\u001b[39;49;00m)\n",
      "\n",
      "    \u001b[37m# First, load the parameters used to create the model.\u001b[39;49;00m\n",
      "    model_info = {}\n",
      "    model_info_path = os.path.join(model_dir, \u001b[33m'\u001b[39;49;00m\u001b[33mmodel_info.pth\u001b[39;49;00m\u001b[33m'\u001b[39;49;00m)\n",
      "    \u001b[34mwith\u001b[39;49;00m \u001b[36mopen\u001b[39;49;00m(model_info_path, \u001b[33m'\u001b[39;49;00m\u001b[33mrb\u001b[39;49;00m\u001b[33m'\u001b[39;49;00m) \u001b[34mas\u001b[39;49;00m f:\n",
      "        model_info = torch.load(f)\n",
      "\n",
      "    \u001b[34mprint\u001b[39;49;00m(\u001b[33m\"\u001b[39;49;00m\u001b[33mmodel_info: {}\u001b[39;49;00m\u001b[33m\"\u001b[39;49;00m.format(model_info))\n",
      "\n",
      "    \u001b[37m# Determine the device and construct the model.\u001b[39;49;00m\n",
      "    device = torch.device(\u001b[33m\"\u001b[39;49;00m\u001b[33mcuda\u001b[39;49;00m\u001b[33m\"\u001b[39;49;00m \u001b[34mif\u001b[39;49;00m torch.cuda.is_available() \u001b[34melse\u001b[39;49;00m \u001b[33m\"\u001b[39;49;00m\u001b[33mcpu\u001b[39;49;00m\u001b[33m\"\u001b[39;49;00m)\n",
      "    model = LSTMClassifier(model_info[\u001b[33m'\u001b[39;49;00m\u001b[33membedding_dim\u001b[39;49;00m\u001b[33m'\u001b[39;49;00m], model_info[\u001b[33m'\u001b[39;49;00m\u001b[33mhidden_dim\u001b[39;49;00m\u001b[33m'\u001b[39;49;00m], model_info[\u001b[33m'\u001b[39;49;00m\u001b[33mvocab_size\u001b[39;49;00m\u001b[33m'\u001b[39;49;00m])\n",
      "\n",
      "    \u001b[37m# Load the store model parameters.\u001b[39;49;00m\n",
      "    model_path = os.path.join(model_dir, \u001b[33m'\u001b[39;49;00m\u001b[33mmodel.pth\u001b[39;49;00m\u001b[33m'\u001b[39;49;00m)\n",
      "    \u001b[34mwith\u001b[39;49;00m \u001b[36mopen\u001b[39;49;00m(model_path, \u001b[33m'\u001b[39;49;00m\u001b[33mrb\u001b[39;49;00m\u001b[33m'\u001b[39;49;00m) \u001b[34mas\u001b[39;49;00m f:\n",
      "        model.load_state_dict(torch.load(f))\n",
      "\n",
      "    \u001b[37m# Load the saved word_dict.\u001b[39;49;00m\n",
      "    word_dict_path = os.path.join(model_dir, \u001b[33m'\u001b[39;49;00m\u001b[33mword_dict.pkl\u001b[39;49;00m\u001b[33m'\u001b[39;49;00m)\n",
      "    \u001b[34mwith\u001b[39;49;00m \u001b[36mopen\u001b[39;49;00m(word_dict_path, \u001b[33m'\u001b[39;49;00m\u001b[33mrb\u001b[39;49;00m\u001b[33m'\u001b[39;49;00m) \u001b[34mas\u001b[39;49;00m f:\n",
      "        model.word_dict = pickle.load(f)\n",
      "\n",
      "    model.to(device).eval()\n",
      "\n",
      "    \u001b[34mprint\u001b[39;49;00m(\u001b[33m\"\u001b[39;49;00m\u001b[33mDone loading model.\u001b[39;49;00m\u001b[33m\"\u001b[39;49;00m)\n",
      "    \u001b[34mreturn\u001b[39;49;00m model\n",
      "\n",
      "\u001b[34mdef\u001b[39;49;00m \u001b[32minput_fn\u001b[39;49;00m(serialized_input_data, content_type):\n",
      "    \u001b[34mprint\u001b[39;49;00m(\u001b[33m'\u001b[39;49;00m\u001b[33mDeserializing the input data.\u001b[39;49;00m\u001b[33m'\u001b[39;49;00m)\n",
      "    \u001b[34mif\u001b[39;49;00m content_type == \u001b[33m'\u001b[39;49;00m\u001b[33mtext/plain\u001b[39;49;00m\u001b[33m'\u001b[39;49;00m:\n",
      "        data = serialized_input_data.decode(\u001b[33m'\u001b[39;49;00m\u001b[33mutf-8\u001b[39;49;00m\u001b[33m'\u001b[39;49;00m)\n",
      "        \u001b[34mreturn\u001b[39;49;00m data\n",
      "    \u001b[34mraise\u001b[39;49;00m \u001b[36mException\u001b[39;49;00m(\u001b[33m'\u001b[39;49;00m\u001b[33mRequested unsupported ContentType in content_type: \u001b[39;49;00m\u001b[33m'\u001b[39;49;00m + content_type)\n",
      "\n",
      "\u001b[34mdef\u001b[39;49;00m \u001b[32moutput_fn\u001b[39;49;00m(prediction_output, accept):\n",
      "    \u001b[34mprint\u001b[39;49;00m(\u001b[33m'\u001b[39;49;00m\u001b[33mSerializing the generated output.\u001b[39;49;00m\u001b[33m'\u001b[39;49;00m)\n",
      "    \u001b[34mreturn\u001b[39;49;00m \u001b[36mstr\u001b[39;49;00m(prediction_output)\n",
      "\n",
      "\u001b[34mdef\u001b[39;49;00m \u001b[32mpredict_fn\u001b[39;49;00m(input_data, model):\n",
      "    \u001b[34mprint\u001b[39;49;00m(\u001b[33m'\u001b[39;49;00m\u001b[33mInferring sentiment of input data.\u001b[39;49;00m\u001b[33m'\u001b[39;49;00m)\n",
      "\n",
      "    device = torch.device(\u001b[33m\"\u001b[39;49;00m\u001b[33mcuda\u001b[39;49;00m\u001b[33m\"\u001b[39;49;00m \u001b[34mif\u001b[39;49;00m torch.cuda.is_available() \u001b[34melse\u001b[39;49;00m \u001b[33m\"\u001b[39;49;00m\u001b[33mcpu\u001b[39;49;00m\u001b[33m\"\u001b[39;49;00m)\n",
      "    \n",
      "    \u001b[34mif\u001b[39;49;00m model.word_dict \u001b[35mis\u001b[39;49;00m \u001b[36mNone\u001b[39;49;00m:\n",
      "        \u001b[34mraise\u001b[39;49;00m \u001b[36mException\u001b[39;49;00m(\u001b[33m'\u001b[39;49;00m\u001b[33mModel has not been loaded properly, no word_dict.\u001b[39;49;00m\u001b[33m'\u001b[39;49;00m)\n",
      "    \n",
      "    \u001b[37m# TODO: Process input_data so that it is ready to be sent to our model.\u001b[39;49;00m\n",
      "    \u001b[37m#       You should produce two variables:\u001b[39;49;00m\n",
      "    \u001b[37m#         data_X   - A sequence of length 500 which represents the converted review\u001b[39;49;00m\n",
      "    \u001b[37m#         data_len - The length of the review\u001b[39;49;00m\n",
      "\n",
      "    \u001b[37m#custom code start\u001b[39;49;00m\n",
      "    \u001b[37m#processed_word = review_to_words(input_data)\u001b[39;49;00m\n",
      "    \u001b[37m#data_X, data_len = convert_and_pad(model.word_dict, processed_word)\u001b[39;49;00m\n",
      "    data_X, data_len = convert_and_pad(model.word_dict, review_to_words(input_data))\n",
      "    \u001b[37m#custom code end\u001b[39;49;00m\n",
      "\n",
      "    \u001b[37m# Using data_X and data_len we construct an appropriate input tensor. Remember\u001b[39;49;00m\n",
      "    \u001b[37m# that our model expects input data of the form 'len, review[500]'.\u001b[39;49;00m\n",
      "    data_pack = np.hstack((data_len, data_X))\n",
      "    data_pack = data_pack.reshape(\u001b[34m1\u001b[39;49;00m, -\u001b[34m1\u001b[39;49;00m)\n",
      "    \n",
      "    data = torch.from_numpy(data_pack)\n",
      "    data = data.to(device)\n",
      "\n",
      "    \u001b[37m# Make sure to put the model into evaluation mode\u001b[39;49;00m\n",
      "    model.eval()\n",
      "\n",
      "    \u001b[37m# TODO: Compute the result of applying the model to the input data. The variable `result` should\u001b[39;49;00m\n",
      "    \u001b[37m#       be a numpy array which contains a single integer which is either 1 or 0\u001b[39;49;00m\n",
      "    \u001b[34mwith\u001b[39;49;00m torch.no_grad():\n",
      "        output = model.forward(data)\n",
      "    \n",
      "    \u001b[37m# Move the result to cpu (this is a must if GPU was used)\u001b[39;49;00m\n",
      "    output = output.to(\u001b[33m'\u001b[39;49;00m\u001b[33mcpu\u001b[39;49;00m\u001b[33m'\u001b[39;49;00m)\n",
      "    \n",
      "    result = np.round(output.numpy())\n",
      "\n",
      "    \u001b[34mreturn\u001b[39;49;00m result\n"
     ]
    }
   ],
   "source": [
    "!pygmentize serve/predict.py"
   ]
  },
  {
   "cell_type": "markdown",
   "metadata": {},
   "source": [
    "As mentioned earlier, the `model_fn` method is the same as the one provided in the training code and the `input_fn` and `output_fn` methods are very simple and your task will be to complete the `predict_fn` method. Make sure that you save the completed file as `predict.py` in the `serve` directory.\n",
    "\n",
    "**TODO**: Complete the `predict_fn()` method in the `serve/predict.py` file."
   ]
  },
  {
   "cell_type": "markdown",
   "metadata": {},
   "source": [
    "### Deploying the model\n",
    "\n",
    "Now that the custom inference code has been written, we will create and deploy our model. To begin with, we need to construct a new PyTorchModel object which points to the model artifacts created during training and also points to the inference code that we wish to use. Then we can call the deploy method to launch the deployment container.\n",
    "\n",
    "**NOTE**: The default behaviour for a deployed PyTorch model is to assume that any input passed to the predictor is a `numpy` array. In our case we want to send a string so we need to construct a simple wrapper around the `RealTimePredictor` class to accomodate simple strings. In a more complicated situation you may want to provide a serialization object, for example if you wanted to sent image data."
   ]
  },
  {
   "cell_type": "code",
   "execution_count": 66,
   "metadata": {},
   "outputs": [
    {
     "name": "stderr",
     "output_type": "stream",
     "text": [
      "INFO:sagemaker:Creating model with name: sagemaker-pytorch-2019-02-20-12-41-02-146\n",
      "INFO:sagemaker:Creating endpoint with name sagemaker-pytorch-2019-02-20-12-41-02-146\n"
     ]
    },
    {
     "name": "stdout",
     "output_type": "stream",
     "text": [
      "---------------------------------------------------------------------------!"
     ]
    }
   ],
   "source": [
    "from sagemaker.predictor import RealTimePredictor\n",
    "from sagemaker.pytorch import PyTorchModel\n",
    "\n",
    "class StringPredictor(RealTimePredictor):\n",
    "    def __init__(self, endpoint_name, sagemaker_session):\n",
    "        super(StringPredictor, self).__init__(endpoint_name, sagemaker_session, content_type='text/plain')\n",
    "\n",
    "model = PyTorchModel(model_data=estimator.model_data,\n",
    "                     role = role,\n",
    "                     framework_version='0.4.0',\n",
    "                     entry_point='predict.py',\n",
    "                     source_dir='serve',\n",
    "                     predictor_cls=StringPredictor)\n",
    "predictor = model.deploy(initial_instance_count=1, instance_type='ml.m4.xlarge')"
   ]
  },
  {
   "cell_type": "markdown",
   "metadata": {},
   "source": [
    "### Testing the model\n",
    "\n",
    "Now that we have deployed our model with the custom inference code, we should test to see if everything is working. Here we test our model by loading the first `250` positive and negative reviews and send them to the endpoint, then collect the results. The reason for only sending some of the data is that the amount of time it takes for our model to process the input and then perform inference is quite long and so testing the entire data set would be prohibitive."
   ]
  },
  {
   "cell_type": "code",
   "execution_count": 67,
   "metadata": {},
   "outputs": [],
   "source": [
    "import glob\n",
    "\n",
    "def test_reviews(data_dir='../data/aclImdb', stop=250):\n",
    "    \n",
    "    results = []\n",
    "    ground = []\n",
    "    \n",
    "    # We make sure to test both positive and negative reviews    \n",
    "    for sentiment in ['pos', 'neg']:\n",
    "        \n",
    "        path = os.path.join(data_dir, 'test', sentiment, '*.txt')\n",
    "        files = glob.glob(path)\n",
    "        \n",
    "        files_read = 0\n",
    "        \n",
    "        print('Starting ', sentiment, ' files')\n",
    "        \n",
    "        # Iterate through the files and send them to the predictor\n",
    "        for f in files:\n",
    "            with open(f) as review:\n",
    "                # First, we store the ground truth (was the review positive or negative)\n",
    "                if sentiment == 'pos':\n",
    "                    ground.append(1)\n",
    "                else:\n",
    "                    ground.append(0)\n",
    "                # Read in the review and convert to 'utf-8' for transmission via HTTP\n",
    "                review_input = review.read().encode('utf-8')\n",
    "                # Send the review to the predictor and store the results\n",
    "                #results.append(int(predictor.predict(review_input)))\n",
    "                results.append(float(predictor.predict(review_input)))\n",
    "                \n",
    "            # Sending reviews to our endpoint one at a time takes a while so we\n",
    "            # only send a small number of reviews\n",
    "            files_read += 1\n",
    "            if files_read == stop:\n",
    "                break\n",
    "            \n",
    "    return ground, results"
   ]
  },
  {
   "cell_type": "code",
   "execution_count": 68,
   "metadata": {},
   "outputs": [
    {
     "name": "stdout",
     "output_type": "stream",
     "text": [
      "Starting  pos  files\n",
      "Starting  neg  files\n"
     ]
    }
   ],
   "source": [
    "ground, results = test_reviews()"
   ]
  },
  {
   "cell_type": "code",
   "execution_count": 69,
   "metadata": {},
   "outputs": [
    {
     "data": {
      "text/plain": [
       "0.844"
      ]
     },
     "execution_count": 69,
     "metadata": {},
     "output_type": "execute_result"
    }
   ],
   "source": [
    "from sklearn.metrics import accuracy_score\n",
    "accuracy_score(ground, results)"
   ]
  },
  {
   "cell_type": "markdown",
   "metadata": {},
   "source": [
    "As an additional test, we can try sending the `test_review` that we looked at earlier."
   ]
  },
  {
   "cell_type": "code",
   "execution_count": 70,
   "metadata": {},
   "outputs": [
    {
     "data": {
      "text/plain": [
       "b'1.0'"
      ]
     },
     "execution_count": 70,
     "metadata": {},
     "output_type": "execute_result"
    }
   ],
   "source": [
    "predictor.predict(test_review)"
   ]
  },
  {
   "cell_type": "markdown",
   "metadata": {},
   "source": [
    "Now that we know our endpoint is working as expected, we can set up the web page that will interact with it. If you don't have time to finish the project now, make sure to skip down to the end of this notebook and shut down your endpoint. You can deploy it again when you come back."
   ]
  },
  {
   "cell_type": "markdown",
   "metadata": {},
   "source": [
    "## Step 7 (again): Use the model for the web app\n",
    "\n",
    "> **TODO:** This entire section and the next contain tasks for you to complete, mostly using the AWS console.\n",
    "\n",
    "So far we have been accessing our model endpoint by constructing a predictor object which uses the endpoint and then just using the predictor object to perform inference. What if we wanted to create a web app which accessed our model? The way things are set up currently makes that not possible since in order to access a SageMaker endpoint the app would first have to authenticate with AWS using an IAM role which included access to SageMaker endpoints. However, there is an easier way! We just need to use some additional AWS services.\n",
    "\n",
    "<img src=\"Web App Diagram.svg\">\n",
    "\n",
    "The diagram above gives an overview of how the various services will work together. On the far right is the model which we trained above and which is deployed using SageMaker. On the far left is our web app that collects a user's movie review, sends it off and expects a positive or negative sentiment in return.\n",
    "\n",
    "In the middle is where some of the magic happens. We will construct a Lambda function, which you can think of as a straightforward Python function that can be executed whenever a specified event occurs. We will give this function permission to send and recieve data from a SageMaker endpoint.\n",
    "\n",
    "Lastly, the method we will use to execute the Lambda function is a new endpoint that we will create using API Gateway. This endpoint will be a url that listens for data to be sent to it. Once it gets some data it will pass that data on to the Lambda function and then return whatever the Lambda function returns. Essentially it will act as an interface that lets our web app communicate with the Lambda function.\n",
    "\n",
    "### Setting up a Lambda function\n",
    "\n",
    "The first thing we are going to do is set up a Lambda function. This Lambda function will be executed whenever our public API has data sent to it. When it is executed it will receive the data, perform any sort of processing that is required, send the data (the review) to the SageMaker endpoint we've created and then return the result.\n",
    "\n",
    "#### Part A: Create an IAM Role for the Lambda function\n",
    "\n",
    "Since we want the Lambda function to call a SageMaker endpoint, we need to make sure that it has permission to do so. To do this, we will construct a role that we can later give the Lambda function.\n",
    "\n",
    "Using the AWS Console, navigate to the **IAM** page and click on **Roles**. Then, click on **Create role**. Make sure that the **AWS service** is the type of trusted entity selected and choose **Lambda** as the service that will use this role, then click **Next: Permissions**.\n",
    "\n",
    "In the search box type `sagemaker` and select the check box next to the **AmazonSageMakerFullAccess** policy. Then, click on **Next: Review**.\n",
    "\n",
    "Lastly, give this role a name. Make sure you use a name that you will remember later on, for example `LambdaSageMakerRole`. Then, click on **Create role**.\n",
    "\n",
    "#### Part B: Create a Lambda function\n",
    "\n",
    "Now it is time to actually create the Lambda function.\n",
    "\n",
    "Using the AWS Console, navigate to the AWS Lambda page and click on **Create a function**. When you get to the next page, make sure that **Author from scratch** is selected. Now, name your Lambda function, using a name that you will remember later on, for example `sentiment_analysis_func`. Make sure that the **Python 3.6** runtime is selected and then choose the role that you created in the previous part. Then, click on **Create Function**.\n",
    "\n",
    "On the next page you will see some information about the Lambda function you've just created. If you scroll down you should see an editor in which you can write the code that will be executed when your Lambda function is triggered. In our example, we will use the code below. \n",
    "\n",
    "```python\n",
    "# We need to use the low-level library to interact with SageMaker since the SageMaker API\n",
    "# is not available natively through Lambda.\n",
    "import boto3\n",
    "\n",
    "def lambda_handler(event, context):\n",
    "\n",
    "    # The SageMaker runtime is what allows us to invoke the endpoint that we've created.\n",
    "    runtime = boto3.Session().client('sagemaker-runtime')\n",
    "\n",
    "    # Now we use the SageMaker runtime to invoke our endpoint, sending the review we were given\n",
    "    response = runtime.invoke_endpoint(EndpointName = '**ENDPOINT NAME HERE**',    # The name of the endpoint we created\n",
    "                                       ContentType = 'text/plain',                 # The data format that is expected\n",
    "                                       Body = event['body'])                       # The actual review\n",
    "\n",
    "    # The response is an HTTP response whose body contains the result of our inference\n",
    "    result = response['Body'].read().decode('utf-8')\n",
    "\n",
    "    return {\n",
    "        'statusCode' : 200,\n",
    "        'headers' : { 'Content-Type' : 'text/plain', 'Access-Control-Allow-Origin' : '*' },\n",
    "        'body' : result\n",
    "    }\n",
    "```\n",
    "\n",
    "Once you have copy and pasted the code above into the Lambda code editor, replace the `**ENDPOINT NAME HERE**` portion with the name of the endpoint that we deployed earlier. You can determine the name of the endpoint using the code cell below."
   ]
  },
  {
   "cell_type": "code",
   "execution_count": 71,
   "metadata": {},
   "outputs": [
    {
     "data": {
      "text/plain": [
       "'sagemaker-pytorch-2019-02-20-12-41-02-146'"
      ]
     },
     "execution_count": 71,
     "metadata": {},
     "output_type": "execute_result"
    }
   ],
   "source": [
    "predictor.endpoint"
   ]
  },
  {
   "cell_type": "markdown",
   "metadata": {},
   "source": [
    "Once you have added the endpoint name to the Lambda function, click on **Save**. Your Lambda function is now up and running. Next we need to create a way for our web app to execute the Lambda function.\n",
    "\n",
    "### Setting up API Gateway\n",
    "\n",
    "Now that our Lambda function is set up, it is time to create a new API using API Gateway that will trigger the Lambda function we have just created.\n",
    "\n",
    "Using AWS Console, navigate to **Amazon API Gateway** and then click on **Get started**.\n",
    "\n",
    "On the next page, make sure that **New API** is selected and give the new api a name, for example, `sentiment_analysis_api`. Then, click on **Create API**.\n",
    "\n",
    "Now we have created an API, however it doesn't currently do anything. What we want it to do is to trigger the Lambda function that we created earlier.\n",
    "\n",
    "Select the **Actions** dropdown menu and click **Create Method**. A new blank method will be created, select its dropdown menu and select **POST**, then click on the check mark beside it.\n",
    "\n",
    "For the integration point, make sure that **Lambda Function** is selected and click on the **Use Lambda Proxy integration**. This option makes sure that the data that is sent to the API is then sent directly to the Lambda function with no processing. It also means that the return value must be a proper response object as it will also not be processed by API Gateway.\n",
    "\n",
    "Type the name of the Lambda function you created earlier into the **Lambda Function** text entry box and then click on **Save**. Click on **OK** in the pop-up box that then appears, giving permission to API Gateway to invoke the Lambda function you created.\n",
    "\n",
    "The last step in creating the API Gateway is to select the **Actions** dropdown and click on **Deploy API**. You will need to create a new Deployment stage and name it anything you like, for example `prod`.\n",
    "\n",
    "You have now successfully set up a public API to access your SageMaker model. Make sure to copy or write down the URL provided to invoke your newly created public API as this will be needed in the next step. This URL can be found at the top of the page, highlighted in blue next to the text **Invoke URL**."
   ]
  },
  {
   "cell_type": "markdown",
   "metadata": {},
   "source": [
    "## Step 4: Deploying our web app\n",
    "\n",
    "Now that we have a publicly available API, we can start using it in a web app. For our purposes, we have provided a simple static html file which can make use of the public api you created earlier.\n",
    "\n",
    "In the `website` folder there should be a file called `index.html`. Download the file to your computer and open that file up in a text editor of your choice. There should be a line which contains **\\*\\*REPLACE WITH PUBLIC API URL\\*\\***. Replace this string with the url that you wrote down in the last step and then save the file.\n",
    "\n",
    "Now, if you open `index.html` on your local computer, your browser will behave as a local web server and you can use the provided site to interact with your SageMaker model.\n",
    "\n",
    "If you'd like to go further, you can host this html file anywhere you'd like, for example using github or hosting a static site on Amazon's S3. Once you have done this you can share the link with anyone you'd like and have them play with it too!\n",
    "\n",
    "> **Important Note** In order for the web app to communicate with the SageMaker endpoint, the endpoint has to actually be deployed and running. This means that you are paying for it. Make sure that the endpoint is running when you want to use the web app but that you shut it down when you don't need it, otherwise you will end up with a surprisingly large AWS bill.\n",
    "\n",
    "**TODO:** Make sure that you include the edited `index.html` file in your project submission."
   ]
  },
  {
   "cell_type": "markdown",
   "metadata": {},
   "source": [
    "Now that your web app is working, trying playing around with it and see how well it works.\n",
    "\n",
    "**Question**: Give an example of a review that you entered into your web app. What was the predicted sentiment of your example review?"
   ]
  },
  {
   "cell_type": "markdown",
   "metadata": {},
   "source": [
    "**Answer:** Review submitted: the movie is quite good in the sense that it demonstrates the concept of 3D view.\n",
    "\n",
    "Output: Your review was POSITIVE!"
   ]
  },
  {
   "cell_type": "markdown",
   "metadata": {},
   "source": [
    "### Delete the endpoint\n",
    "\n",
    "Remember to always shut down your endpoint if you are no longer using it. You are charged for the length of time that the endpoint is running so if you forget and leave it on you could end up with an unexpectedly large bill."
   ]
  },
  {
   "cell_type": "code",
   "execution_count": 72,
   "metadata": {},
   "outputs": [
    {
     "name": "stderr",
     "output_type": "stream",
     "text": [
      "INFO:sagemaker:Deleting endpoint with name: sagemaker-pytorch-2019-02-20-12-41-02-146\n"
     ]
    }
   ],
   "source": [
    "predictor.delete_endpoint()"
   ]
  },
  {
   "cell_type": "code",
   "execution_count": null,
   "metadata": {},
   "outputs": [],
   "source": []
  }
 ],
 "metadata": {
  "kernelspec": {
   "display_name": "conda_pytorch_p36",
   "language": "python",
   "name": "conda_pytorch_p36"
  },
  "language_info": {
   "codemirror_mode": {
    "name": "ipython",
    "version": 3
   },
   "file_extension": ".py",
   "mimetype": "text/x-python",
   "name": "python",
   "nbconvert_exporter": "python",
   "pygments_lexer": "ipython3",
   "version": "3.6.5"
  }
 },
 "nbformat": 4,
 "nbformat_minor": 2
}
